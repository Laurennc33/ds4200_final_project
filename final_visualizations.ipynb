{
 "cells": [
  {
   "cell_type": "code",
   "execution_count": 9,
   "id": "e1aeacdc-bc76-4420-99cd-c459652aafff",
   "metadata": {},
   "outputs": [
    {
     "data": {
      "application/vnd.plotly.v1+json": {
       "config": {
        "plotlyServerURL": "https://plot.ly"
       },
       "data": [
        {
         "coloraxis": "coloraxis",
         "customdata": [
          [
           [
            "Highly selective private",
            "Other elite schools (public and private)",
            "Selective private"
           ]
          ],
          [
           [
            "Highly selective private",
            "Other elite schools (public and private)",
            "Selective private"
           ]
          ],
          [
           [
            "Highly selective private",
            "Other elite schools (public and private)",
            "Selective private"
           ]
          ],
          [
           [
            "Highly selective private",
            "Other elite schools (public and private)",
            "Selective private"
           ]
          ],
          [
           [
            "Highly selective private",
            "Other elite schools (public and private)",
            "Selective private"
           ]
          ],
          [
           [
            "Highly selective private",
            "Other elite schools (public and private)",
            "Selective private"
           ]
          ],
          [
           [
            "Highly selective private",
            "Other elite schools (public and private)",
            "Selective private"
           ]
          ],
          [
           [
            "Highly selective private",
            "Other elite schools (public and private)",
            "Selective private"
           ]
          ],
          [
           [
            "Highly selective private",
            "Other elite schools (public and private)",
            "Selective private"
           ]
          ],
          [
           [
            "Highly selective private",
            "Other elite schools (public and private)",
            "Selective private"
           ]
          ],
          [
           [
            "Highly selective private",
            "Other elite schools (public and private)",
            "Selective private"
           ]
          ],
          [
           [
            "Highly selective private",
            "Other elite schools (public and private)",
            "Selective private"
           ]
          ],
          [
           [
            "Highly selective private",
            "Other elite schools (public and private)",
            "Selective private"
           ]
          ],
          [
           [
            "Highly selective private",
            "Other elite schools (public and private)",
            "Selective private"
           ]
          ],
          [
           [
            "Other elite schools (public and private)",
            "Highly selective private",
            "Ivy Plus"
           ]
          ],
          [
           [
            "Other elite schools (public and private)",
            "Highly selective private",
            "Ivy Plus"
           ]
          ],
          [
           [
            "Other elite schools (public and private)",
            "Highly selective private",
            "Ivy Plus"
           ]
          ],
          [
           [
            "Other elite schools (public and private)",
            "Highly selective private",
            "Ivy Plus"
           ]
          ],
          [
           [
            "Other elite schools (public and private)",
            "Highly selective private",
            "Ivy Plus"
           ]
          ],
          [
           [
            "Other elite schools (public and private)",
            "Highly selective private",
            "Ivy Plus"
           ]
          ],
          [
           [
            "Other elite schools (public and private)",
            "Highly selective private",
            "Ivy Plus"
           ]
          ],
          [
           [
            "Other elite schools (public and private)",
            "Highly selective private",
            "Ivy Plus"
           ]
          ],
          [
           [
            "Other elite schools (public and private)",
            "Highly selective private",
            "Ivy Plus"
           ]
          ],
          [
           [
            "Other elite schools (public and private)",
            "Highly selective private",
            "Ivy Plus"
           ]
          ],
          [
           [
            "Other elite schools (public and private)",
            "Highly selective private",
            "Ivy Plus"
           ]
          ],
          [
           [
            "Other elite schools (public and private)",
            "Highly selective private",
            "Ivy Plus"
           ]
          ],
          [
           [
            "Other elite schools (public and private)",
            "Highly selective private",
            "Ivy Plus"
           ]
          ],
          [
           [
            "Other elite schools (public and private)",
            "Highly selective private",
            "Ivy Plus"
           ]
          ],
          [
           [
            "Selective public"
           ]
          ],
          [
           [
            "Selective public"
           ]
          ],
          [
           [
            "Selective public"
           ]
          ],
          [
           [
            "Selective public"
           ]
          ],
          [
           [
            "Selective public"
           ]
          ],
          [
           [
            "Selective public"
           ]
          ],
          [
           [
            "Selective public"
           ]
          ],
          [
           [
            "Selective public"
           ]
          ],
          [
           [
            "Selective public"
           ]
          ],
          [
           [
            "Selective public"
           ]
          ],
          [
           [
            "Selective public"
           ]
          ],
          [
           [
            "Selective public"
           ]
          ],
          [
           [
            "Selective public"
           ]
          ],
          [
           [
            "Selective public"
           ]
          ],
          [
           [
            "Other elite schools (public and private)",
            "Highly selective public",
            "Ivy Plus",
            "Highly selective private",
            "Selective public",
            "Selective private"
           ]
          ],
          [
           [
            "Other elite schools (public and private)",
            "Highly selective public",
            "Ivy Plus",
            "Highly selective private",
            "Selective public",
            "Selective private"
           ]
          ],
          [
           [
            "Other elite schools (public and private)",
            "Highly selective public",
            "Ivy Plus",
            "Highly selective private",
            "Selective public",
            "Selective private"
           ]
          ],
          [
           [
            "Other elite schools (public and private)",
            "Highly selective public",
            "Ivy Plus",
            "Highly selective private",
            "Selective public",
            "Selective private"
           ]
          ],
          [
           [
            "Other elite schools (public and private)",
            "Highly selective public",
            "Ivy Plus",
            "Highly selective private",
            "Selective public",
            "Selective private"
           ]
          ],
          [
           [
            "Other elite schools (public and private)",
            "Highly selective public",
            "Ivy Plus",
            "Highly selective private",
            "Selective public",
            "Selective private"
           ]
          ],
          [
           [
            "Other elite schools (public and private)",
            "Highly selective public",
            "Ivy Plus",
            "Highly selective private",
            "Selective public",
            "Selective private"
           ]
          ],
          [
           [
            "Other elite schools (public and private)",
            "Highly selective public",
            "Ivy Plus",
            "Highly selective private",
            "Selective public",
            "Selective private"
           ]
          ],
          [
           [
            "Other elite schools (public and private)",
            "Highly selective public",
            "Ivy Plus",
            "Highly selective private",
            "Selective public",
            "Selective private"
           ]
          ],
          [
           [
            "Other elite schools (public and private)",
            "Highly selective public",
            "Ivy Plus",
            "Highly selective private",
            "Selective public",
            "Selective private"
           ]
          ],
          [
           [
            "Other elite schools (public and private)",
            "Highly selective public",
            "Ivy Plus",
            "Highly selective private",
            "Selective public",
            "Selective private"
           ]
          ],
          [
           [
            "Other elite schools (public and private)",
            "Highly selective public",
            "Ivy Plus",
            "Highly selective private",
            "Selective public",
            "Selective private"
           ]
          ],
          [
           [
            "Other elite schools (public and private)",
            "Highly selective public",
            "Ivy Plus",
            "Highly selective private",
            "Selective public",
            "Selective private"
           ]
          ],
          [
           [
            "Other elite schools (public and private)",
            "Highly selective public",
            "Ivy Plus",
            "Highly selective private",
            "Selective public",
            "Selective private"
           ]
          ],
          [
           [
            "Other elite schools (public and private)"
           ]
          ],
          [
           [
            "Other elite schools (public and private)"
           ]
          ],
          [
           [
            "Other elite schools (public and private)"
           ]
          ],
          [
           [
            "Other elite schools (public and private)"
           ]
          ],
          [
           [
            "Other elite schools (public and private)"
           ]
          ],
          [
           [
            "Other elite schools (public and private)"
           ]
          ],
          [
           [
            "Other elite schools (public and private)"
           ]
          ],
          [
           [
            "Other elite schools (public and private)"
           ]
          ],
          [
           [
            "Other elite schools (public and private)"
           ]
          ],
          [
           [
            "Other elite schools (public and private)"
           ]
          ],
          [
           [
            "Other elite schools (public and private)"
           ]
          ],
          [
           [
            "Other elite schools (public and private)"
           ]
          ],
          [
           [
            "Other elite schools (public and private)"
           ]
          ],
          [
           [
            "Other elite schools (public and private)"
           ]
          ],
          [
           [
            "Highly selective private",
            "Other elite schools (public and private)",
            "Highly selective public"
           ]
          ],
          [
           [
            "Highly selective private",
            "Other elite schools (public and private)",
            "Highly selective public"
           ]
          ],
          [
           [
            "Highly selective private",
            "Other elite schools (public and private)",
            "Highly selective public"
           ]
          ],
          [
           [
            "Highly selective private",
            "Other elite schools (public and private)",
            "Highly selective public"
           ]
          ],
          [
           [
            "Highly selective private",
            "Other elite schools (public and private)",
            "Highly selective public"
           ]
          ],
          [
           [
            "Highly selective private",
            "Other elite schools (public and private)",
            "Highly selective public"
           ]
          ],
          [
           [
            "Highly selective private",
            "Other elite schools (public and private)",
            "Highly selective public"
           ]
          ],
          [
           [
            "Highly selective private",
            "Other elite schools (public and private)",
            "Highly selective public"
           ]
          ],
          [
           [
            "Highly selective private",
            "Other elite schools (public and private)",
            "Highly selective public"
           ]
          ],
          [
           [
            "Highly selective private",
            "Other elite schools (public and private)",
            "Highly selective public"
           ]
          ],
          [
           [
            "Highly selective private",
            "Other elite schools (public and private)",
            "Highly selective public"
           ]
          ],
          [
           [
            "Highly selective private",
            "Other elite schools (public and private)",
            "Highly selective public"
           ]
          ],
          [
           [
            "Highly selective private",
            "Other elite schools (public and private)",
            "Highly selective public"
           ]
          ],
          [
           [
            "Highly selective private",
            "Other elite schools (public and private)",
            "Highly selective public"
           ]
          ],
          [
           [
            "Other elite schools (public and private)",
            "Highly selective public",
            "Ivy Plus",
            "Highly selective private",
            "Selective public",
            "Selective private"
           ]
          ],
          [
           [
            "Other elite schools (public and private)",
            "Highly selective public",
            "Ivy Plus",
            "Highly selective private",
            "Selective public",
            "Selective private"
           ]
          ],
          [
           [
            "Other elite schools (public and private)",
            "Highly selective public",
            "Ivy Plus",
            "Highly selective private",
            "Selective public",
            "Selective private"
           ]
          ],
          [
           [
            "Other elite schools (public and private)",
            "Highly selective public",
            "Ivy Plus",
            "Highly selective private",
            "Selective public",
            "Selective private"
           ]
          ],
          [
           [
            "Other elite schools (public and private)",
            "Highly selective public",
            "Ivy Plus",
            "Highly selective private",
            "Selective public",
            "Selective private"
           ]
          ],
          [
           [
            "Other elite schools (public and private)",
            "Highly selective public",
            "Ivy Plus",
            "Highly selective private",
            "Selective public",
            "Selective private"
           ]
          ],
          [
           [
            "Other elite schools (public and private)",
            "Highly selective public",
            "Ivy Plus",
            "Highly selective private",
            "Selective public",
            "Selective private"
           ]
          ],
          [
           [
            "Other elite schools (public and private)",
            "Highly selective public",
            "Ivy Plus",
            "Highly selective private",
            "Selective public",
            "Selective private"
           ]
          ],
          [
           [
            "Other elite schools (public and private)",
            "Highly selective public",
            "Ivy Plus",
            "Highly selective private",
            "Selective public",
            "Selective private"
           ]
          ],
          [
           [
            "Other elite schools (public and private)",
            "Highly selective public",
            "Ivy Plus",
            "Highly selective private",
            "Selective public",
            "Selective private"
           ]
          ],
          [
           [
            "Other elite schools (public and private)",
            "Highly selective public",
            "Ivy Plus",
            "Highly selective private",
            "Selective public",
            "Selective private"
           ]
          ],
          [
           [
            "Other elite schools (public and private)",
            "Highly selective public",
            "Ivy Plus",
            "Highly selective private",
            "Selective public",
            "Selective private"
           ]
          ],
          [
           [
            "Other elite schools (public and private)",
            "Highly selective public",
            "Ivy Plus",
            "Highly selective private",
            "Selective public",
            "Selective private"
           ]
          ],
          [
           [
            "Other elite schools (public and private)",
            "Highly selective public",
            "Ivy Plus",
            "Highly selective private",
            "Selective public",
            "Selective private"
           ]
          ],
          [
           [
            "Other elite schools (public and private)",
            "Highly selective private",
            "Ivy Plus"
           ]
          ],
          [
           [
            "Other elite schools (public and private)",
            "Highly selective private",
            "Ivy Plus"
           ]
          ],
          [
           [
            "Other elite schools (public and private)",
            "Highly selective private",
            "Ivy Plus"
           ]
          ],
          [
           [
            "Other elite schools (public and private)",
            "Highly selective private",
            "Ivy Plus"
           ]
          ],
          [
           [
            "Other elite schools (public and private)",
            "Highly selective private",
            "Ivy Plus"
           ]
          ],
          [
           [
            "Other elite schools (public and private)",
            "Highly selective private",
            "Ivy Plus"
           ]
          ],
          [
           [
            "Other elite schools (public and private)",
            "Highly selective private",
            "Ivy Plus"
           ]
          ],
          [
           [
            "Other elite schools (public and private)",
            "Highly selective private",
            "Ivy Plus"
           ]
          ],
          [
           [
            "Other elite schools (public and private)",
            "Highly selective private",
            "Ivy Plus"
           ]
          ],
          [
           [
            "Other elite schools (public and private)",
            "Highly selective private",
            "Ivy Plus"
           ]
          ],
          [
           [
            "Other elite schools (public and private)",
            "Highly selective private",
            "Ivy Plus"
           ]
          ],
          [
           [
            "Other elite schools (public and private)",
            "Highly selective private",
            "Ivy Plus"
           ]
          ],
          [
           [
            "Other elite schools (public and private)",
            "Highly selective private",
            "Ivy Plus"
           ]
          ],
          [
           [
            "Other elite schools (public and private)",
            "Highly selective private",
            "Ivy Plus"
           ]
          ],
          [
           [
            "Other elite schools (public and private)",
            "Highly selective private",
            "Ivy Plus"
           ]
          ],
          [
           [
            "Other elite schools (public and private)",
            "Highly selective private",
            "Ivy Plus"
           ]
          ],
          [
           [
            "Other elite schools (public and private)",
            "Highly selective private",
            "Ivy Plus"
           ]
          ],
          [
           [
            "Other elite schools (public and private)",
            "Highly selective private",
            "Ivy Plus"
           ]
          ],
          [
           [
            "Other elite schools (public and private)",
            "Highly selective private",
            "Ivy Plus"
           ]
          ],
          [
           [
            "Other elite schools (public and private)",
            "Highly selective private",
            "Ivy Plus"
           ]
          ],
          [
           [
            "Other elite schools (public and private)",
            "Highly selective private",
            "Ivy Plus"
           ]
          ],
          [
           [
            "Other elite schools (public and private)",
            "Highly selective private",
            "Ivy Plus"
           ]
          ],
          [
           [
            "Other elite schools (public and private)",
            "Highly selective private",
            "Ivy Plus"
           ]
          ],
          [
           [
            "Other elite schools (public and private)",
            "Highly selective private",
            "Ivy Plus"
           ]
          ],
          [
           [
            "Other elite schools (public and private)",
            "Highly selective private",
            "Ivy Plus"
           ]
          ],
          [
           [
            "Other elite schools (public and private)",
            "Highly selective private",
            "Ivy Plus"
           ]
          ],
          [
           [
            "Other elite schools (public and private)",
            "Highly selective private",
            "Ivy Plus"
           ]
          ],
          [
           [
            "Other elite schools (public and private)",
            "Highly selective private",
            "Ivy Plus"
           ]
          ],
          [
           [
            "Other elite schools (public and private)"
           ]
          ],
          [
           [
            "Other elite schools (public and private)"
           ]
          ],
          [
           [
            "Other elite schools (public and private)"
           ]
          ],
          [
           [
            "Other elite schools (public and private)"
           ]
          ],
          [
           [
            "Other elite schools (public and private)"
           ]
          ],
          [
           [
            "Other elite schools (public and private)"
           ]
          ],
          [
           [
            "Other elite schools (public and private)"
           ]
          ],
          [
           [
            "Other elite schools (public and private)"
           ]
          ],
          [
           [
            "Other elite schools (public and private)"
           ]
          ],
          [
           [
            "Other elite schools (public and private)"
           ]
          ],
          [
           [
            "Other elite schools (public and private)"
           ]
          ],
          [
           [
            "Other elite schools (public and private)"
           ]
          ],
          [
           [
            "Other elite schools (public and private)"
           ]
          ],
          [
           [
            "Other elite schools (public and private)"
           ]
          ],
          [
           [
            "Other elite schools (public and private)",
            "Highly selective private",
            "Ivy Plus"
           ]
          ],
          [
           [
            "Other elite schools (public and private)",
            "Highly selective private",
            "Ivy Plus"
           ]
          ],
          [
           [
            "Other elite schools (public and private)",
            "Highly selective private",
            "Ivy Plus"
           ]
          ],
          [
           [
            "Other elite schools (public and private)",
            "Highly selective private",
            "Ivy Plus"
           ]
          ],
          [
           [
            "Other elite schools (public and private)",
            "Highly selective private",
            "Ivy Plus"
           ]
          ],
          [
           [
            "Other elite schools (public and private)",
            "Highly selective private",
            "Ivy Plus"
           ]
          ],
          [
           [
            "Other elite schools (public and private)",
            "Highly selective private",
            "Ivy Plus"
           ]
          ],
          [
           [
            "Other elite schools (public and private)",
            "Highly selective private",
            "Ivy Plus"
           ]
          ],
          [
           [
            "Other elite schools (public and private)",
            "Highly selective private",
            "Ivy Plus"
           ]
          ],
          [
           [
            "Other elite schools (public and private)",
            "Highly selective private",
            "Ivy Plus"
           ]
          ],
          [
           [
            "Other elite schools (public and private)",
            "Highly selective private",
            "Ivy Plus"
           ]
          ],
          [
           [
            "Other elite schools (public and private)",
            "Highly selective private",
            "Ivy Plus"
           ]
          ],
          [
           [
            "Other elite schools (public and private)",
            "Highly selective private",
            "Ivy Plus"
           ]
          ],
          [
           [
            "Other elite schools (public and private)",
            "Highly selective private",
            "Ivy Plus"
           ]
          ],
          [
           [
            "Selective private",
            "Selective public"
           ]
          ],
          [
           [
            "Selective private",
            "Selective public"
           ]
          ],
          [
           [
            "Selective private",
            "Selective public"
           ]
          ],
          [
           [
            "Selective private",
            "Selective public"
           ]
          ],
          [
           [
            "Selective private",
            "Selective public"
           ]
          ],
          [
           [
            "Selective private",
            "Selective public"
           ]
          ],
          [
           [
            "Selective private",
            "Selective public"
           ]
          ],
          [
           [
            "Selective private",
            "Selective public"
           ]
          ],
          [
           [
            "Selective private",
            "Selective public"
           ]
          ],
          [
           [
            "Selective private",
            "Selective public"
           ]
          ],
          [
           [
            "Selective private",
            "Selective public"
           ]
          ],
          [
           [
            "Selective private",
            "Selective public"
           ]
          ],
          [
           [
            "Selective private",
            "Selective public"
           ]
          ],
          [
           [
            "Selective private",
            "Selective public"
           ]
          ],
          [
           [
            "Ivy Plus"
           ]
          ],
          [
           [
            "Ivy Plus"
           ]
          ],
          [
           [
            "Ivy Plus"
           ]
          ],
          [
           [
            "Ivy Plus"
           ]
          ],
          [
           [
            "Ivy Plus"
           ]
          ],
          [
           [
            "Ivy Plus"
           ]
          ],
          [
           [
            "Ivy Plus"
           ]
          ],
          [
           [
            "Ivy Plus"
           ]
          ],
          [
           [
            "Ivy Plus"
           ]
          ],
          [
           [
            "Ivy Plus"
           ]
          ],
          [
           [
            "Ivy Plus"
           ]
          ],
          [
           [
            "Ivy Plus"
           ]
          ],
          [
           [
            "Ivy Plus"
           ]
          ],
          [
           [
            "Ivy Plus"
           ]
          ],
          [
           [
            "Other elite schools (public and private)"
           ]
          ],
          [
           [
            "Other elite schools (public and private)"
           ]
          ],
          [
           [
            "Other elite schools (public and private)"
           ]
          ],
          [
           [
            "Other elite schools (public and private)"
           ]
          ],
          [
           [
            "Other elite schools (public and private)"
           ]
          ],
          [
           [
            "Other elite schools (public and private)"
           ]
          ],
          [
           [
            "Other elite schools (public and private)"
           ]
          ],
          [
           [
            "Other elite schools (public and private)"
           ]
          ],
          [
           [
            "Other elite schools (public and private)"
           ]
          ],
          [
           [
            "Other elite schools (public and private)"
           ]
          ],
          [
           [
            "Other elite schools (public and private)"
           ]
          ],
          [
           [
            "Other elite schools (public and private)"
           ]
          ],
          [
           [
            "Other elite schools (public and private)"
           ]
          ],
          [
           [
            "Other elite schools (public and private)"
           ]
          ],
          [
           [
            "Other elite schools (public and private)"
           ]
          ],
          [
           [
            "Other elite schools (public and private)"
           ]
          ],
          [
           [
            "Other elite schools (public and private)"
           ]
          ],
          [
           [
            "Other elite schools (public and private)"
           ]
          ],
          [
           [
            "Other elite schools (public and private)"
           ]
          ],
          [
           [
            "Other elite schools (public and private)"
           ]
          ],
          [
           [
            "Other elite schools (public and private)"
           ]
          ],
          [
           [
            "Other elite schools (public and private)"
           ]
          ],
          [
           [
            "Other elite schools (public and private)"
           ]
          ],
          [
           [
            "Other elite schools (public and private)"
           ]
          ],
          [
           [
            "Other elite schools (public and private)"
           ]
          ],
          [
           [
            "Other elite schools (public and private)"
           ]
          ],
          [
           [
            "Other elite schools (public and private)"
           ]
          ],
          [
           [
            "Other elite schools (public and private)"
           ]
          ],
          [
           [
            "Other elite schools (public and private)"
           ]
          ],
          [
           [
            "Other elite schools (public and private)"
           ]
          ],
          [
           [
            "Other elite schools (public and private)"
           ]
          ],
          [
           [
            "Other elite schools (public and private)"
           ]
          ],
          [
           [
            "Other elite schools (public and private)"
           ]
          ],
          [
           [
            "Other elite schools (public and private)"
           ]
          ],
          [
           [
            "Other elite schools (public and private)"
           ]
          ],
          [
           [
            "Other elite schools (public and private)"
           ]
          ],
          [
           [
            "Other elite schools (public and private)"
           ]
          ],
          [
           [
            "Other elite schools (public and private)"
           ]
          ],
          [
           [
            "Other elite schools (public and private)"
           ]
          ],
          [
           [
            "Other elite schools (public and private)"
           ]
          ],
          [
           [
            "Other elite schools (public and private)"
           ]
          ],
          [
           [
            "Other elite schools (public and private)"
           ]
          ],
          [
           [
            "Other elite schools (public and private)"
           ]
          ],
          [
           [
            "Other elite schools (public and private)"
           ]
          ],
          [
           [
            "Other elite schools (public and private)"
           ]
          ],
          [
           [
            "Other elite schools (public and private)"
           ]
          ],
          [
           [
            "Other elite schools (public and private)"
           ]
          ],
          [
           [
            "Other elite schools (public and private)"
           ]
          ],
          [
           [
            "Other elite schools (public and private)"
           ]
          ],
          [
           [
            "Other elite schools (public and private)"
           ]
          ],
          [
           [
            "Other elite schools (public and private)"
           ]
          ],
          [
           [
            "Other elite schools (public and private)"
           ]
          ],
          [
           [
            "Other elite schools (public and private)"
           ]
          ],
          [
           [
            "Other elite schools (public and private)"
           ]
          ],
          [
           [
            "Other elite schools (public and private)"
           ]
          ],
          [
           [
            "Other elite schools (public and private)"
           ]
          ],
          [
           [
            "Other elite schools (public and private)",
            "Highly selective public"
           ]
          ],
          [
           [
            "Other elite schools (public and private)",
            "Highly selective public"
           ]
          ],
          [
           [
            "Other elite schools (public and private)",
            "Highly selective public"
           ]
          ],
          [
           [
            "Other elite schools (public and private)",
            "Highly selective public"
           ]
          ],
          [
           [
            "Other elite schools (public and private)",
            "Highly selective public"
           ]
          ],
          [
           [
            "Other elite schools (public and private)",
            "Highly selective public"
           ]
          ],
          [
           [
            "Other elite schools (public and private)",
            "Highly selective public"
           ]
          ],
          [
           [
            "Other elite schools (public and private)",
            "Highly selective public"
           ]
          ],
          [
           [
            "Other elite schools (public and private)",
            "Highly selective public"
           ]
          ],
          [
           [
            "Other elite schools (public and private)",
            "Highly selective public"
           ]
          ],
          [
           [
            "Other elite schools (public and private)",
            "Highly selective public"
           ]
          ],
          [
           [
            "Other elite schools (public and private)",
            "Highly selective public"
           ]
          ],
          [
           [
            "Other elite schools (public and private)",
            "Highly selective public"
           ]
          ],
          [
           [
            "Other elite schools (public and private)",
            "Highly selective public"
           ]
          ],
          [
           [
            "Other elite schools (public and private)",
            "Highly selective private",
            "Ivy Plus"
           ]
          ],
          [
           [
            "Other elite schools (public and private)",
            "Highly selective private",
            "Ivy Plus"
           ]
          ],
          [
           [
            "Other elite schools (public and private)",
            "Highly selective private",
            "Ivy Plus"
           ]
          ],
          [
           [
            "Other elite schools (public and private)",
            "Highly selective private",
            "Ivy Plus"
           ]
          ],
          [
           [
            "Other elite schools (public and private)",
            "Highly selective private",
            "Ivy Plus"
           ]
          ],
          [
           [
            "Other elite schools (public and private)",
            "Highly selective private",
            "Ivy Plus"
           ]
          ],
          [
           [
            "Other elite schools (public and private)",
            "Highly selective private",
            "Ivy Plus"
           ]
          ],
          [
           [
            "Other elite schools (public and private)",
            "Highly selective private",
            "Ivy Plus"
           ]
          ],
          [
           [
            "Other elite schools (public and private)",
            "Highly selective private",
            "Ivy Plus"
           ]
          ],
          [
           [
            "Other elite schools (public and private)",
            "Highly selective private",
            "Ivy Plus"
           ]
          ],
          [
           [
            "Other elite schools (public and private)",
            "Highly selective private",
            "Ivy Plus"
           ]
          ],
          [
           [
            "Other elite schools (public and private)",
            "Highly selective private",
            "Ivy Plus"
           ]
          ],
          [
           [
            "Other elite schools (public and private)",
            "Highly selective private",
            "Ivy Plus"
           ]
          ],
          [
           [
            "Other elite schools (public and private)",
            "Highly selective private",
            "Ivy Plus"
           ]
          ],
          [
           [
            "Highly selective public"
           ]
          ],
          [
           [
            "Highly selective public"
           ]
          ],
          [
           [
            "Highly selective public"
           ]
          ],
          [
           [
            "Highly selective public"
           ]
          ],
          [
           [
            "Highly selective public"
           ]
          ],
          [
           [
            "Highly selective public"
           ]
          ],
          [
           [
            "Highly selective public"
           ]
          ],
          [
           [
            "Highly selective public"
           ]
          ],
          [
           [
            "Highly selective public"
           ]
          ],
          [
           [
            "Highly selective public"
           ]
          ],
          [
           [
            "Highly selective public"
           ]
          ],
          [
           [
            "Highly selective public"
           ]
          ],
          [
           [
            "Highly selective public"
           ]
          ],
          [
           [
            "Highly selective public"
           ]
          ],
          [
           [
            "Other elite schools (public and private)"
           ]
          ],
          [
           [
            "Other elite schools (public and private)"
           ]
          ],
          [
           [
            "Other elite schools (public and private)"
           ]
          ],
          [
           [
            "Other elite schools (public and private)"
           ]
          ],
          [
           [
            "Other elite schools (public and private)"
           ]
          ],
          [
           [
            "Other elite schools (public and private)"
           ]
          ],
          [
           [
            "Other elite schools (public and private)"
           ]
          ],
          [
           [
            "Other elite schools (public and private)"
           ]
          ],
          [
           [
            "Other elite schools (public and private)"
           ]
          ],
          [
           [
            "Other elite schools (public and private)"
           ]
          ],
          [
           [
            "Other elite schools (public and private)"
           ]
          ],
          [
           [
            "Other elite schools (public and private)"
           ]
          ],
          [
           [
            "Other elite schools (public and private)"
           ]
          ],
          [
           [
            "Other elite schools (public and private)"
           ]
          ],
          [
           [
            "Other elite schools (public and private)",
            "Highly selective public",
            "Ivy Plus",
            "Highly selective private",
            "Selective public",
            "Selective private"
           ]
          ],
          [
           [
            "Other elite schools (public and private)",
            "Highly selective public",
            "Ivy Plus",
            "Highly selective private",
            "Selective public",
            "Selective private"
           ]
          ],
          [
           [
            "Other elite schools (public and private)",
            "Highly selective public",
            "Ivy Plus",
            "Highly selective private",
            "Selective public",
            "Selective private"
           ]
          ],
          [
           [
            "Other elite schools (public and private)",
            "Highly selective public",
            "Ivy Plus",
            "Highly selective private",
            "Selective public",
            "Selective private"
           ]
          ],
          [
           [
            "Other elite schools (public and private)",
            "Highly selective public",
            "Ivy Plus",
            "Highly selective private",
            "Selective public",
            "Selective private"
           ]
          ],
          [
           [
            "Other elite schools (public and private)",
            "Highly selective public",
            "Ivy Plus",
            "Highly selective private",
            "Selective public",
            "Selective private"
           ]
          ],
          [
           [
            "Other elite schools (public and private)",
            "Highly selective public",
            "Ivy Plus",
            "Highly selective private",
            "Selective public",
            "Selective private"
           ]
          ],
          [
           [
            "Other elite schools (public and private)",
            "Highly selective public",
            "Ivy Plus",
            "Highly selective private",
            "Selective public",
            "Selective private"
           ]
          ],
          [
           [
            "Other elite schools (public and private)",
            "Highly selective public",
            "Ivy Plus",
            "Highly selective private",
            "Selective public",
            "Selective private"
           ]
          ],
          [
           [
            "Other elite schools (public and private)",
            "Highly selective public",
            "Ivy Plus",
            "Highly selective private",
            "Selective public",
            "Selective private"
           ]
          ],
          [
           [
            "Other elite schools (public and private)",
            "Highly selective public",
            "Ivy Plus",
            "Highly selective private",
            "Selective public",
            "Selective private"
           ]
          ],
          [
           [
            "Other elite schools (public and private)",
            "Highly selective public",
            "Ivy Plus",
            "Highly selective private",
            "Selective public",
            "Selective private"
           ]
          ],
          [
           [
            "Other elite schools (public and private)",
            "Highly selective public",
            "Ivy Plus",
            "Highly selective private",
            "Selective public",
            "Selective private"
           ]
          ],
          [
           [
            "Other elite schools (public and private)",
            "Highly selective public",
            "Ivy Plus",
            "Highly selective private",
            "Selective public",
            "Selective private"
           ]
          ],
          [
           [
            "Other elite schools (public and private)",
            "Highly selective public",
            "Ivy Plus",
            "Highly selective private",
            "Selective public",
            "Selective private"
           ]
          ],
          [
           [
            "Other elite schools (public and private)",
            "Highly selective public",
            "Ivy Plus",
            "Highly selective private",
            "Selective public",
            "Selective private"
           ]
          ],
          [
           [
            "Other elite schools (public and private)",
            "Highly selective public",
            "Ivy Plus",
            "Highly selective private",
            "Selective public",
            "Selective private"
           ]
          ],
          [
           [
            "Other elite schools (public and private)",
            "Highly selective public",
            "Ivy Plus",
            "Highly selective private",
            "Selective public",
            "Selective private"
           ]
          ],
          [
           [
            "Other elite schools (public and private)",
            "Highly selective public",
            "Ivy Plus",
            "Highly selective private",
            "Selective public",
            "Selective private"
           ]
          ],
          [
           [
            "Other elite schools (public and private)",
            "Highly selective public",
            "Ivy Plus",
            "Highly selective private",
            "Selective public",
            "Selective private"
           ]
          ],
          [
           [
            "Other elite schools (public and private)",
            "Highly selective public",
            "Ivy Plus",
            "Highly selective private",
            "Selective public",
            "Selective private"
           ]
          ],
          [
           [
            "Other elite schools (public and private)",
            "Highly selective public",
            "Ivy Plus",
            "Highly selective private",
            "Selective public",
            "Selective private"
           ]
          ],
          [
           [
            "Other elite schools (public and private)",
            "Highly selective public",
            "Ivy Plus",
            "Highly selective private",
            "Selective public",
            "Selective private"
           ]
          ],
          [
           [
            "Other elite schools (public and private)",
            "Highly selective public",
            "Ivy Plus",
            "Highly selective private",
            "Selective public",
            "Selective private"
           ]
          ],
          [
           [
            "Other elite schools (public and private)",
            "Highly selective public",
            "Ivy Plus",
            "Highly selective private",
            "Selective public",
            "Selective private"
           ]
          ],
          [
           [
            "Other elite schools (public and private)",
            "Highly selective public",
            "Ivy Plus",
            "Highly selective private",
            "Selective public",
            "Selective private"
           ]
          ],
          [
           [
            "Other elite schools (public and private)",
            "Highly selective public",
            "Ivy Plus",
            "Highly selective private",
            "Selective public",
            "Selective private"
           ]
          ],
          [
           [
            "Other elite schools (public and private)",
            "Highly selective public",
            "Ivy Plus",
            "Highly selective private",
            "Selective public",
            "Selective private"
           ]
          ],
          [
           [
            "Other elite schools (public and private)",
            "Highly selective private",
            "Highly selective public",
            "Ivy Plus"
           ]
          ],
          [
           [
            "Other elite schools (public and private)",
            "Highly selective private",
            "Highly selective public",
            "Ivy Plus"
           ]
          ],
          [
           [
            "Other elite schools (public and private)",
            "Highly selective private",
            "Highly selective public",
            "Ivy Plus"
           ]
          ],
          [
           [
            "Other elite schools (public and private)",
            "Highly selective private",
            "Highly selective public",
            "Ivy Plus"
           ]
          ],
          [
           [
            "Other elite schools (public and private)",
            "Highly selective private",
            "Highly selective public",
            "Ivy Plus"
           ]
          ],
          [
           [
            "Other elite schools (public and private)",
            "Highly selective private",
            "Highly selective public",
            "Ivy Plus"
           ]
          ],
          [
           [
            "Other elite schools (public and private)",
            "Highly selective private",
            "Highly selective public",
            "Ivy Plus"
           ]
          ],
          [
           [
            "Other elite schools (public and private)",
            "Highly selective private",
            "Highly selective public",
            "Ivy Plus"
           ]
          ],
          [
           [
            "Other elite schools (public and private)",
            "Highly selective private",
            "Highly selective public",
            "Ivy Plus"
           ]
          ],
          [
           [
            "Other elite schools (public and private)",
            "Highly selective private",
            "Highly selective public",
            "Ivy Plus"
           ]
          ],
          [
           [
            "Other elite schools (public and private)",
            "Highly selective private",
            "Highly selective public",
            "Ivy Plus"
           ]
          ],
          [
           [
            "Other elite schools (public and private)",
            "Highly selective private",
            "Highly selective public",
            "Ivy Plus"
           ]
          ],
          [
           [
            "Other elite schools (public and private)",
            "Highly selective private",
            "Highly selective public",
            "Ivy Plus"
           ]
          ],
          [
           [
            "Other elite schools (public and private)",
            "Highly selective private",
            "Highly selective public",
            "Ivy Plus"
           ]
          ],
          [
           [
            "Other elite schools (public and private)",
            "Highly selective public",
            "Ivy Plus",
            "Highly selective private",
            "Selective public",
            "Selective private"
           ]
          ],
          [
           [
            "Other elite schools (public and private)",
            "Highly selective public",
            "Ivy Plus",
            "Highly selective private",
            "Selective public",
            "Selective private"
           ]
          ],
          [
           [
            "Other elite schools (public and private)",
            "Highly selective public",
            "Ivy Plus",
            "Highly selective private",
            "Selective public",
            "Selective private"
           ]
          ],
          [
           [
            "Other elite schools (public and private)",
            "Highly selective public",
            "Ivy Plus",
            "Highly selective private",
            "Selective public",
            "Selective private"
           ]
          ],
          [
           [
            "Other elite schools (public and private)",
            "Highly selective public",
            "Ivy Plus",
            "Highly selective private",
            "Selective public",
            "Selective private"
           ]
          ],
          [
           [
            "Other elite schools (public and private)",
            "Highly selective public",
            "Ivy Plus",
            "Highly selective private",
            "Selective public",
            "Selective private"
           ]
          ],
          [
           [
            "Other elite schools (public and private)",
            "Highly selective public",
            "Ivy Plus",
            "Highly selective private",
            "Selective public",
            "Selective private"
           ]
          ],
          [
           [
            "Other elite schools (public and private)",
            "Highly selective public",
            "Ivy Plus",
            "Highly selective private",
            "Selective public",
            "Selective private"
           ]
          ],
          [
           [
            "Other elite schools (public and private)",
            "Highly selective public",
            "Ivy Plus",
            "Highly selective private",
            "Selective public",
            "Selective private"
           ]
          ],
          [
           [
            "Other elite schools (public and private)",
            "Highly selective public",
            "Ivy Plus",
            "Highly selective private",
            "Selective public",
            "Selective private"
           ]
          ],
          [
           [
            "Other elite schools (public and private)",
            "Highly selective public",
            "Ivy Plus",
            "Highly selective private",
            "Selective public",
            "Selective private"
           ]
          ],
          [
           [
            "Other elite schools (public and private)",
            "Highly selective public",
            "Ivy Plus",
            "Highly selective private",
            "Selective public",
            "Selective private"
           ]
          ],
          [
           [
            "Other elite schools (public and private)",
            "Highly selective public",
            "Ivy Plus",
            "Highly selective private",
            "Selective public",
            "Selective private"
           ]
          ],
          [
           [
            "Other elite schools (public and private)",
            "Highly selective public",
            "Ivy Plus",
            "Highly selective private",
            "Selective public",
            "Selective private"
           ]
          ],
          [
           [
            "Ivy Plus",
            "Selective public"
           ]
          ],
          [
           [
            "Ivy Plus",
            "Selective public"
           ]
          ],
          [
           [
            "Ivy Plus",
            "Selective public"
           ]
          ],
          [
           [
            "Ivy Plus",
            "Selective public"
           ]
          ],
          [
           [
            "Ivy Plus",
            "Selective public"
           ]
          ],
          [
           [
            "Ivy Plus",
            "Selective public"
           ]
          ],
          [
           [
            "Ivy Plus",
            "Selective public"
           ]
          ],
          [
           [
            "Ivy Plus",
            "Selective public"
           ]
          ],
          [
           [
            "Ivy Plus",
            "Selective public"
           ]
          ],
          [
           [
            "Ivy Plus",
            "Selective public"
           ]
          ],
          [
           [
            "Ivy Plus",
            "Selective public"
           ]
          ],
          [
           [
            "Ivy Plus",
            "Selective public"
           ]
          ],
          [
           [
            "Ivy Plus",
            "Selective public"
           ]
          ],
          [
           [
            "Ivy Plus",
            "Selective public"
           ]
          ],
          [
           [
            "Other elite schools (public and private)",
            "Ivy Plus",
            "Highly selective private",
            "Selective public"
           ]
          ],
          [
           [
            "Other elite schools (public and private)",
            "Ivy Plus",
            "Highly selective private",
            "Selective public"
           ]
          ],
          [
           [
            "Other elite schools (public and private)",
            "Ivy Plus",
            "Highly selective private",
            "Selective public"
           ]
          ],
          [
           [
            "Other elite schools (public and private)",
            "Ivy Plus",
            "Highly selective private",
            "Selective public"
           ]
          ],
          [
           [
            "Other elite schools (public and private)",
            "Ivy Plus",
            "Highly selective private",
            "Selective public"
           ]
          ],
          [
           [
            "Other elite schools (public and private)",
            "Ivy Plus",
            "Highly selective private",
            "Selective public"
           ]
          ],
          [
           [
            "Other elite schools (public and private)",
            "Ivy Plus",
            "Highly selective private",
            "Selective public"
           ]
          ],
          [
           [
            "Other elite schools (public and private)",
            "Ivy Plus",
            "Highly selective private",
            "Selective public"
           ]
          ],
          [
           [
            "Other elite schools (public and private)",
            "Ivy Plus",
            "Highly selective private",
            "Selective public"
           ]
          ],
          [
           [
            "Other elite schools (public and private)",
            "Ivy Plus",
            "Highly selective private",
            "Selective public"
           ]
          ],
          [
           [
            "Other elite schools (public and private)",
            "Ivy Plus",
            "Highly selective private",
            "Selective public"
           ]
          ],
          [
           [
            "Other elite schools (public and private)",
            "Ivy Plus",
            "Highly selective private",
            "Selective public"
           ]
          ],
          [
           [
            "Other elite schools (public and private)",
            "Ivy Plus",
            "Highly selective private",
            "Selective public"
           ]
          ],
          [
           [
            "Other elite schools (public and private)",
            "Ivy Plus",
            "Highly selective private",
            "Selective public"
           ]
          ],
          [
           [
            "Other elite schools (public and private)",
            "Ivy Plus",
            "Highly selective private",
            "Selective public"
           ]
          ],
          [
           [
            "Other elite schools (public and private)",
            "Ivy Plus",
            "Highly selective private",
            "Selective public"
           ]
          ],
          [
           [
            "Other elite schools (public and private)",
            "Ivy Plus",
            "Highly selective private",
            "Selective public"
           ]
          ],
          [
           [
            "Other elite schools (public and private)",
            "Ivy Plus",
            "Highly selective private",
            "Selective public"
           ]
          ],
          [
           [
            "Other elite schools (public and private)",
            "Ivy Plus",
            "Highly selective private",
            "Selective public"
           ]
          ],
          [
           [
            "Other elite schools (public and private)",
            "Ivy Plus",
            "Highly selective private",
            "Selective public"
           ]
          ],
          [
           [
            "Other elite schools (public and private)",
            "Ivy Plus",
            "Highly selective private",
            "Selective public"
           ]
          ],
          [
           [
            "Other elite schools (public and private)",
            "Ivy Plus",
            "Highly selective private",
            "Selective public"
           ]
          ],
          [
           [
            "Other elite schools (public and private)",
            "Ivy Plus",
            "Highly selective private",
            "Selective public"
           ]
          ],
          [
           [
            "Other elite schools (public and private)",
            "Ivy Plus",
            "Highly selective private",
            "Selective public"
           ]
          ],
          [
           [
            "Other elite schools (public and private)",
            "Ivy Plus",
            "Highly selective private",
            "Selective public"
           ]
          ],
          [
           [
            "Other elite schools (public and private)",
            "Ivy Plus",
            "Highly selective private",
            "Selective public"
           ]
          ],
          [
           [
            "Other elite schools (public and private)",
            "Ivy Plus",
            "Highly selective private",
            "Selective public"
           ]
          ],
          [
           [
            "Other elite schools (public and private)",
            "Ivy Plus",
            "Highly selective private",
            "Selective public"
           ]
          ],
          [
           [
            "Other elite schools (public and private)",
            "Ivy Plus",
            "Highly selective private",
            "Selective public"
           ]
          ],
          [
           [
            "Other elite schools (public and private)",
            "Ivy Plus",
            "Highly selective private",
            "Selective public"
           ]
          ],
          [
           [
            "Other elite schools (public and private)",
            "Ivy Plus",
            "Highly selective private",
            "Selective public"
           ]
          ],
          [
           [
            "Other elite schools (public and private)",
            "Ivy Plus",
            "Highly selective private",
            "Selective public"
           ]
          ],
          [
           [
            "Other elite schools (public and private)",
            "Ivy Plus",
            "Highly selective private",
            "Selective public"
           ]
          ],
          [
           [
            "Other elite schools (public and private)",
            "Ivy Plus",
            "Highly selective private",
            "Selective public"
           ]
          ],
          [
           [
            "Other elite schools (public and private)",
            "Ivy Plus",
            "Highly selective private",
            "Selective public"
           ]
          ],
          [
           [
            "Other elite schools (public and private)",
            "Ivy Plus",
            "Highly selective private",
            "Selective public"
           ]
          ],
          [
           [
            "Other elite schools (public and private)",
            "Ivy Plus",
            "Highly selective private",
            "Selective public"
           ]
          ],
          [
           [
            "Other elite schools (public and private)",
            "Ivy Plus",
            "Highly selective private",
            "Selective public"
           ]
          ],
          [
           [
            "Other elite schools (public and private)",
            "Ivy Plus",
            "Highly selective private",
            "Selective public"
           ]
          ],
          [
           [
            "Other elite schools (public and private)",
            "Ivy Plus",
            "Highly selective private",
            "Selective public"
           ]
          ],
          [
           [
            "Other elite schools (public and private)",
            "Ivy Plus",
            "Highly selective private",
            "Selective public"
           ]
          ],
          [
           [
            "Other elite schools (public and private)",
            "Ivy Plus",
            "Highly selective private",
            "Selective public"
           ]
          ],
          [
           [
            "Other elite schools (public and private)",
            "Highly selective public"
           ]
          ],
          [
           [
            "Other elite schools (public and private)",
            "Highly selective public"
           ]
          ],
          [
           [
            "Other elite schools (public and private)",
            "Highly selective public"
           ]
          ],
          [
           [
            "Other elite schools (public and private)",
            "Highly selective public"
           ]
          ],
          [
           [
            "Other elite schools (public and private)",
            "Highly selective public"
           ]
          ],
          [
           [
            "Other elite schools (public and private)",
            "Highly selective public"
           ]
          ],
          [
           [
            "Other elite schools (public and private)",
            "Highly selective public"
           ]
          ],
          [
           [
            "Other elite schools (public and private)",
            "Highly selective public"
           ]
          ],
          [
           [
            "Other elite schools (public and private)",
            "Highly selective public"
           ]
          ],
          [
           [
            "Other elite schools (public and private)",
            "Highly selective public"
           ]
          ],
          [
           [
            "Other elite schools (public and private)",
            "Highly selective public"
           ]
          ],
          [
           [
            "Other elite schools (public and private)",
            "Highly selective public"
           ]
          ],
          [
           [
            "Other elite schools (public and private)",
            "Highly selective public"
           ]
          ],
          [
           [
            "Other elite schools (public and private)",
            "Highly selective public"
           ]
          ],
          [
           [
            "Selective public",
            "Highly selective public",
            "Other elite schools (public and private)"
           ]
          ],
          [
           [
            "Selective public",
            "Highly selective public",
            "Other elite schools (public and private)"
           ]
          ],
          [
           [
            "Selective public",
            "Highly selective public",
            "Other elite schools (public and private)"
           ]
          ],
          [
           [
            "Selective public",
            "Highly selective public",
            "Other elite schools (public and private)"
           ]
          ],
          [
           [
            "Selective public",
            "Highly selective public",
            "Other elite schools (public and private)"
           ]
          ],
          [
           [
            "Selective public",
            "Highly selective public",
            "Other elite schools (public and private)"
           ]
          ],
          [
           [
            "Selective public",
            "Highly selective public",
            "Other elite schools (public and private)"
           ]
          ],
          [
           [
            "Selective public",
            "Highly selective public",
            "Other elite schools (public and private)"
           ]
          ],
          [
           [
            "Selective public",
            "Highly selective public",
            "Other elite schools (public and private)"
           ]
          ],
          [
           [
            "Selective public",
            "Highly selective public",
            "Other elite schools (public and private)"
           ]
          ],
          [
           [
            "Selective public",
            "Highly selective public",
            "Other elite schools (public and private)"
           ]
          ],
          [
           [
            "Selective public",
            "Highly selective public",
            "Other elite schools (public and private)"
           ]
          ],
          [
           [
            "Selective public",
            "Highly selective public",
            "Other elite schools (public and private)"
           ]
          ],
          [
           [
            "Selective public",
            "Highly selective public",
            "Other elite schools (public and private)"
           ]
          ],
          [
           [
            "Other elite schools (public and private)",
            "Highly selective public",
            "Ivy Plus",
            "Highly selective private",
            "Selective public",
            "Selective private"
           ]
          ],
          [
           [
            "Other elite schools (public and private)",
            "Highly selective public",
            "Ivy Plus",
            "Highly selective private",
            "Selective public",
            "Selective private"
           ]
          ],
          [
           [
            "Other elite schools (public and private)",
            "Highly selective public",
            "Ivy Plus",
            "Highly selective private",
            "Selective public",
            "Selective private"
           ]
          ],
          [
           [
            "Other elite schools (public and private)",
            "Highly selective public",
            "Ivy Plus",
            "Highly selective private",
            "Selective public",
            "Selective private"
           ]
          ],
          [
           [
            "Other elite schools (public and private)",
            "Highly selective public",
            "Ivy Plus",
            "Highly selective private",
            "Selective public",
            "Selective private"
           ]
          ],
          [
           [
            "Other elite schools (public and private)",
            "Highly selective public",
            "Ivy Plus",
            "Highly selective private",
            "Selective public",
            "Selective private"
           ]
          ],
          [
           [
            "Other elite schools (public and private)",
            "Highly selective public",
            "Ivy Plus",
            "Highly selective private",
            "Selective public",
            "Selective private"
           ]
          ],
          [
           [
            "Other elite schools (public and private)",
            "Highly selective public",
            "Ivy Plus",
            "Highly selective private",
            "Selective public",
            "Selective private"
           ]
          ],
          [
           [
            "Other elite schools (public and private)",
            "Highly selective public",
            "Ivy Plus",
            "Highly selective private",
            "Selective public",
            "Selective private"
           ]
          ],
          [
           [
            "Other elite schools (public and private)",
            "Highly selective public",
            "Ivy Plus",
            "Highly selective private",
            "Selective public",
            "Selective private"
           ]
          ],
          [
           [
            "Other elite schools (public and private)",
            "Highly selective public",
            "Ivy Plus",
            "Highly selective private",
            "Selective public",
            "Selective private"
           ]
          ],
          [
           [
            "Other elite schools (public and private)",
            "Highly selective public",
            "Ivy Plus",
            "Highly selective private",
            "Selective public",
            "Selective private"
           ]
          ],
          [
           [
            "Other elite schools (public and private)",
            "Highly selective public",
            "Ivy Plus",
            "Highly selective private",
            "Selective public",
            "Selective private"
           ]
          ],
          [
           [
            "Other elite schools (public and private)",
            "Highly selective public",
            "Ivy Plus",
            "Highly selective private",
            "Selective public",
            "Selective private"
           ]
          ],
          [
           [
            "Other elite schools (public and private)"
           ]
          ],
          [
           [
            "Other elite schools (public and private)"
           ]
          ],
          [
           [
            "Other elite schools (public and private)"
           ]
          ],
          [
           [
            "Other elite schools (public and private)"
           ]
          ],
          [
           [
            "Other elite schools (public and private)"
           ]
          ],
          [
           [
            "Other elite schools (public and private)"
           ]
          ],
          [
           [
            "Other elite schools (public and private)"
           ]
          ],
          [
           [
            "Other elite schools (public and private)"
           ]
          ],
          [
           [
            "Other elite schools (public and private)"
           ]
          ],
          [
           [
            "Other elite schools (public and private)"
           ]
          ],
          [
           [
            "Other elite schools (public and private)"
           ]
          ],
          [
           [
            "Other elite schools (public and private)"
           ]
          ],
          [
           [
            "Other elite schools (public and private)"
           ]
          ],
          [
           [
            "Other elite schools (public and private)"
           ]
          ],
          [
           [
            "Highly selective private",
            "Other elite schools (public and private)",
            "Selective private"
           ]
          ],
          [
           [
            "Highly selective private",
            "Other elite schools (public and private)",
            "Selective private"
           ]
          ],
          [
           [
            "Highly selective private",
            "Other elite schools (public and private)",
            "Selective private"
           ]
          ],
          [
           [
            "Highly selective private",
            "Other elite schools (public and private)",
            "Selective private"
           ]
          ],
          [
           [
            "Highly selective private",
            "Other elite schools (public and private)",
            "Selective private"
           ]
          ],
          [
           [
            "Highly selective private",
            "Other elite schools (public and private)",
            "Selective private"
           ]
          ],
          [
           [
            "Highly selective private",
            "Other elite schools (public and private)",
            "Selective private"
           ]
          ],
          [
           [
            "Highly selective private",
            "Other elite schools (public and private)",
            "Selective private"
           ]
          ],
          [
           [
            "Highly selective private",
            "Other elite schools (public and private)",
            "Selective private"
           ]
          ],
          [
           [
            "Highly selective private",
            "Other elite schools (public and private)",
            "Selective private"
           ]
          ],
          [
           [
            "Highly selective private",
            "Other elite schools (public and private)",
            "Selective private"
           ]
          ],
          [
           [
            "Highly selective private",
            "Other elite schools (public and private)",
            "Selective private"
           ]
          ],
          [
           [
            "Highly selective private",
            "Other elite schools (public and private)",
            "Selective private"
           ]
          ],
          [
           [
            "Highly selective private",
            "Other elite schools (public and private)",
            "Selective private"
           ]
          ],
          [
           [
            "Highly selective private",
            "Other elite schools (public and private)",
            "Selective private"
           ]
          ],
          [
           [
            "Highly selective private",
            "Other elite schools (public and private)",
            "Selective private"
           ]
          ],
          [
           [
            "Highly selective private",
            "Other elite schools (public and private)",
            "Selective private"
           ]
          ],
          [
           [
            "Highly selective private",
            "Other elite schools (public and private)",
            "Selective private"
           ]
          ],
          [
           [
            "Highly selective private",
            "Other elite schools (public and private)",
            "Selective private"
           ]
          ],
          [
           [
            "Highly selective private",
            "Other elite schools (public and private)",
            "Selective private"
           ]
          ],
          [
           [
            "Highly selective private",
            "Other elite schools (public and private)",
            "Selective private"
           ]
          ],
          [
           [
            "Highly selective private",
            "Other elite schools (public and private)",
            "Selective private"
           ]
          ],
          [
           [
            "Highly selective private",
            "Other elite schools (public and private)",
            "Selective private"
           ]
          ],
          [
           [
            "Highly selective private",
            "Other elite schools (public and private)",
            "Selective private"
           ]
          ],
          [
           [
            "Highly selective private",
            "Other elite schools (public and private)",
            "Selective private"
           ]
          ],
          [
           [
            "Highly selective private",
            "Other elite schools (public and private)",
            "Selective private"
           ]
          ],
          [
           [
            "Highly selective private",
            "Other elite schools (public and private)",
            "Selective private"
           ]
          ],
          [
           [
            "Highly selective private",
            "Other elite schools (public and private)",
            "Selective private"
           ]
          ],
          [
           [
            "Other elite schools (public and private)",
            "Highly selective public"
           ]
          ],
          [
           [
            "Other elite schools (public and private)",
            "Highly selective public"
           ]
          ],
          [
           [
            "Other elite schools (public and private)",
            "Highly selective public"
           ]
          ],
          [
           [
            "Other elite schools (public and private)",
            "Highly selective public"
           ]
          ],
          [
           [
            "Other elite schools (public and private)",
            "Highly selective public"
           ]
          ],
          [
           [
            "Other elite schools (public and private)",
            "Highly selective public"
           ]
          ],
          [
           [
            "Other elite schools (public and private)",
            "Highly selective public"
           ]
          ],
          [
           [
            "Other elite schools (public and private)",
            "Highly selective public"
           ]
          ],
          [
           [
            "Other elite schools (public and private)",
            "Highly selective public"
           ]
          ],
          [
           [
            "Other elite schools (public and private)",
            "Highly selective public"
           ]
          ],
          [
           [
            "Other elite schools (public and private)",
            "Highly selective public"
           ]
          ],
          [
           [
            "Other elite schools (public and private)",
            "Highly selective public"
           ]
          ],
          [
           [
            "Other elite schools (public and private)",
            "Highly selective public"
           ]
          ],
          [
           [
            "Other elite schools (public and private)",
            "Highly selective public"
           ]
          ],
          [
           [
            "Highly selective private",
            "Other elite schools (public and private)"
           ]
          ],
          [
           [
            "Highly selective private",
            "Other elite schools (public and private)"
           ]
          ],
          [
           [
            "Highly selective private",
            "Other elite schools (public and private)"
           ]
          ],
          [
           [
            "Highly selective private",
            "Other elite schools (public and private)"
           ]
          ],
          [
           [
            "Highly selective private",
            "Other elite schools (public and private)"
           ]
          ],
          [
           [
            "Highly selective private",
            "Other elite schools (public and private)"
           ]
          ],
          [
           [
            "Highly selective private",
            "Other elite schools (public and private)"
           ]
          ],
          [
           [
            "Highly selective private",
            "Other elite schools (public and private)"
           ]
          ],
          [
           [
            "Highly selective private",
            "Other elite schools (public and private)"
           ]
          ],
          [
           [
            "Highly selective private",
            "Other elite schools (public and private)"
           ]
          ],
          [
           [
            "Highly selective private",
            "Other elite schools (public and private)"
           ]
          ],
          [
           [
            "Highly selective private",
            "Other elite schools (public and private)"
           ]
          ],
          [
           [
            "Highly selective private",
            "Other elite schools (public and private)"
           ]
          ],
          [
           [
            "Highly selective private",
            "Other elite schools (public and private)"
           ]
          ],
          [
           [
            "Other elite schools (public and private)",
            "Highly selective public",
            "Ivy Plus",
            "Highly selective private",
            "Selective public",
            "Selective private"
           ]
          ],
          [
           [
            "Other elite schools (public and private)",
            "Highly selective public",
            "Ivy Plus",
            "Highly selective private",
            "Selective public",
            "Selective private"
           ]
          ],
          [
           [
            "Other elite schools (public and private)",
            "Highly selective public",
            "Ivy Plus",
            "Highly selective private",
            "Selective public",
            "Selective private"
           ]
          ],
          [
           [
            "Other elite schools (public and private)",
            "Highly selective public",
            "Ivy Plus",
            "Highly selective private",
            "Selective public",
            "Selective private"
           ]
          ],
          [
           [
            "Other elite schools (public and private)",
            "Highly selective public",
            "Ivy Plus",
            "Highly selective private",
            "Selective public",
            "Selective private"
           ]
          ],
          [
           [
            "Other elite schools (public and private)",
            "Highly selective public",
            "Ivy Plus",
            "Highly selective private",
            "Selective public",
            "Selective private"
           ]
          ],
          [
           [
            "Other elite schools (public and private)",
            "Highly selective public",
            "Ivy Plus",
            "Highly selective private",
            "Selective public",
            "Selective private"
           ]
          ],
          [
           [
            "Other elite schools (public and private)",
            "Highly selective public",
            "Ivy Plus",
            "Highly selective private",
            "Selective public",
            "Selective private"
           ]
          ],
          [
           [
            "Other elite schools (public and private)",
            "Highly selective public",
            "Ivy Plus",
            "Highly selective private",
            "Selective public",
            "Selective private"
           ]
          ],
          [
           [
            "Other elite schools (public and private)",
            "Highly selective public",
            "Ivy Plus",
            "Highly selective private",
            "Selective public",
            "Selective private"
           ]
          ],
          [
           [
            "Other elite schools (public and private)",
            "Highly selective public",
            "Ivy Plus",
            "Highly selective private",
            "Selective public",
            "Selective private"
           ]
          ],
          [
           [
            "Other elite schools (public and private)",
            "Highly selective public",
            "Ivy Plus",
            "Highly selective private",
            "Selective public",
            "Selective private"
           ]
          ],
          [
           [
            "Other elite schools (public and private)",
            "Highly selective public",
            "Ivy Plus",
            "Highly selective private",
            "Selective public",
            "Selective private"
           ]
          ],
          [
           [
            "Other elite schools (public and private)",
            "Highly selective public",
            "Ivy Plus",
            "Highly selective private",
            "Selective public",
            "Selective private"
           ]
          ],
          [
           [
            "Other elite schools (public and private)",
            "Highly selective private",
            "Ivy Plus"
           ]
          ],
          [
           [
            "Other elite schools (public and private)",
            "Highly selective private",
            "Ivy Plus"
           ]
          ],
          [
           [
            "Other elite schools (public and private)",
            "Highly selective private",
            "Ivy Plus"
           ]
          ],
          [
           [
            "Other elite schools (public and private)",
            "Highly selective private",
            "Ivy Plus"
           ]
          ],
          [
           [
            "Other elite schools (public and private)",
            "Highly selective private",
            "Ivy Plus"
           ]
          ],
          [
           [
            "Other elite schools (public and private)",
            "Highly selective private",
            "Ivy Plus"
           ]
          ],
          [
           [
            "Other elite schools (public and private)",
            "Highly selective private",
            "Ivy Plus"
           ]
          ],
          [
           [
            "Other elite schools (public and private)",
            "Highly selective private",
            "Ivy Plus"
           ]
          ],
          [
           [
            "Other elite schools (public and private)",
            "Highly selective private",
            "Ivy Plus"
           ]
          ],
          [
           [
            "Other elite schools (public and private)",
            "Highly selective private",
            "Ivy Plus"
           ]
          ],
          [
           [
            "Other elite schools (public and private)",
            "Highly selective private",
            "Ivy Plus"
           ]
          ],
          [
           [
            "Other elite schools (public and private)",
            "Highly selective private",
            "Ivy Plus"
           ]
          ],
          [
           [
            "Other elite schools (public and private)",
            "Highly selective private",
            "Ivy Plus"
           ]
          ],
          [
           [
            "Other elite schools (public and private)",
            "Highly selective private",
            "Ivy Plus"
           ]
          ],
          [
           [
            "Other elite schools (public and private)"
           ]
          ],
          [
           [
            "Other elite schools (public and private)"
           ]
          ],
          [
           [
            "Other elite schools (public and private)"
           ]
          ],
          [
           [
            "Other elite schools (public and private)"
           ]
          ],
          [
           [
            "Other elite schools (public and private)"
           ]
          ],
          [
           [
            "Other elite schools (public and private)"
           ]
          ],
          [
           [
            "Other elite schools (public and private)"
           ]
          ],
          [
           [
            "Other elite schools (public and private)"
           ]
          ],
          [
           [
            "Other elite schools (public and private)"
           ]
          ],
          [
           [
            "Other elite schools (public and private)"
           ]
          ],
          [
           [
            "Other elite schools (public and private)"
           ]
          ],
          [
           [
            "Other elite schools (public and private)"
           ]
          ],
          [
           [
            "Other elite schools (public and private)"
           ]
          ],
          [
           [
            "Other elite schools (public and private)"
           ]
          ],
          [
           [
            "Highly selective private",
            "Other elite schools (public and private)",
            "Selective private"
           ]
          ],
          [
           [
            "Highly selective private",
            "Other elite schools (public and private)",
            "Selective private"
           ]
          ],
          [
           [
            "Highly selective private",
            "Other elite schools (public and private)",
            "Selective private"
           ]
          ],
          [
           [
            "Highly selective private",
            "Other elite schools (public and private)",
            "Selective private"
           ]
          ],
          [
           [
            "Highly selective private",
            "Other elite schools (public and private)",
            "Selective private"
           ]
          ],
          [
           [
            "Highly selective private",
            "Other elite schools (public and private)",
            "Selective private"
           ]
          ],
          [
           [
            "Highly selective private",
            "Other elite schools (public and private)",
            "Selective private"
           ]
          ],
          [
           [
            "Highly selective private",
            "Other elite schools (public and private)",
            "Selective private"
           ]
          ],
          [
           [
            "Highly selective private",
            "Other elite schools (public and private)",
            "Selective private"
           ]
          ],
          [
           [
            "Highly selective private",
            "Other elite schools (public and private)",
            "Selective private"
           ]
          ],
          [
           [
            "Highly selective private",
            "Other elite schools (public and private)",
            "Selective private"
           ]
          ],
          [
           [
            "Highly selective private",
            "Other elite schools (public and private)",
            "Selective private"
           ]
          ],
          [
           [
            "Highly selective private",
            "Other elite schools (public and private)",
            "Selective private"
           ]
          ],
          [
           [
            "Highly selective private",
            "Other elite schools (public and private)",
            "Selective private"
           ]
          ],
          [
           [
            "Other elite schools (public and private)"
           ]
          ],
          [
           [
            "Other elite schools (public and private)"
           ]
          ],
          [
           [
            "Other elite schools (public and private)"
           ]
          ],
          [
           [
            "Other elite schools (public and private)"
           ]
          ],
          [
           [
            "Other elite schools (public and private)"
           ]
          ],
          [
           [
            "Other elite schools (public and private)"
           ]
          ],
          [
           [
            "Other elite schools (public and private)"
           ]
          ],
          [
           [
            "Other elite schools (public and private)"
           ]
          ],
          [
           [
            "Other elite schools (public and private)"
           ]
          ],
          [
           [
            "Other elite schools (public and private)"
           ]
          ],
          [
           [
            "Other elite schools (public and private)"
           ]
          ],
          [
           [
            "Other elite schools (public and private)"
           ]
          ],
          [
           [
            "Other elite schools (public and private)"
           ]
          ],
          [
           [
            "Other elite schools (public and private)"
           ]
          ],
          [
           [
            "Other elite schools (public and private)",
            "Highly selective public"
           ]
          ],
          [
           [
            "Other elite schools (public and private)",
            "Highly selective public"
           ]
          ],
          [
           [
            "Other elite schools (public and private)",
            "Highly selective public"
           ]
          ],
          [
           [
            "Other elite schools (public and private)",
            "Highly selective public"
           ]
          ],
          [
           [
            "Other elite schools (public and private)",
            "Highly selective public"
           ]
          ],
          [
           [
            "Other elite schools (public and private)",
            "Highly selective public"
           ]
          ],
          [
           [
            "Other elite schools (public and private)",
            "Highly selective public"
           ]
          ],
          [
           [
            "Other elite schools (public and private)",
            "Highly selective public"
           ]
          ],
          [
           [
            "Other elite schools (public and private)",
            "Highly selective public"
           ]
          ],
          [
           [
            "Other elite schools (public and private)",
            "Highly selective public"
           ]
          ],
          [
           [
            "Other elite schools (public and private)",
            "Highly selective public"
           ]
          ],
          [
           [
            "Other elite schools (public and private)",
            "Highly selective public"
           ]
          ],
          [
           [
            "Other elite schools (public and private)",
            "Highly selective public"
           ]
          ],
          [
           [
            "Other elite schools (public and private)",
            "Highly selective public"
           ]
          ],
          [
           [
            "Other elite schools (public and private)"
           ]
          ],
          [
           [
            "Other elite schools (public and private)"
           ]
          ],
          [
           [
            "Other elite schools (public and private)"
           ]
          ],
          [
           [
            "Other elite schools (public and private)"
           ]
          ],
          [
           [
            "Other elite schools (public and private)"
           ]
          ],
          [
           [
            "Other elite schools (public and private)"
           ]
          ],
          [
           [
            "Other elite schools (public and private)"
           ]
          ],
          [
           [
            "Other elite schools (public and private)"
           ]
          ],
          [
           [
            "Other elite schools (public and private)"
           ]
          ],
          [
           [
            "Other elite schools (public and private)"
           ]
          ],
          [
           [
            "Other elite schools (public and private)"
           ]
          ],
          [
           [
            "Other elite schools (public and private)"
           ]
          ],
          [
           [
            "Other elite schools (public and private)"
           ]
          ],
          [
           [
            "Other elite schools (public and private)"
           ]
          ],
          [
           [
            "Other elite schools (public and private)"
           ]
          ],
          [
           [
            "Other elite schools (public and private)"
           ]
          ],
          [
           [
            "Other elite schools (public and private)"
           ]
          ],
          [
           [
            "Other elite schools (public and private)"
           ]
          ],
          [
           [
            "Other elite schools (public and private)"
           ]
          ],
          [
           [
            "Other elite schools (public and private)"
           ]
          ],
          [
           [
            "Other elite schools (public and private)"
           ]
          ],
          [
           [
            "Other elite schools (public and private)"
           ]
          ],
          [
           [
            "Other elite schools (public and private)"
           ]
          ],
          [
           [
            "Other elite schools (public and private)"
           ]
          ],
          [
           [
            "Other elite schools (public and private)"
           ]
          ],
          [
           [
            "Other elite schools (public and private)"
           ]
          ],
          [
           [
            "Other elite schools (public and private)"
           ]
          ],
          [
           [
            "Other elite schools (public and private)"
           ]
          ],
          [
           [
            "Selective private",
            "Other elite schools (public and private)",
            "Highly selective private",
            "Ivy Plus",
            "Highly selective public",
            "Selective public"
           ]
          ],
          [
           [
            "Selective private",
            "Other elite schools (public and private)",
            "Highly selective private",
            "Ivy Plus",
            "Highly selective public",
            "Selective public"
           ]
          ],
          [
           [
            "Selective private",
            "Other elite schools (public and private)",
            "Highly selective private",
            "Ivy Plus",
            "Highly selective public",
            "Selective public"
           ]
          ],
          [
           [
            "Selective private",
            "Other elite schools (public and private)",
            "Highly selective private",
            "Ivy Plus",
            "Highly selective public",
            "Selective public"
           ]
          ],
          [
           [
            "Selective private",
            "Other elite schools (public and private)",
            "Highly selective private",
            "Ivy Plus",
            "Highly selective public",
            "Selective public"
           ]
          ],
          [
           [
            "Selective private",
            "Other elite schools (public and private)",
            "Highly selective private",
            "Ivy Plus",
            "Highly selective public",
            "Selective public"
           ]
          ],
          [
           [
            "Selective private",
            "Other elite schools (public and private)",
            "Highly selective private",
            "Ivy Plus",
            "Highly selective public",
            "Selective public"
           ]
          ],
          [
           [
            "Selective private",
            "Other elite schools (public and private)",
            "Highly selective private",
            "Ivy Plus",
            "Highly selective public",
            "Selective public"
           ]
          ],
          [
           [
            "Selective private",
            "Other elite schools (public and private)",
            "Highly selective private",
            "Ivy Plus",
            "Highly selective public",
            "Selective public"
           ]
          ],
          [
           [
            "Selective private",
            "Other elite schools (public and private)",
            "Highly selective private",
            "Ivy Plus",
            "Highly selective public",
            "Selective public"
           ]
          ],
          [
           [
            "Selective private",
            "Other elite schools (public and private)",
            "Highly selective private",
            "Ivy Plus",
            "Highly selective public",
            "Selective public"
           ]
          ],
          [
           [
            "Selective private",
            "Other elite schools (public and private)",
            "Highly selective private",
            "Ivy Plus",
            "Highly selective public",
            "Selective public"
           ]
          ],
          [
           [
            "Selective private",
            "Other elite schools (public and private)",
            "Highly selective private",
            "Ivy Plus",
            "Highly selective public",
            "Selective public"
           ]
          ],
          [
           [
            "Selective private",
            "Other elite schools (public and private)",
            "Highly selective private",
            "Ivy Plus",
            "Highly selective public",
            "Selective public"
           ]
          ],
          [
           [
            "Other elite schools (public and private)"
           ]
          ],
          [
           [
            "Other elite schools (public and private)"
           ]
          ],
          [
           [
            "Other elite schools (public and private)"
           ]
          ],
          [
           [
            "Other elite schools (public and private)"
           ]
          ],
          [
           [
            "Other elite schools (public and private)"
           ]
          ],
          [
           [
            "Other elite schools (public and private)"
           ]
          ],
          [
           [
            "Other elite schools (public and private)"
           ]
          ],
          [
           [
            "Other elite schools (public and private)"
           ]
          ],
          [
           [
            "Other elite schools (public and private)"
           ]
          ],
          [
           [
            "Other elite schools (public and private)"
           ]
          ],
          [
           [
            "Other elite schools (public and private)"
           ]
          ],
          [
           [
            "Other elite schools (public and private)"
           ]
          ],
          [
           [
            "Other elite schools (public and private)"
           ]
          ],
          [
           [
            "Other elite schools (public and private)"
           ]
          ],
          [
           [
            "Highly selective private"
           ]
          ],
          [
           [
            "Highly selective private"
           ]
          ],
          [
           [
            "Highly selective private"
           ]
          ],
          [
           [
            "Highly selective private"
           ]
          ],
          [
           [
            "Highly selective private"
           ]
          ],
          [
           [
            "Highly selective private"
           ]
          ],
          [
           [
            "Highly selective private"
           ]
          ],
          [
           [
            "Highly selective private"
           ]
          ],
          [
           [
            "Highly selective private"
           ]
          ],
          [
           [
            "Highly selective private"
           ]
          ],
          [
           [
            "Highly selective private"
           ]
          ],
          [
           [
            "Highly selective private"
           ]
          ],
          [
           [
            "Highly selective private"
           ]
          ],
          [
           [
            "Highly selective private"
           ]
          ],
          [
           [
            "Other elite schools (public and private)",
            "Highly selective private",
            "Ivy Plus"
           ]
          ],
          [
           [
            "Other elite schools (public and private)",
            "Highly selective private",
            "Ivy Plus"
           ]
          ],
          [
           [
            "Other elite schools (public and private)",
            "Highly selective private",
            "Ivy Plus"
           ]
          ],
          [
           [
            "Other elite schools (public and private)",
            "Highly selective private",
            "Ivy Plus"
           ]
          ],
          [
           [
            "Other elite schools (public and private)",
            "Highly selective private",
            "Ivy Plus"
           ]
          ],
          [
           [
            "Other elite schools (public and private)",
            "Highly selective private",
            "Ivy Plus"
           ]
          ],
          [
           [
            "Other elite schools (public and private)",
            "Highly selective private",
            "Ivy Plus"
           ]
          ],
          [
           [
            "Other elite schools (public and private)",
            "Highly selective private",
            "Ivy Plus"
           ]
          ],
          [
           [
            "Other elite schools (public and private)",
            "Highly selective private",
            "Ivy Plus"
           ]
          ],
          [
           [
            "Other elite schools (public and private)",
            "Highly selective private",
            "Ivy Plus"
           ]
          ],
          [
           [
            "Other elite schools (public and private)",
            "Highly selective private",
            "Ivy Plus"
           ]
          ],
          [
           [
            "Other elite schools (public and private)",
            "Highly selective private",
            "Ivy Plus"
           ]
          ],
          [
           [
            "Other elite schools (public and private)",
            "Highly selective private",
            "Ivy Plus"
           ]
          ],
          [
           [
            "Other elite schools (public and private)",
            "Highly selective private",
            "Ivy Plus"
           ]
          ],
          [
           [
            "Selective public",
            "Highly selective public"
           ]
          ],
          [
           [
            "Selective public",
            "Highly selective public"
           ]
          ],
          [
           [
            "Selective public",
            "Highly selective public"
           ]
          ],
          [
           [
            "Selective public",
            "Highly selective public"
           ]
          ],
          [
           [
            "Selective public",
            "Highly selective public"
           ]
          ],
          [
           [
            "Selective public",
            "Highly selective public"
           ]
          ],
          [
           [
            "Selective public",
            "Highly selective public"
           ]
          ],
          [
           [
            "Selective public",
            "Highly selective public"
           ]
          ],
          [
           [
            "Selective public",
            "Highly selective public"
           ]
          ],
          [
           [
            "Selective public",
            "Highly selective public"
           ]
          ],
          [
           [
            "Selective public",
            "Highly selective public"
           ]
          ],
          [
           [
            "Selective public",
            "Highly selective public"
           ]
          ],
          [
           [
            "Selective public",
            "Highly selective public"
           ]
          ],
          [
           [
            "Selective public",
            "Highly selective public"
           ]
          ],
          [
           [
            "Other elite schools (public and private)"
           ]
          ],
          [
           [
            "Other elite schools (public and private)"
           ]
          ],
          [
           [
            "Other elite schools (public and private)"
           ]
          ],
          [
           [
            "Other elite schools (public and private)"
           ]
          ],
          [
           [
            "Other elite schools (public and private)"
           ]
          ],
          [
           [
            "Other elite schools (public and private)"
           ]
          ],
          [
           [
            "Other elite schools (public and private)"
           ]
          ],
          [
           [
            "Other elite schools (public and private)"
           ]
          ],
          [
           [
            "Other elite schools (public and private)"
           ]
          ],
          [
           [
            "Other elite schools (public and private)"
           ]
          ],
          [
           [
            "Other elite schools (public and private)"
           ]
          ],
          [
           [
            "Other elite schools (public and private)"
           ]
          ],
          [
           [
            "Other elite schools (public and private)"
           ]
          ],
          [
           [
            "Other elite schools (public and private)"
           ]
          ],
          [
           [
            "Other elite schools (public and private)",
            "Highly selective public",
            "Ivy Plus",
            "Highly selective private",
            "Selective public",
            "Selective private"
           ]
          ],
          [
           [
            "Other elite schools (public and private)",
            "Highly selective public",
            "Ivy Plus",
            "Highly selective private",
            "Selective public",
            "Selective private"
           ]
          ],
          [
           [
            "Other elite schools (public and private)",
            "Highly selective public",
            "Ivy Plus",
            "Highly selective private",
            "Selective public",
            "Selective private"
           ]
          ],
          [
           [
            "Other elite schools (public and private)",
            "Highly selective public",
            "Ivy Plus",
            "Highly selective private",
            "Selective public",
            "Selective private"
           ]
          ],
          [
           [
            "Other elite schools (public and private)",
            "Highly selective public",
            "Ivy Plus",
            "Highly selective private",
            "Selective public",
            "Selective private"
           ]
          ],
          [
           [
            "Other elite schools (public and private)",
            "Highly selective public",
            "Ivy Plus",
            "Highly selective private",
            "Selective public",
            "Selective private"
           ]
          ],
          [
           [
            "Other elite schools (public and private)",
            "Highly selective public",
            "Ivy Plus",
            "Highly selective private",
            "Selective public",
            "Selective private"
           ]
          ],
          [
           [
            "Other elite schools (public and private)",
            "Highly selective public",
            "Ivy Plus",
            "Highly selective private",
            "Selective public",
            "Selective private"
           ]
          ],
          [
           [
            "Other elite schools (public and private)",
            "Highly selective public",
            "Ivy Plus",
            "Highly selective private",
            "Selective public",
            "Selective private"
           ]
          ],
          [
           [
            "Other elite schools (public and private)",
            "Highly selective public",
            "Ivy Plus",
            "Highly selective private",
            "Selective public",
            "Selective private"
           ]
          ],
          [
           [
            "Other elite schools (public and private)",
            "Highly selective public",
            "Ivy Plus",
            "Highly selective private",
            "Selective public",
            "Selective private"
           ]
          ],
          [
           [
            "Other elite schools (public and private)",
            "Highly selective public",
            "Ivy Plus",
            "Highly selective private",
            "Selective public",
            "Selective private"
           ]
          ],
          [
           [
            "Other elite schools (public and private)",
            "Highly selective public",
            "Ivy Plus",
            "Highly selective private",
            "Selective public",
            "Selective private"
           ]
          ],
          [
           [
            "Other elite schools (public and private)",
            "Highly selective public",
            "Ivy Plus",
            "Highly selective private",
            "Selective public",
            "Selective private"
           ]
          ],
          [
           [
            "Other elite schools (public and private)",
            "Ivy Plus",
            "Highly selective private",
            "Selective public"
           ]
          ],
          [
           [
            "Other elite schools (public and private)",
            "Ivy Plus",
            "Highly selective private",
            "Selective public"
           ]
          ],
          [
           [
            "Other elite schools (public and private)",
            "Ivy Plus",
            "Highly selective private",
            "Selective public"
           ]
          ],
          [
           [
            "Other elite schools (public and private)",
            "Ivy Plus",
            "Highly selective private",
            "Selective public"
           ]
          ],
          [
           [
            "Other elite schools (public and private)",
            "Ivy Plus",
            "Highly selective private",
            "Selective public"
           ]
          ],
          [
           [
            "Other elite schools (public and private)",
            "Ivy Plus",
            "Highly selective private",
            "Selective public"
           ]
          ],
          [
           [
            "Other elite schools (public and private)",
            "Ivy Plus",
            "Highly selective private",
            "Selective public"
           ]
          ],
          [
           [
            "Other elite schools (public and private)",
            "Ivy Plus",
            "Highly selective private",
            "Selective public"
           ]
          ],
          [
           [
            "Other elite schools (public and private)",
            "Ivy Plus",
            "Highly selective private",
            "Selective public"
           ]
          ],
          [
           [
            "Other elite schools (public and private)",
            "Ivy Plus",
            "Highly selective private",
            "Selective public"
           ]
          ],
          [
           [
            "Other elite schools (public and private)",
            "Ivy Plus",
            "Highly selective private",
            "Selective public"
           ]
          ],
          [
           [
            "Other elite schools (public and private)",
            "Ivy Plus",
            "Highly selective private",
            "Selective public"
           ]
          ],
          [
           [
            "Other elite schools (public and private)",
            "Ivy Plus",
            "Highly selective private",
            "Selective public"
           ]
          ],
          [
           [
            "Other elite schools (public and private)",
            "Ivy Plus",
            "Highly selective private",
            "Selective public"
           ]
          ],
          [
           [
            "Other elite schools (public and private)",
            "Highly selective private",
            "Ivy Plus"
           ]
          ],
          [
           [
            "Other elite schools (public and private)",
            "Highly selective private",
            "Ivy Plus"
           ]
          ],
          [
           [
            "Other elite schools (public and private)",
            "Highly selective private",
            "Ivy Plus"
           ]
          ],
          [
           [
            "Other elite schools (public and private)",
            "Highly selective private",
            "Ivy Plus"
           ]
          ],
          [
           [
            "Other elite schools (public and private)",
            "Highly selective private",
            "Ivy Plus"
           ]
          ],
          [
           [
            "Other elite schools (public and private)",
            "Highly selective private",
            "Ivy Plus"
           ]
          ],
          [
           [
            "Other elite schools (public and private)",
            "Highly selective private",
            "Ivy Plus"
           ]
          ],
          [
           [
            "Other elite schools (public and private)",
            "Highly selective private",
            "Ivy Plus"
           ]
          ],
          [
           [
            "Other elite schools (public and private)",
            "Highly selective private",
            "Ivy Plus"
           ]
          ],
          [
           [
            "Other elite schools (public and private)",
            "Highly selective private",
            "Ivy Plus"
           ]
          ],
          [
           [
            "Other elite schools (public and private)",
            "Highly selective private",
            "Ivy Plus"
           ]
          ],
          [
           [
            "Other elite schools (public and private)",
            "Highly selective private",
            "Ivy Plus"
           ]
          ],
          [
           [
            "Other elite schools (public and private)",
            "Highly selective private",
            "Ivy Plus"
           ]
          ],
          [
           [
            "Other elite schools (public and private)",
            "Highly selective private",
            "Ivy Plus"
           ]
          ],
          [
           [
            "Other elite schools (public and private)",
            "Ivy Plus"
           ]
          ],
          [
           [
            "Other elite schools (public and private)",
            "Ivy Plus"
           ]
          ],
          [
           [
            "Other elite schools (public and private)",
            "Ivy Plus"
           ]
          ],
          [
           [
            "Other elite schools (public and private)",
            "Ivy Plus"
           ]
          ],
          [
           [
            "Other elite schools (public and private)",
            "Ivy Plus"
           ]
          ],
          [
           [
            "Other elite schools (public and private)",
            "Ivy Plus"
           ]
          ],
          [
           [
            "Other elite schools (public and private)",
            "Ivy Plus"
           ]
          ],
          [
           [
            "Other elite schools (public and private)",
            "Ivy Plus"
           ]
          ],
          [
           [
            "Other elite schools (public and private)",
            "Ivy Plus"
           ]
          ],
          [
           [
            "Other elite schools (public and private)",
            "Ivy Plus"
           ]
          ],
          [
           [
            "Other elite schools (public and private)",
            "Ivy Plus"
           ]
          ],
          [
           [
            "Other elite schools (public and private)",
            "Ivy Plus"
           ]
          ],
          [
           [
            "Other elite schools (public and private)",
            "Ivy Plus"
           ]
          ],
          [
           [
            "Other elite schools (public and private)",
            "Ivy Plus"
           ]
          ],
          [
           [
            "Other elite schools (public and private)",
            "Highly selective public"
           ]
          ],
          [
           [
            "Other elite schools (public and private)",
            "Highly selective public"
           ]
          ],
          [
           [
            "Other elite schools (public and private)",
            "Highly selective public"
           ]
          ],
          [
           [
            "Other elite schools (public and private)",
            "Highly selective public"
           ]
          ],
          [
           [
            "Other elite schools (public and private)",
            "Highly selective public"
           ]
          ],
          [
           [
            "Other elite schools (public and private)",
            "Highly selective public"
           ]
          ],
          [
           [
            "Other elite schools (public and private)",
            "Highly selective public"
           ]
          ],
          [
           [
            "Other elite schools (public and private)",
            "Highly selective public"
           ]
          ],
          [
           [
            "Other elite schools (public and private)",
            "Highly selective public"
           ]
          ],
          [
           [
            "Other elite schools (public and private)",
            "Highly selective public"
           ]
          ],
          [
           [
            "Other elite schools (public and private)",
            "Highly selective public"
           ]
          ],
          [
           [
            "Other elite schools (public and private)",
            "Highly selective public"
           ]
          ],
          [
           [
            "Other elite schools (public and private)",
            "Highly selective public"
           ]
          ],
          [
           [
            "Other elite schools (public and private)",
            "Highly selective public"
           ]
          ],
          [
           [
            "Selective private",
            "Other elite schools (public and private)",
            "Highly selective private",
            "Ivy Plus",
            "Highly selective public",
            "Selective public"
           ]
          ],
          [
           [
            "Selective private",
            "Other elite schools (public and private)",
            "Highly selective private",
            "Ivy Plus",
            "Highly selective public",
            "Selective public"
           ]
          ],
          [
           [
            "Selective private",
            "Other elite schools (public and private)",
            "Highly selective private",
            "Ivy Plus",
            "Highly selective public",
            "Selective public"
           ]
          ],
          [
           [
            "Selective private",
            "Other elite schools (public and private)",
            "Highly selective private",
            "Ivy Plus",
            "Highly selective public",
            "Selective public"
           ]
          ],
          [
           [
            "Selective private",
            "Other elite schools (public and private)",
            "Highly selective private",
            "Ivy Plus",
            "Highly selective public",
            "Selective public"
           ]
          ],
          [
           [
            "Selective private",
            "Other elite schools (public and private)",
            "Highly selective private",
            "Ivy Plus",
            "Highly selective public",
            "Selective public"
           ]
          ],
          [
           [
            "Selective private",
            "Other elite schools (public and private)",
            "Highly selective private",
            "Ivy Plus",
            "Highly selective public",
            "Selective public"
           ]
          ],
          [
           [
            "Selective private",
            "Other elite schools (public and private)",
            "Highly selective private",
            "Ivy Plus",
            "Highly selective public",
            "Selective public"
           ]
          ],
          [
           [
            "Selective private",
            "Other elite schools (public and private)",
            "Highly selective private",
            "Ivy Plus",
            "Highly selective public",
            "Selective public"
           ]
          ],
          [
           [
            "Selective private",
            "Other elite schools (public and private)",
            "Highly selective private",
            "Ivy Plus",
            "Highly selective public",
            "Selective public"
           ]
          ],
          [
           [
            "Selective private",
            "Other elite schools (public and private)",
            "Highly selective private",
            "Ivy Plus",
            "Highly selective public",
            "Selective public"
           ]
          ],
          [
           [
            "Selective private",
            "Other elite schools (public and private)",
            "Highly selective private",
            "Ivy Plus",
            "Highly selective public",
            "Selective public"
           ]
          ],
          [
           [
            "Selective private",
            "Other elite schools (public and private)",
            "Highly selective private",
            "Ivy Plus",
            "Highly selective public",
            "Selective public"
           ]
          ],
          [
           [
            "Selective private",
            "Other elite schools (public and private)",
            "Highly selective private",
            "Ivy Plus",
            "Highly selective public",
            "Selective public"
           ]
          ],
          [
           [
            "Other elite schools (public and private)",
            "Highly selective public"
           ]
          ],
          [
           [
            "Other elite schools (public and private)",
            "Highly selective public"
           ]
          ],
          [
           [
            "Other elite schools (public and private)",
            "Highly selective public"
           ]
          ],
          [
           [
            "Other elite schools (public and private)",
            "Highly selective public"
           ]
          ],
          [
           [
            "Other elite schools (public and private)",
            "Highly selective public"
           ]
          ],
          [
           [
            "Other elite schools (public and private)",
            "Highly selective public"
           ]
          ],
          [
           [
            "Other elite schools (public and private)",
            "Highly selective public"
           ]
          ],
          [
           [
            "Other elite schools (public and private)",
            "Highly selective public"
           ]
          ],
          [
           [
            "Other elite schools (public and private)",
            "Highly selective public"
           ]
          ],
          [
           [
            "Other elite schools (public and private)",
            "Highly selective public"
           ]
          ],
          [
           [
            "Other elite schools (public and private)",
            "Highly selective public"
           ]
          ],
          [
           [
            "Other elite schools (public and private)",
            "Highly selective public"
           ]
          ],
          [
           [
            "Other elite schools (public and private)",
            "Highly selective public"
           ]
          ],
          [
           [
            "Other elite schools (public and private)",
            "Highly selective public"
           ]
          ],
          [
           [
            "Selective private",
            "Other elite schools (public and private)",
            "Highly selective private",
            "Ivy Plus",
            "Highly selective public",
            "Selective public"
           ]
          ],
          [
           [
            "Selective private",
            "Other elite schools (public and private)",
            "Highly selective private",
            "Ivy Plus",
            "Highly selective public",
            "Selective public"
           ]
          ],
          [
           [
            "Selective private",
            "Other elite schools (public and private)",
            "Highly selective private",
            "Ivy Plus",
            "Highly selective public",
            "Selective public"
           ]
          ],
          [
           [
            "Selective private",
            "Other elite schools (public and private)",
            "Highly selective private",
            "Ivy Plus",
            "Highly selective public",
            "Selective public"
           ]
          ],
          [
           [
            "Selective private",
            "Other elite schools (public and private)",
            "Highly selective private",
            "Ivy Plus",
            "Highly selective public",
            "Selective public"
           ]
          ],
          [
           [
            "Selective private",
            "Other elite schools (public and private)",
            "Highly selective private",
            "Ivy Plus",
            "Highly selective public",
            "Selective public"
           ]
          ],
          [
           [
            "Selective private",
            "Other elite schools (public and private)",
            "Highly selective private",
            "Ivy Plus",
            "Highly selective public",
            "Selective public"
           ]
          ],
          [
           [
            "Selective private",
            "Other elite schools (public and private)",
            "Highly selective private",
            "Ivy Plus",
            "Highly selective public",
            "Selective public"
           ]
          ],
          [
           [
            "Selective private",
            "Other elite schools (public and private)",
            "Highly selective private",
            "Ivy Plus",
            "Highly selective public",
            "Selective public"
           ]
          ],
          [
           [
            "Selective private",
            "Other elite schools (public and private)",
            "Highly selective private",
            "Ivy Plus",
            "Highly selective public",
            "Selective public"
           ]
          ],
          [
           [
            "Selective private",
            "Other elite schools (public and private)",
            "Highly selective private",
            "Ivy Plus",
            "Highly selective public",
            "Selective public"
           ]
          ],
          [
           [
            "Selective private",
            "Other elite schools (public and private)",
            "Highly selective private",
            "Ivy Plus",
            "Highly selective public",
            "Selective public"
           ]
          ],
          [
           [
            "Selective private",
            "Other elite schools (public and private)",
            "Highly selective private",
            "Ivy Plus",
            "Highly selective public",
            "Selective public"
           ]
          ],
          [
           [
            "Selective private",
            "Other elite schools (public and private)",
            "Highly selective private",
            "Ivy Plus",
            "Highly selective public",
            "Selective public"
           ]
          ],
          [
           [
            "Selective private",
            "Other elite schools (public and private)",
            "Highly selective private",
            "Ivy Plus",
            "Highly selective public",
            "Selective public"
           ]
          ],
          [
           [
            "Selective private",
            "Other elite schools (public and private)",
            "Highly selective private",
            "Ivy Plus",
            "Highly selective public",
            "Selective public"
           ]
          ],
          [
           [
            "Selective private",
            "Other elite schools (public and private)",
            "Highly selective private",
            "Ivy Plus",
            "Highly selective public",
            "Selective public"
           ]
          ],
          [
           [
            "Selective private",
            "Other elite schools (public and private)",
            "Highly selective private",
            "Ivy Plus",
            "Highly selective public",
            "Selective public"
           ]
          ],
          [
           [
            "Selective private",
            "Other elite schools (public and private)",
            "Highly selective private",
            "Ivy Plus",
            "Highly selective public",
            "Selective public"
           ]
          ],
          [
           [
            "Selective private",
            "Other elite schools (public and private)",
            "Highly selective private",
            "Ivy Plus",
            "Highly selective public",
            "Selective public"
           ]
          ],
          [
           [
            "Selective private",
            "Other elite schools (public and private)",
            "Highly selective private",
            "Ivy Plus",
            "Highly selective public",
            "Selective public"
           ]
          ],
          [
           [
            "Selective private",
            "Other elite schools (public and private)",
            "Highly selective private",
            "Ivy Plus",
            "Highly selective public",
            "Selective public"
           ]
          ],
          [
           [
            "Selective private",
            "Other elite schools (public and private)",
            "Highly selective private",
            "Ivy Plus",
            "Highly selective public",
            "Selective public"
           ]
          ],
          [
           [
            "Selective private",
            "Other elite schools (public and private)",
            "Highly selective private",
            "Ivy Plus",
            "Highly selective public",
            "Selective public"
           ]
          ],
          [
           [
            "Selective private",
            "Other elite schools (public and private)",
            "Highly selective private",
            "Ivy Plus",
            "Highly selective public",
            "Selective public"
           ]
          ],
          [
           [
            "Selective private",
            "Other elite schools (public and private)",
            "Highly selective private",
            "Ivy Plus",
            "Highly selective public",
            "Selective public"
           ]
          ],
          [
           [
            "Selective private",
            "Other elite schools (public and private)",
            "Highly selective private",
            "Ivy Plus",
            "Highly selective public",
            "Selective public"
           ]
          ],
          [
           [
            "Selective private",
            "Other elite schools (public and private)",
            "Highly selective private",
            "Ivy Plus",
            "Highly selective public",
            "Selective public"
           ]
          ],
          [
           [
            "Ivy Plus",
            "Highly selective public"
           ]
          ],
          [
           [
            "Ivy Plus",
            "Highly selective public"
           ]
          ],
          [
           [
            "Ivy Plus",
            "Highly selective public"
           ]
          ],
          [
           [
            "Ivy Plus",
            "Highly selective public"
           ]
          ],
          [
           [
            "Ivy Plus",
            "Highly selective public"
           ]
          ],
          [
           [
            "Ivy Plus",
            "Highly selective public"
           ]
          ],
          [
           [
            "Ivy Plus",
            "Highly selective public"
           ]
          ],
          [
           [
            "Ivy Plus",
            "Highly selective public"
           ]
          ],
          [
           [
            "Ivy Plus",
            "Highly selective public"
           ]
          ],
          [
           [
            "Ivy Plus",
            "Highly selective public"
           ]
          ],
          [
           [
            "Ivy Plus",
            "Highly selective public"
           ]
          ],
          [
           [
            "Ivy Plus",
            "Highly selective public"
           ]
          ],
          [
           [
            "Ivy Plus",
            "Highly selective public"
           ]
          ],
          [
           [
            "Ivy Plus",
            "Highly selective public"
           ]
          ],
          [
           [
            "Selective public",
            "Other elite schools (public and private)"
           ]
          ],
          [
           [
            "Selective public",
            "Other elite schools (public and private)"
           ]
          ],
          [
           [
            "Selective public",
            "Other elite schools (public and private)"
           ]
          ],
          [
           [
            "Selective public",
            "Other elite schools (public and private)"
           ]
          ],
          [
           [
            "Selective public",
            "Other elite schools (public and private)"
           ]
          ],
          [
           [
            "Selective public",
            "Other elite schools (public and private)"
           ]
          ],
          [
           [
            "Selective public",
            "Other elite schools (public and private)"
           ]
          ],
          [
           [
            "Selective public",
            "Other elite schools (public and private)"
           ]
          ],
          [
           [
            "Selective public",
            "Other elite schools (public and private)"
           ]
          ],
          [
           [
            "Selective public",
            "Other elite schools (public and private)"
           ]
          ],
          [
           [
            "Selective public",
            "Other elite schools (public and private)"
           ]
          ],
          [
           [
            "Selective public",
            "Other elite schools (public and private)"
           ]
          ],
          [
           [
            "Selective public",
            "Other elite schools (public and private)"
           ]
          ],
          [
           [
            "Selective public",
            "Other elite schools (public and private)"
           ]
          ],
          [
           [
            "Other elite schools (public and private)",
            "Selective public"
           ]
          ],
          [
           [
            "Other elite schools (public and private)",
            "Selective public"
           ]
          ],
          [
           [
            "Other elite schools (public and private)",
            "Selective public"
           ]
          ],
          [
           [
            "Other elite schools (public and private)",
            "Selective public"
           ]
          ],
          [
           [
            "Other elite schools (public and private)",
            "Selective public"
           ]
          ],
          [
           [
            "Other elite schools (public and private)",
            "Selective public"
           ]
          ],
          [
           [
            "Other elite schools (public and private)",
            "Selective public"
           ]
          ],
          [
           [
            "Other elite schools (public and private)",
            "Selective public"
           ]
          ],
          [
           [
            "Other elite schools (public and private)",
            "Selective public"
           ]
          ],
          [
           [
            "Other elite schools (public and private)",
            "Selective public"
           ]
          ],
          [
           [
            "Other elite schools (public and private)",
            "Selective public"
           ]
          ],
          [
           [
            "Other elite schools (public and private)",
            "Selective public"
           ]
          ],
          [
           [
            "Other elite schools (public and private)",
            "Selective public"
           ]
          ],
          [
           [
            "Other elite schools (public and private)",
            "Selective public"
           ]
          ],
          [
           [
            "Other elite schools (public and private)",
            "Highly selective public",
            "Ivy Plus",
            "Highly selective private",
            "Selective public",
            "Selective private"
           ]
          ],
          [
           [
            "Other elite schools (public and private)",
            "Highly selective public",
            "Ivy Plus",
            "Highly selective private",
            "Selective public",
            "Selective private"
           ]
          ],
          [
           [
            "Other elite schools (public and private)",
            "Highly selective public",
            "Ivy Plus",
            "Highly selective private",
            "Selective public",
            "Selective private"
           ]
          ],
          [
           [
            "Other elite schools (public and private)",
            "Highly selective public",
            "Ivy Plus",
            "Highly selective private",
            "Selective public",
            "Selective private"
           ]
          ],
          [
           [
            "Other elite schools (public and private)",
            "Highly selective public",
            "Ivy Plus",
            "Highly selective private",
            "Selective public",
            "Selective private"
           ]
          ],
          [
           [
            "Other elite schools (public and private)",
            "Highly selective public",
            "Ivy Plus",
            "Highly selective private",
            "Selective public",
            "Selective private"
           ]
          ],
          [
           [
            "Other elite schools (public and private)",
            "Highly selective public",
            "Ivy Plus",
            "Highly selective private",
            "Selective public",
            "Selective private"
           ]
          ],
          [
           [
            "Other elite schools (public and private)",
            "Highly selective public",
            "Ivy Plus",
            "Highly selective private",
            "Selective public",
            "Selective private"
           ]
          ],
          [
           [
            "Other elite schools (public and private)",
            "Highly selective public",
            "Ivy Plus",
            "Highly selective private",
            "Selective public",
            "Selective private"
           ]
          ],
          [
           [
            "Other elite schools (public and private)",
            "Highly selective public",
            "Ivy Plus",
            "Highly selective private",
            "Selective public",
            "Selective private"
           ]
          ],
          [
           [
            "Other elite schools (public and private)",
            "Highly selective public",
            "Ivy Plus",
            "Highly selective private",
            "Selective public",
            "Selective private"
           ]
          ],
          [
           [
            "Other elite schools (public and private)",
            "Highly selective public",
            "Ivy Plus",
            "Highly selective private",
            "Selective public",
            "Selective private"
           ]
          ],
          [
           [
            "Other elite schools (public and private)",
            "Highly selective public",
            "Ivy Plus",
            "Highly selective private",
            "Selective public",
            "Selective private"
           ]
          ],
          [
           [
            "Other elite schools (public and private)",
            "Highly selective public",
            "Ivy Plus",
            "Highly selective private",
            "Selective public",
            "Selective private"
           ]
          ],
          [
           [
            "Highly selective private",
            "Other elite schools (public and private)",
            "Highly selective public"
           ]
          ],
          [
           [
            "Highly selective private",
            "Other elite schools (public and private)",
            "Highly selective public"
           ]
          ],
          [
           [
            "Highly selective private",
            "Other elite schools (public and private)",
            "Highly selective public"
           ]
          ],
          [
           [
            "Highly selective private",
            "Other elite schools (public and private)",
            "Highly selective public"
           ]
          ],
          [
           [
            "Highly selective private",
            "Other elite schools (public and private)",
            "Highly selective public"
           ]
          ],
          [
           [
            "Highly selective private",
            "Other elite schools (public and private)",
            "Highly selective public"
           ]
          ],
          [
           [
            "Highly selective private",
            "Other elite schools (public and private)",
            "Highly selective public"
           ]
          ],
          [
           [
            "Highly selective private",
            "Other elite schools (public and private)",
            "Highly selective public"
           ]
          ],
          [
           [
            "Highly selective private",
            "Other elite schools (public and private)",
            "Highly selective public"
           ]
          ],
          [
           [
            "Highly selective private",
            "Other elite schools (public and private)",
            "Highly selective public"
           ]
          ],
          [
           [
            "Highly selective private",
            "Other elite schools (public and private)",
            "Highly selective public"
           ]
          ],
          [
           [
            "Highly selective private",
            "Other elite schools (public and private)",
            "Highly selective public"
           ]
          ],
          [
           [
            "Highly selective private",
            "Other elite schools (public and private)",
            "Highly selective public"
           ]
          ],
          [
           [
            "Highly selective private",
            "Other elite schools (public and private)",
            "Highly selective public"
           ]
          ],
          [
           [
            "Ivy Plus",
            "Highly selective public"
           ]
          ],
          [
           [
            "Ivy Plus",
            "Highly selective public"
           ]
          ],
          [
           [
            "Ivy Plus",
            "Highly selective public"
           ]
          ],
          [
           [
            "Ivy Plus",
            "Highly selective public"
           ]
          ],
          [
           [
            "Ivy Plus",
            "Highly selective public"
           ]
          ],
          [
           [
            "Ivy Plus",
            "Highly selective public"
           ]
          ],
          [
           [
            "Ivy Plus",
            "Highly selective public"
           ]
          ],
          [
           [
            "Ivy Plus",
            "Highly selective public"
           ]
          ],
          [
           [
            "Ivy Plus",
            "Highly selective public"
           ]
          ],
          [
           [
            "Ivy Plus",
            "Highly selective public"
           ]
          ],
          [
           [
            "Ivy Plus",
            "Highly selective public"
           ]
          ],
          [
           [
            "Ivy Plus",
            "Highly selective public"
           ]
          ],
          [
           [
            "Ivy Plus",
            "Highly selective public"
           ]
          ],
          [
           [
            "Ivy Plus",
            "Highly selective public"
           ]
          ],
          [
           [
            "Selective private",
            "Other elite schools (public and private)",
            "Highly selective private",
            "Ivy Plus",
            "Highly selective public",
            "Selective public"
           ]
          ],
          [
           [
            "Selective private",
            "Other elite schools (public and private)",
            "Highly selective private",
            "Ivy Plus",
            "Highly selective public",
            "Selective public"
           ]
          ],
          [
           [
            "Selective private",
            "Other elite schools (public and private)",
            "Highly selective private",
            "Ivy Plus",
            "Highly selective public",
            "Selective public"
           ]
          ],
          [
           [
            "Selective private",
            "Other elite schools (public and private)",
            "Highly selective private",
            "Ivy Plus",
            "Highly selective public",
            "Selective public"
           ]
          ],
          [
           [
            "Selective private",
            "Other elite schools (public and private)",
            "Highly selective private",
            "Ivy Plus",
            "Highly selective public",
            "Selective public"
           ]
          ],
          [
           [
            "Selective private",
            "Other elite schools (public and private)",
            "Highly selective private",
            "Ivy Plus",
            "Highly selective public",
            "Selective public"
           ]
          ],
          [
           [
            "Selective private",
            "Other elite schools (public and private)",
            "Highly selective private",
            "Ivy Plus",
            "Highly selective public",
            "Selective public"
           ]
          ],
          [
           [
            "Selective private",
            "Other elite schools (public and private)",
            "Highly selective private",
            "Ivy Plus",
            "Highly selective public",
            "Selective public"
           ]
          ],
          [
           [
            "Selective private",
            "Other elite schools (public and private)",
            "Highly selective private",
            "Ivy Plus",
            "Highly selective public",
            "Selective public"
           ]
          ],
          [
           [
            "Selective private",
            "Other elite schools (public and private)",
            "Highly selective private",
            "Ivy Plus",
            "Highly selective public",
            "Selective public"
           ]
          ],
          [
           [
            "Selective private",
            "Other elite schools (public and private)",
            "Highly selective private",
            "Ivy Plus",
            "Highly selective public",
            "Selective public"
           ]
          ],
          [
           [
            "Selective private",
            "Other elite schools (public and private)",
            "Highly selective private",
            "Ivy Plus",
            "Highly selective public",
            "Selective public"
           ]
          ],
          [
           [
            "Selective private",
            "Other elite schools (public and private)",
            "Highly selective private",
            "Ivy Plus",
            "Highly selective public",
            "Selective public"
           ]
          ],
          [
           [
            "Selective private",
            "Other elite schools (public and private)",
            "Highly selective private",
            "Ivy Plus",
            "Highly selective public",
            "Selective public"
           ]
          ],
          [
           [
            "Selective private",
            "Other elite schools (public and private)",
            "Highly selective private",
            "Ivy Plus",
            "Highly selective public",
            "Selective public"
           ]
          ],
          [
           [
            "Selective private",
            "Other elite schools (public and private)",
            "Highly selective private",
            "Ivy Plus",
            "Highly selective public",
            "Selective public"
           ]
          ],
          [
           [
            "Selective private",
            "Other elite schools (public and private)",
            "Highly selective private",
            "Ivy Plus",
            "Highly selective public",
            "Selective public"
           ]
          ],
          [
           [
            "Selective private",
            "Other elite schools (public and private)",
            "Highly selective private",
            "Ivy Plus",
            "Highly selective public",
            "Selective public"
           ]
          ],
          [
           [
            "Selective private",
            "Other elite schools (public and private)",
            "Highly selective private",
            "Ivy Plus",
            "Highly selective public",
            "Selective public"
           ]
          ],
          [
           [
            "Selective private",
            "Other elite schools (public and private)",
            "Highly selective private",
            "Ivy Plus",
            "Highly selective public",
            "Selective public"
           ]
          ],
          [
           [
            "Selective private",
            "Other elite schools (public and private)",
            "Highly selective private",
            "Ivy Plus",
            "Highly selective public",
            "Selective public"
           ]
          ],
          [
           [
            "Selective private",
            "Other elite schools (public and private)",
            "Highly selective private",
            "Ivy Plus",
            "Highly selective public",
            "Selective public"
           ]
          ],
          [
           [
            "Selective private",
            "Other elite schools (public and private)",
            "Highly selective private",
            "Ivy Plus",
            "Highly selective public",
            "Selective public"
           ]
          ],
          [
           [
            "Selective private",
            "Other elite schools (public and private)",
            "Highly selective private",
            "Ivy Plus",
            "Highly selective public",
            "Selective public"
           ]
          ],
          [
           [
            "Selective private",
            "Other elite schools (public and private)",
            "Highly selective private",
            "Ivy Plus",
            "Highly selective public",
            "Selective public"
           ]
          ],
          [
           [
            "Selective private",
            "Other elite schools (public and private)",
            "Highly selective private",
            "Ivy Plus",
            "Highly selective public",
            "Selective public"
           ]
          ],
          [
           [
            "Selective private",
            "Other elite schools (public and private)",
            "Highly selective private",
            "Ivy Plus",
            "Highly selective public",
            "Selective public"
           ]
          ],
          [
           [
            "Selective private",
            "Other elite schools (public and private)",
            "Highly selective private",
            "Ivy Plus",
            "Highly selective public",
            "Selective public"
           ]
          ],
          [
           [
            "Highly selective private",
            "Other elite schools (public and private)",
            "Highly selective public"
           ]
          ],
          [
           [
            "Highly selective private",
            "Other elite schools (public and private)",
            "Highly selective public"
           ]
          ],
          [
           [
            "Highly selective private",
            "Other elite schools (public and private)",
            "Highly selective public"
           ]
          ],
          [
           [
            "Highly selective private",
            "Other elite schools (public and private)",
            "Highly selective public"
           ]
          ],
          [
           [
            "Highly selective private",
            "Other elite schools (public and private)",
            "Highly selective public"
           ]
          ],
          [
           [
            "Highly selective private",
            "Other elite schools (public and private)",
            "Highly selective public"
           ]
          ],
          [
           [
            "Highly selective private",
            "Other elite schools (public and private)",
            "Highly selective public"
           ]
          ],
          [
           [
            "Highly selective private",
            "Other elite schools (public and private)",
            "Highly selective public"
           ]
          ],
          [
           [
            "Highly selective private",
            "Other elite schools (public and private)",
            "Highly selective public"
           ]
          ],
          [
           [
            "Highly selective private",
            "Other elite schools (public and private)",
            "Highly selective public"
           ]
          ],
          [
           [
            "Highly selective private",
            "Other elite schools (public and private)",
            "Highly selective public"
           ]
          ],
          [
           [
            "Highly selective private",
            "Other elite schools (public and private)",
            "Highly selective public"
           ]
          ],
          [
           [
            "Highly selective private",
            "Other elite schools (public and private)",
            "Highly selective public"
           ]
          ],
          [
           [
            "Highly selective private",
            "Other elite schools (public and private)",
            "Highly selective public"
           ]
          ],
          [
           [
            "Selective private",
            "Other elite schools (public and private)",
            "Highly selective private",
            "Ivy Plus",
            "Highly selective public",
            "Selective public"
           ]
          ],
          [
           [
            "Selective private",
            "Other elite schools (public and private)",
            "Highly selective private",
            "Ivy Plus",
            "Highly selective public",
            "Selective public"
           ]
          ],
          [
           [
            "Selective private",
            "Other elite schools (public and private)",
            "Highly selective private",
            "Ivy Plus",
            "Highly selective public",
            "Selective public"
           ]
          ],
          [
           [
            "Selective private",
            "Other elite schools (public and private)",
            "Highly selective private",
            "Ivy Plus",
            "Highly selective public",
            "Selective public"
           ]
          ],
          [
           [
            "Selective private",
            "Other elite schools (public and private)",
            "Highly selective private",
            "Ivy Plus",
            "Highly selective public",
            "Selective public"
           ]
          ],
          [
           [
            "Selective private",
            "Other elite schools (public and private)",
            "Highly selective private",
            "Ivy Plus",
            "Highly selective public",
            "Selective public"
           ]
          ],
          [
           [
            "Selective private",
            "Other elite schools (public and private)",
            "Highly selective private",
            "Ivy Plus",
            "Highly selective public",
            "Selective public"
           ]
          ],
          [
           [
            "Selective private",
            "Other elite schools (public and private)",
            "Highly selective private",
            "Ivy Plus",
            "Highly selective public",
            "Selective public"
           ]
          ],
          [
           [
            "Selective private",
            "Other elite schools (public and private)",
            "Highly selective private",
            "Ivy Plus",
            "Highly selective public",
            "Selective public"
           ]
          ],
          [
           [
            "Selective private",
            "Other elite schools (public and private)",
            "Highly selective private",
            "Ivy Plus",
            "Highly selective public",
            "Selective public"
           ]
          ],
          [
           [
            "Selective private",
            "Other elite schools (public and private)",
            "Highly selective private",
            "Ivy Plus",
            "Highly selective public",
            "Selective public"
           ]
          ],
          [
           [
            "Selective private",
            "Other elite schools (public and private)",
            "Highly selective private",
            "Ivy Plus",
            "Highly selective public",
            "Selective public"
           ]
          ],
          [
           [
            "Selective private",
            "Other elite schools (public and private)",
            "Highly selective private",
            "Ivy Plus",
            "Highly selective public",
            "Selective public"
           ]
          ],
          [
           [
            "Selective private",
            "Other elite schools (public and private)",
            "Highly selective private",
            "Ivy Plus",
            "Highly selective public",
            "Selective public"
           ]
          ],
          [
           [
            "Other elite schools (public and private)",
            "Highly selective public",
            "Ivy Plus",
            "Highly selective private",
            "Selective public",
            "Selective private"
           ]
          ],
          [
           [
            "Other elite schools (public and private)",
            "Highly selective public",
            "Ivy Plus",
            "Highly selective private",
            "Selective public",
            "Selective private"
           ]
          ],
          [
           [
            "Other elite schools (public and private)",
            "Highly selective public",
            "Ivy Plus",
            "Highly selective private",
            "Selective public",
            "Selective private"
           ]
          ],
          [
           [
            "Other elite schools (public and private)",
            "Highly selective public",
            "Ivy Plus",
            "Highly selective private",
            "Selective public",
            "Selective private"
           ]
          ],
          [
           [
            "Other elite schools (public and private)",
            "Highly selective public",
            "Ivy Plus",
            "Highly selective private",
            "Selective public",
            "Selective private"
           ]
          ],
          [
           [
            "Other elite schools (public and private)",
            "Highly selective public",
            "Ivy Plus",
            "Highly selective private",
            "Selective public",
            "Selective private"
           ]
          ],
          [
           [
            "Other elite schools (public and private)",
            "Highly selective public",
            "Ivy Plus",
            "Highly selective private",
            "Selective public",
            "Selective private"
           ]
          ],
          [
           [
            "Other elite schools (public and private)",
            "Highly selective public",
            "Ivy Plus",
            "Highly selective private",
            "Selective public",
            "Selective private"
           ]
          ],
          [
           [
            "Other elite schools (public and private)",
            "Highly selective public",
            "Ivy Plus",
            "Highly selective private",
            "Selective public",
            "Selective private"
           ]
          ],
          [
           [
            "Other elite schools (public and private)",
            "Highly selective public",
            "Ivy Plus",
            "Highly selective private",
            "Selective public",
            "Selective private"
           ]
          ],
          [
           [
            "Other elite schools (public and private)",
            "Highly selective public",
            "Ivy Plus",
            "Highly selective private",
            "Selective public",
            "Selective private"
           ]
          ],
          [
           [
            "Other elite schools (public and private)",
            "Highly selective public",
            "Ivy Plus",
            "Highly selective private",
            "Selective public",
            "Selective private"
           ]
          ],
          [
           [
            "Other elite schools (public and private)",
            "Highly selective public",
            "Ivy Plus",
            "Highly selective private",
            "Selective public",
            "Selective private"
           ]
          ],
          [
           [
            "Other elite schools (public and private)",
            "Highly selective public",
            "Ivy Plus",
            "Highly selective private",
            "Selective public",
            "Selective private"
           ]
          ],
          [
           [
            "Other elite schools (public and private)",
            "Highly selective public",
            "Ivy Plus",
            "Highly selective private",
            "Selective public",
            "Selective private"
           ]
          ],
          [
           [
            "Other elite schools (public and private)",
            "Highly selective public",
            "Ivy Plus",
            "Highly selective private",
            "Selective public",
            "Selective private"
           ]
          ],
          [
           [
            "Other elite schools (public and private)",
            "Highly selective public",
            "Ivy Plus",
            "Highly selective private",
            "Selective public",
            "Selective private"
           ]
          ],
          [
           [
            "Other elite schools (public and private)",
            "Highly selective public",
            "Ivy Plus",
            "Highly selective private",
            "Selective public",
            "Selective private"
           ]
          ],
          [
           [
            "Other elite schools (public and private)",
            "Highly selective public",
            "Ivy Plus",
            "Highly selective private",
            "Selective public",
            "Selective private"
           ]
          ],
          [
           [
            "Other elite schools (public and private)",
            "Highly selective public",
            "Ivy Plus",
            "Highly selective private",
            "Selective public",
            "Selective private"
           ]
          ],
          [
           [
            "Other elite schools (public and private)",
            "Highly selective public",
            "Ivy Plus",
            "Highly selective private",
            "Selective public",
            "Selective private"
           ]
          ],
          [
           [
            "Other elite schools (public and private)",
            "Highly selective public",
            "Ivy Plus",
            "Highly selective private",
            "Selective public",
            "Selective private"
           ]
          ],
          [
           [
            "Other elite schools (public and private)",
            "Highly selective public",
            "Ivy Plus",
            "Highly selective private",
            "Selective public",
            "Selective private"
           ]
          ],
          [
           [
            "Other elite schools (public and private)",
            "Highly selective public",
            "Ivy Plus",
            "Highly selective private",
            "Selective public",
            "Selective private"
           ]
          ],
          [
           [
            "Other elite schools (public and private)",
            "Highly selective public",
            "Ivy Plus",
            "Highly selective private",
            "Selective public",
            "Selective private"
           ]
          ],
          [
           [
            "Other elite schools (public and private)",
            "Highly selective public",
            "Ivy Plus",
            "Highly selective private",
            "Selective public",
            "Selective private"
           ]
          ],
          [
           [
            "Other elite schools (public and private)",
            "Highly selective public",
            "Ivy Plus",
            "Highly selective private",
            "Selective public",
            "Selective private"
           ]
          ],
          [
           [
            "Other elite schools (public and private)",
            "Highly selective public",
            "Ivy Plus",
            "Highly selective private",
            "Selective public",
            "Selective private"
           ]
          ],
          [
           [
            "Other elite schools (public and private)"
           ]
          ],
          [
           [
            "Other elite schools (public and private)"
           ]
          ],
          [
           [
            "Other elite schools (public and private)"
           ]
          ],
          [
           [
            "Other elite schools (public and private)"
           ]
          ],
          [
           [
            "Other elite schools (public and private)"
           ]
          ],
          [
           [
            "Other elite schools (public and private)"
           ]
          ],
          [
           [
            "Other elite schools (public and private)"
           ]
          ],
          [
           [
            "Other elite schools (public and private)"
           ]
          ],
          [
           [
            "Other elite schools (public and private)"
           ]
          ],
          [
           [
            "Other elite schools (public and private)"
           ]
          ],
          [
           [
            "Other elite schools (public and private)"
           ]
          ],
          [
           [
            "Other elite schools (public and private)"
           ]
          ],
          [
           [
            "Other elite schools (public and private)"
           ]
          ],
          [
           [
            "Other elite schools (public and private)"
           ]
          ],
          [
           [
            "Other elite schools (public and private)",
            "Highly selective public",
            "Ivy Plus",
            "Highly selective private",
            "Selective public",
            "Selective private"
           ]
          ],
          [
           [
            "Other elite schools (public and private)",
            "Highly selective public",
            "Ivy Plus",
            "Highly selective private",
            "Selective public",
            "Selective private"
           ]
          ],
          [
           [
            "Other elite schools (public and private)",
            "Highly selective public",
            "Ivy Plus",
            "Highly selective private",
            "Selective public",
            "Selective private"
           ]
          ],
          [
           [
            "Other elite schools (public and private)",
            "Highly selective public",
            "Ivy Plus",
            "Highly selective private",
            "Selective public",
            "Selective private"
           ]
          ],
          [
           [
            "Other elite schools (public and private)",
            "Highly selective public",
            "Ivy Plus",
            "Highly selective private",
            "Selective public",
            "Selective private"
           ]
          ],
          [
           [
            "Other elite schools (public and private)",
            "Highly selective public",
            "Ivy Plus",
            "Highly selective private",
            "Selective public",
            "Selective private"
           ]
          ],
          [
           [
            "Other elite schools (public and private)",
            "Highly selective public",
            "Ivy Plus",
            "Highly selective private",
            "Selective public",
            "Selective private"
           ]
          ],
          [
           [
            "Other elite schools (public and private)",
            "Highly selective public",
            "Ivy Plus",
            "Highly selective private",
            "Selective public",
            "Selective private"
           ]
          ],
          [
           [
            "Other elite schools (public and private)",
            "Highly selective public",
            "Ivy Plus",
            "Highly selective private",
            "Selective public",
            "Selective private"
           ]
          ],
          [
           [
            "Other elite schools (public and private)",
            "Highly selective public",
            "Ivy Plus",
            "Highly selective private",
            "Selective public",
            "Selective private"
           ]
          ],
          [
           [
            "Other elite schools (public and private)",
            "Highly selective public",
            "Ivy Plus",
            "Highly selective private",
            "Selective public",
            "Selective private"
           ]
          ],
          [
           [
            "Other elite schools (public and private)",
            "Highly selective public",
            "Ivy Plus",
            "Highly selective private",
            "Selective public",
            "Selective private"
           ]
          ],
          [
           [
            "Other elite schools (public and private)",
            "Highly selective public",
            "Ivy Plus",
            "Highly selective private",
            "Selective public",
            "Selective private"
           ]
          ],
          [
           [
            "Other elite schools (public and private)",
            "Highly selective public",
            "Ivy Plus",
            "Highly selective private",
            "Selective public",
            "Selective private"
           ]
          ],
          [
           [
            "Highly selective private",
            "Other elite schools (public and private)",
            "Highly selective public"
           ]
          ],
          [
           [
            "Highly selective private",
            "Other elite schools (public and private)",
            "Highly selective public"
           ]
          ],
          [
           [
            "Highly selective private",
            "Other elite schools (public and private)",
            "Highly selective public"
           ]
          ],
          [
           [
            "Highly selective private",
            "Other elite schools (public and private)",
            "Highly selective public"
           ]
          ],
          [
           [
            "Highly selective private",
            "Other elite schools (public and private)",
            "Highly selective public"
           ]
          ],
          [
           [
            "Highly selective private",
            "Other elite schools (public and private)",
            "Highly selective public"
           ]
          ],
          [
           [
            "Highly selective private",
            "Other elite schools (public and private)",
            "Highly selective public"
           ]
          ],
          [
           [
            "Highly selective private",
            "Other elite schools (public and private)",
            "Highly selective public"
           ]
          ],
          [
           [
            "Highly selective private",
            "Other elite schools (public and private)",
            "Highly selective public"
           ]
          ],
          [
           [
            "Highly selective private",
            "Other elite schools (public and private)",
            "Highly selective public"
           ]
          ],
          [
           [
            "Highly selective private",
            "Other elite schools (public and private)",
            "Highly selective public"
           ]
          ],
          [
           [
            "Highly selective private",
            "Other elite schools (public and private)",
            "Highly selective public"
           ]
          ],
          [
           [
            "Highly selective private",
            "Other elite schools (public and private)",
            "Highly selective public"
           ]
          ],
          [
           [
            "Highly selective private",
            "Other elite schools (public and private)",
            "Highly selective public"
           ]
          ],
          [
           [
            "Highly selective private",
            "Other elite schools (public and private)",
            "Highly selective public"
           ]
          ],
          [
           [
            "Highly selective private",
            "Other elite schools (public and private)",
            "Highly selective public"
           ]
          ],
          [
           [
            "Highly selective private",
            "Other elite schools (public and private)",
            "Highly selective public"
           ]
          ],
          [
           [
            "Highly selective private",
            "Other elite schools (public and private)",
            "Highly selective public"
           ]
          ],
          [
           [
            "Highly selective private",
            "Other elite schools (public and private)",
            "Highly selective public"
           ]
          ],
          [
           [
            "Highly selective private",
            "Other elite schools (public and private)",
            "Highly selective public"
           ]
          ],
          [
           [
            "Highly selective private",
            "Other elite schools (public and private)",
            "Highly selective public"
           ]
          ],
          [
           [
            "Highly selective private",
            "Other elite schools (public and private)",
            "Highly selective public"
           ]
          ],
          [
           [
            "Highly selective private",
            "Other elite schools (public and private)",
            "Highly selective public"
           ]
          ],
          [
           [
            "Highly selective private",
            "Other elite schools (public and private)",
            "Highly selective public"
           ]
          ],
          [
           [
            "Highly selective private",
            "Other elite schools (public and private)",
            "Highly selective public"
           ]
          ],
          [
           [
            "Highly selective private",
            "Other elite schools (public and private)",
            "Highly selective public"
           ]
          ],
          [
           [
            "Highly selective private",
            "Other elite schools (public and private)",
            "Highly selective public"
           ]
          ],
          [
           [
            "Highly selective private",
            "Other elite schools (public and private)",
            "Highly selective public"
           ]
          ],
          [
           [
            "Other elite schools (public and private)",
            "Highly selective private",
            "Highly selective public",
            "Ivy Plus"
           ]
          ],
          [
           [
            "Other elite schools (public and private)",
            "Highly selective private",
            "Highly selective public",
            "Ivy Plus"
           ]
          ],
          [
           [
            "Other elite schools (public and private)",
            "Highly selective private",
            "Highly selective public",
            "Ivy Plus"
           ]
          ],
          [
           [
            "Other elite schools (public and private)",
            "Highly selective private",
            "Highly selective public",
            "Ivy Plus"
           ]
          ],
          [
           [
            "Other elite schools (public and private)",
            "Highly selective private",
            "Highly selective public",
            "Ivy Plus"
           ]
          ],
          [
           [
            "Other elite schools (public and private)",
            "Highly selective private",
            "Highly selective public",
            "Ivy Plus"
           ]
          ],
          [
           [
            "Other elite schools (public and private)",
            "Highly selective private",
            "Highly selective public",
            "Ivy Plus"
           ]
          ],
          [
           [
            "Other elite schools (public and private)",
            "Highly selective private",
            "Highly selective public",
            "Ivy Plus"
           ]
          ],
          [
           [
            "Other elite schools (public and private)",
            "Highly selective private",
            "Highly selective public",
            "Ivy Plus"
           ]
          ],
          [
           [
            "Other elite schools (public and private)",
            "Highly selective private",
            "Highly selective public",
            "Ivy Plus"
           ]
          ],
          [
           [
            "Other elite schools (public and private)",
            "Highly selective private",
            "Highly selective public",
            "Ivy Plus"
           ]
          ],
          [
           [
            "Other elite schools (public and private)",
            "Highly selective private",
            "Highly selective public",
            "Ivy Plus"
           ]
          ],
          [
           [
            "Other elite schools (public and private)",
            "Highly selective private",
            "Highly selective public",
            "Ivy Plus"
           ]
          ],
          [
           [
            "Other elite schools (public and private)",
            "Highly selective private",
            "Highly selective public",
            "Ivy Plus"
           ]
          ],
          [
           [
            "Other elite schools (public and private)",
            "Highly selective private",
            "Ivy Plus"
           ]
          ],
          [
           [
            "Other elite schools (public and private)",
            "Highly selective private",
            "Ivy Plus"
           ]
          ],
          [
           [
            "Other elite schools (public and private)",
            "Highly selective private",
            "Ivy Plus"
           ]
          ],
          [
           [
            "Other elite schools (public and private)",
            "Highly selective private",
            "Ivy Plus"
           ]
          ],
          [
           [
            "Other elite schools (public and private)",
            "Highly selective private",
            "Ivy Plus"
           ]
          ],
          [
           [
            "Other elite schools (public and private)",
            "Highly selective private",
            "Ivy Plus"
           ]
          ],
          [
           [
            "Other elite schools (public and private)",
            "Highly selective private",
            "Ivy Plus"
           ]
          ],
          [
           [
            "Other elite schools (public and private)",
            "Highly selective private",
            "Ivy Plus"
           ]
          ],
          [
           [
            "Other elite schools (public and private)",
            "Highly selective private",
            "Ivy Plus"
           ]
          ],
          [
           [
            "Other elite schools (public and private)",
            "Highly selective private",
            "Ivy Plus"
           ]
          ],
          [
           [
            "Other elite schools (public and private)",
            "Highly selective private",
            "Ivy Plus"
           ]
          ],
          [
           [
            "Other elite schools (public and private)",
            "Highly selective private",
            "Ivy Plus"
           ]
          ],
          [
           [
            "Other elite schools (public and private)",
            "Highly selective private",
            "Ivy Plus"
           ]
          ],
          [
           [
            "Other elite schools (public and private)",
            "Highly selective private",
            "Ivy Plus"
           ]
          ],
          [
           [
            "Selective public"
           ]
          ],
          [
           [
            "Selective public"
           ]
          ],
          [
           [
            "Selective public"
           ]
          ],
          [
           [
            "Selective public"
           ]
          ],
          [
           [
            "Selective public"
           ]
          ],
          [
           [
            "Selective public"
           ]
          ],
          [
           [
            "Selective public"
           ]
          ],
          [
           [
            "Selective public"
           ]
          ],
          [
           [
            "Selective public"
           ]
          ],
          [
           [
            "Selective public"
           ]
          ],
          [
           [
            "Selective public"
           ]
          ],
          [
           [
            "Selective public"
           ]
          ],
          [
           [
            "Selective public"
           ]
          ],
          [
           [
            "Selective public"
           ]
          ],
          [
           [
            "Selective public"
           ]
          ],
          [
           [
            "Selective public"
           ]
          ],
          [
           [
            "Selective public"
           ]
          ],
          [
           [
            "Selective public"
           ]
          ],
          [
           [
            "Selective public"
           ]
          ],
          [
           [
            "Selective public"
           ]
          ],
          [
           [
            "Selective public"
           ]
          ],
          [
           [
            "Selective public"
           ]
          ],
          [
           [
            "Selective public"
           ]
          ],
          [
           [
            "Selective public"
           ]
          ],
          [
           [
            "Selective public"
           ]
          ],
          [
           [
            "Selective public"
           ]
          ],
          [
           [
            "Selective public"
           ]
          ],
          [
           [
            "Selective public"
           ]
          ],
          [
           [
            "Selective private",
            "Other elite schools (public and private)",
            "Highly selective private",
            "Ivy Plus",
            "Highly selective public",
            "Selective public"
           ]
          ],
          [
           [
            "Selective private",
            "Other elite schools (public and private)",
            "Highly selective private",
            "Ivy Plus",
            "Highly selective public",
            "Selective public"
           ]
          ],
          [
           [
            "Selective private",
            "Other elite schools (public and private)",
            "Highly selective private",
            "Ivy Plus",
            "Highly selective public",
            "Selective public"
           ]
          ],
          [
           [
            "Selective private",
            "Other elite schools (public and private)",
            "Highly selective private",
            "Ivy Plus",
            "Highly selective public",
            "Selective public"
           ]
          ],
          [
           [
            "Selective private",
            "Other elite schools (public and private)",
            "Highly selective private",
            "Ivy Plus",
            "Highly selective public",
            "Selective public"
           ]
          ],
          [
           [
            "Selective private",
            "Other elite schools (public and private)",
            "Highly selective private",
            "Ivy Plus",
            "Highly selective public",
            "Selective public"
           ]
          ],
          [
           [
            "Selective private",
            "Other elite schools (public and private)",
            "Highly selective private",
            "Ivy Plus",
            "Highly selective public",
            "Selective public"
           ]
          ],
          [
           [
            "Selective private",
            "Other elite schools (public and private)",
            "Highly selective private",
            "Ivy Plus",
            "Highly selective public",
            "Selective public"
           ]
          ],
          [
           [
            "Selective private",
            "Other elite schools (public and private)",
            "Highly selective private",
            "Ivy Plus",
            "Highly selective public",
            "Selective public"
           ]
          ],
          [
           [
            "Selective private",
            "Other elite schools (public and private)",
            "Highly selective private",
            "Ivy Plus",
            "Highly selective public",
            "Selective public"
           ]
          ],
          [
           [
            "Selective private",
            "Other elite schools (public and private)",
            "Highly selective private",
            "Ivy Plus",
            "Highly selective public",
            "Selective public"
           ]
          ],
          [
           [
            "Selective private",
            "Other elite schools (public and private)",
            "Highly selective private",
            "Ivy Plus",
            "Highly selective public",
            "Selective public"
           ]
          ],
          [
           [
            "Selective private",
            "Other elite schools (public and private)",
            "Highly selective private",
            "Ivy Plus",
            "Highly selective public",
            "Selective public"
           ]
          ],
          [
           [
            "Selective private",
            "Other elite schools (public and private)",
            "Highly selective private",
            "Ivy Plus",
            "Highly selective public",
            "Selective public"
           ]
          ],
          [
           [
            "Selective private",
            "Other elite schools (public and private)",
            "Highly selective private",
            "Ivy Plus",
            "Highly selective public",
            "Selective public"
           ]
          ],
          [
           [
            "Selective private",
            "Other elite schools (public and private)",
            "Highly selective private",
            "Ivy Plus",
            "Highly selective public",
            "Selective public"
           ]
          ],
          [
           [
            "Selective private",
            "Other elite schools (public and private)",
            "Highly selective private",
            "Ivy Plus",
            "Highly selective public",
            "Selective public"
           ]
          ],
          [
           [
            "Selective private",
            "Other elite schools (public and private)",
            "Highly selective private",
            "Ivy Plus",
            "Highly selective public",
            "Selective public"
           ]
          ],
          [
           [
            "Selective private",
            "Other elite schools (public and private)",
            "Highly selective private",
            "Ivy Plus",
            "Highly selective public",
            "Selective public"
           ]
          ],
          [
           [
            "Selective private",
            "Other elite schools (public and private)",
            "Highly selective private",
            "Ivy Plus",
            "Highly selective public",
            "Selective public"
           ]
          ],
          [
           [
            "Selective private",
            "Other elite schools (public and private)",
            "Highly selective private",
            "Ivy Plus",
            "Highly selective public",
            "Selective public"
           ]
          ],
          [
           [
            "Selective private",
            "Other elite schools (public and private)",
            "Highly selective private",
            "Ivy Plus",
            "Highly selective public",
            "Selective public"
           ]
          ],
          [
           [
            "Selective private",
            "Other elite schools (public and private)",
            "Highly selective private",
            "Ivy Plus",
            "Highly selective public",
            "Selective public"
           ]
          ],
          [
           [
            "Selective private",
            "Other elite schools (public and private)",
            "Highly selective private",
            "Ivy Plus",
            "Highly selective public",
            "Selective public"
           ]
          ],
          [
           [
            "Selective private",
            "Other elite schools (public and private)",
            "Highly selective private",
            "Ivy Plus",
            "Highly selective public",
            "Selective public"
           ]
          ],
          [
           [
            "Selective private",
            "Other elite schools (public and private)",
            "Highly selective private",
            "Ivy Plus",
            "Highly selective public",
            "Selective public"
           ]
          ],
          [
           [
            "Selective private",
            "Other elite schools (public and private)",
            "Highly selective private",
            "Ivy Plus",
            "Highly selective public",
            "Selective public"
           ]
          ],
          [
           [
            "Selective private",
            "Other elite schools (public and private)",
            "Highly selective private",
            "Ivy Plus",
            "Highly selective public",
            "Selective public"
           ]
          ],
          [
           [
            "Selective private",
            "Other elite schools (public and private)",
            "Highly selective private",
            "Ivy Plus",
            "Highly selective public",
            "Selective public"
           ]
          ],
          [
           [
            "Selective private",
            "Other elite schools (public and private)",
            "Highly selective private",
            "Ivy Plus",
            "Highly selective public",
            "Selective public"
           ]
          ],
          [
           [
            "Selective private",
            "Other elite schools (public and private)",
            "Highly selective private",
            "Ivy Plus",
            "Highly selective public",
            "Selective public"
           ]
          ],
          [
           [
            "Selective private",
            "Other elite schools (public and private)",
            "Highly selective private",
            "Ivy Plus",
            "Highly selective public",
            "Selective public"
           ]
          ],
          [
           [
            "Selective private",
            "Other elite schools (public and private)",
            "Highly selective private",
            "Ivy Plus",
            "Highly selective public",
            "Selective public"
           ]
          ],
          [
           [
            "Selective private",
            "Other elite schools (public and private)",
            "Highly selective private",
            "Ivy Plus",
            "Highly selective public",
            "Selective public"
           ]
          ],
          [
           [
            "Selective private",
            "Other elite schools (public and private)",
            "Highly selective private",
            "Ivy Plus",
            "Highly selective public",
            "Selective public"
           ]
          ],
          [
           [
            "Selective private",
            "Other elite schools (public and private)",
            "Highly selective private",
            "Ivy Plus",
            "Highly selective public",
            "Selective public"
           ]
          ],
          [
           [
            "Selective private",
            "Other elite schools (public and private)",
            "Highly selective private",
            "Ivy Plus",
            "Highly selective public",
            "Selective public"
           ]
          ],
          [
           [
            "Selective private",
            "Other elite schools (public and private)",
            "Highly selective private",
            "Ivy Plus",
            "Highly selective public",
            "Selective public"
           ]
          ],
          [
           [
            "Selective private",
            "Other elite schools (public and private)",
            "Highly selective private",
            "Ivy Plus",
            "Highly selective public",
            "Selective public"
           ]
          ],
          [
           [
            "Selective private",
            "Other elite schools (public and private)",
            "Highly selective private",
            "Ivy Plus",
            "Highly selective public",
            "Selective public"
           ]
          ],
          [
           [
            "Selective private",
            "Other elite schools (public and private)",
            "Highly selective private",
            "Ivy Plus",
            "Highly selective public",
            "Selective public"
           ]
          ],
          [
           [
            "Selective private",
            "Other elite schools (public and private)",
            "Highly selective private",
            "Ivy Plus",
            "Highly selective public",
            "Selective public"
           ]
          ],
          [
           [
            "Selective private",
            "Other elite schools (public and private)",
            "Highly selective private",
            "Ivy Plus",
            "Highly selective public",
            "Selective public"
           ]
          ],
          [
           [
            "Selective private",
            "Other elite schools (public and private)",
            "Highly selective private",
            "Ivy Plus",
            "Highly selective public",
            "Selective public"
           ]
          ],
          [
           [
            "Selective private",
            "Other elite schools (public and private)",
            "Highly selective private",
            "Ivy Plus",
            "Highly selective public",
            "Selective public"
           ]
          ],
          [
           [
            "Selective private",
            "Other elite schools (public and private)",
            "Highly selective private",
            "Ivy Plus",
            "Highly selective public",
            "Selective public"
           ]
          ],
          [
           [
            "Selective private",
            "Other elite schools (public and private)",
            "Highly selective private",
            "Ivy Plus",
            "Highly selective public",
            "Selective public"
           ]
          ],
          [
           [
            "Selective private",
            "Other elite schools (public and private)",
            "Highly selective private",
            "Ivy Plus",
            "Highly selective public",
            "Selective public"
           ]
          ],
          [
           [
            "Selective private",
            "Other elite schools (public and private)",
            "Highly selective private",
            "Ivy Plus",
            "Highly selective public",
            "Selective public"
           ]
          ],
          [
           [
            "Selective private",
            "Other elite schools (public and private)",
            "Highly selective private",
            "Ivy Plus",
            "Highly selective public",
            "Selective public"
           ]
          ],
          [
           [
            "Selective private",
            "Other elite schools (public and private)",
            "Highly selective private",
            "Ivy Plus",
            "Highly selective public",
            "Selective public"
           ]
          ],
          [
           [
            "Selective private",
            "Other elite schools (public and private)",
            "Highly selective private",
            "Ivy Plus",
            "Highly selective public",
            "Selective public"
           ]
          ],
          [
           [
            "Selective private",
            "Other elite schools (public and private)",
            "Highly selective private",
            "Ivy Plus",
            "Highly selective public",
            "Selective public"
           ]
          ],
          [
           [
            "Selective private",
            "Other elite schools (public and private)",
            "Highly selective private",
            "Ivy Plus",
            "Highly selective public",
            "Selective public"
           ]
          ],
          [
           [
            "Selective private",
            "Other elite schools (public and private)",
            "Highly selective private",
            "Ivy Plus",
            "Highly selective public",
            "Selective public"
           ]
          ],
          [
           [
            "Selective private",
            "Other elite schools (public and private)",
            "Highly selective private",
            "Ivy Plus",
            "Highly selective public",
            "Selective public"
           ]
          ],
          [
           [
            "Selective private",
            "Other elite schools (public and private)",
            "Highly selective private",
            "Ivy Plus",
            "Highly selective public",
            "Selective public"
           ]
          ],
          [
           [
            "Selective private",
            "Other elite schools (public and private)",
            "Highly selective private",
            "Ivy Plus",
            "Highly selective public",
            "Selective public"
           ]
          ],
          [
           [
            "Selective private",
            "Other elite schools (public and private)",
            "Highly selective private",
            "Ivy Plus",
            "Highly selective public",
            "Selective public"
           ]
          ],
          [
           [
            "Selective private",
            "Other elite schools (public and private)",
            "Highly selective private",
            "Ivy Plus",
            "Highly selective public",
            "Selective public"
           ]
          ],
          [
           [
            "Selective private",
            "Other elite schools (public and private)",
            "Highly selective private",
            "Ivy Plus",
            "Highly selective public",
            "Selective public"
           ]
          ],
          [
           [
            "Selective private",
            "Other elite schools (public and private)",
            "Highly selective private",
            "Ivy Plus",
            "Highly selective public",
            "Selective public"
           ]
          ],
          [
           [
            "Selective private",
            "Other elite schools (public and private)",
            "Highly selective private",
            "Ivy Plus",
            "Highly selective public",
            "Selective public"
           ]
          ],
          [
           [
            "Selective private",
            "Other elite schools (public and private)",
            "Highly selective private",
            "Ivy Plus",
            "Highly selective public",
            "Selective public"
           ]
          ],
          [
           [
            "Selective private",
            "Other elite schools (public and private)",
            "Highly selective private",
            "Ivy Plus",
            "Highly selective public",
            "Selective public"
           ]
          ],
          [
           [
            "Selective private",
            "Other elite schools (public and private)",
            "Highly selective private",
            "Ivy Plus",
            "Highly selective public",
            "Selective public"
           ]
          ],
          [
           [
            "Selective private",
            "Other elite schools (public and private)",
            "Highly selective private",
            "Ivy Plus",
            "Highly selective public",
            "Selective public"
           ]
          ],
          [
           [
            "Selective private",
            "Other elite schools (public and private)",
            "Highly selective private",
            "Ivy Plus",
            "Highly selective public",
            "Selective public"
           ]
          ],
          [
           [
            "Selective private",
            "Other elite schools (public and private)",
            "Highly selective private",
            "Ivy Plus",
            "Highly selective public",
            "Selective public"
           ]
          ],
          [
           [
            "Selective private",
            "Other elite schools (public and private)",
            "Highly selective private",
            "Ivy Plus",
            "Highly selective public",
            "Selective public"
           ]
          ],
          [
           [
            "Selective private",
            "Other elite schools (public and private)",
            "Highly selective private",
            "Ivy Plus",
            "Highly selective public",
            "Selective public"
           ]
          ],
          [
           [
            "Selective private",
            "Other elite schools (public and private)",
            "Highly selective private",
            "Ivy Plus",
            "Highly selective public",
            "Selective public"
           ]
          ],
          [
           [
            "Selective private",
            "Other elite schools (public and private)",
            "Highly selective private",
            "Ivy Plus",
            "Highly selective public",
            "Selective public"
           ]
          ],
          [
           [
            "Selective private",
            "Other elite schools (public and private)",
            "Highly selective private",
            "Ivy Plus",
            "Highly selective public",
            "Selective public"
           ]
          ],
          [
           [
            "Selective private",
            "Other elite schools (public and private)",
            "Highly selective private",
            "Ivy Plus",
            "Highly selective public",
            "Selective public"
           ]
          ],
          [
           [
            "Selective private",
            "Other elite schools (public and private)",
            "Highly selective private",
            "Ivy Plus",
            "Highly selective public",
            "Selective public"
           ]
          ],
          [
           [
            "Selective private",
            "Other elite schools (public and private)",
            "Highly selective private",
            "Ivy Plus",
            "Highly selective public",
            "Selective public"
           ]
          ],
          [
           [
            "Selective private",
            "Other elite schools (public and private)",
            "Highly selective private",
            "Ivy Plus",
            "Highly selective public",
            "Selective public"
           ]
          ],
          [
           [
            "Selective private",
            "Other elite schools (public and private)",
            "Highly selective private",
            "Ivy Plus",
            "Highly selective public",
            "Selective public"
           ]
          ],
          [
           [
            "Selective private",
            "Other elite schools (public and private)",
            "Highly selective private",
            "Ivy Plus",
            "Highly selective public",
            "Selective public"
           ]
          ],
          [
           [
            "Selective private",
            "Other elite schools (public and private)",
            "Highly selective private",
            "Ivy Plus",
            "Highly selective public",
            "Selective public"
           ]
          ],
          [
           [
            "Selective private",
            "Other elite schools (public and private)",
            "Highly selective private",
            "Ivy Plus",
            "Highly selective public",
            "Selective public"
           ]
          ],
          [
           [
            "Selective private",
            "Other elite schools (public and private)",
            "Highly selective private",
            "Ivy Plus",
            "Highly selective public",
            "Selective public"
           ]
          ],
          [
           [
            "Selective private",
            "Other elite schools (public and private)",
            "Highly selective private",
            "Ivy Plus",
            "Highly selective public",
            "Selective public"
           ]
          ],
          [
           [
            "Selective private",
            "Other elite schools (public and private)",
            "Highly selective private",
            "Ivy Plus",
            "Highly selective public",
            "Selective public"
           ]
          ],
          [
           [
            "Selective private",
            "Other elite schools (public and private)",
            "Highly selective private",
            "Ivy Plus",
            "Highly selective public",
            "Selective public"
           ]
          ],
          [
           [
            "Selective private",
            "Other elite schools (public and private)",
            "Highly selective private",
            "Ivy Plus",
            "Highly selective public",
            "Selective public"
           ]
          ],
          [
           [
            "Selective private",
            "Other elite schools (public and private)",
            "Highly selective private",
            "Ivy Plus",
            "Highly selective public",
            "Selective public"
           ]
          ],
          [
           [
            "Selective private",
            "Other elite schools (public and private)",
            "Highly selective private",
            "Ivy Plus",
            "Highly selective public",
            "Selective public"
           ]
          ],
          [
           [
            "Selective private",
            "Other elite schools (public and private)",
            "Highly selective private",
            "Ivy Plus",
            "Highly selective public",
            "Selective public"
           ]
          ],
          [
           [
            "Selective private",
            "Other elite schools (public and private)",
            "Highly selective private",
            "Ivy Plus",
            "Highly selective public",
            "Selective public"
           ]
          ],
          [
           [
            "Selective private",
            "Other elite schools (public and private)",
            "Highly selective private",
            "Ivy Plus",
            "Highly selective public",
            "Selective public"
           ]
          ],
          [
           [
            "Selective private",
            "Other elite schools (public and private)",
            "Highly selective private",
            "Ivy Plus",
            "Highly selective public",
            "Selective public"
           ]
          ],
          [
           [
            "Selective private",
            "Other elite schools (public and private)",
            "Highly selective private",
            "Ivy Plus",
            "Highly selective public",
            "Selective public"
           ]
          ],
          [
           [
            "Selective private",
            "Other elite schools (public and private)",
            "Highly selective private",
            "Ivy Plus",
            "Highly selective public",
            "Selective public"
           ]
          ],
          [
           [
            "Selective private",
            "Other elite schools (public and private)",
            "Highly selective private",
            "Ivy Plus",
            "Highly selective public",
            "Selective public"
           ]
          ],
          [
           [
            "Selective private",
            "Other elite schools (public and private)",
            "Highly selective private",
            "Ivy Plus",
            "Highly selective public",
            "Selective public"
           ]
          ],
          [
           [
            "Selective private",
            "Other elite schools (public and private)",
            "Highly selective private",
            "Ivy Plus",
            "Highly selective public",
            "Selective public"
           ]
          ],
          [
           [
            "Selective private",
            "Other elite schools (public and private)",
            "Highly selective private",
            "Ivy Plus",
            "Highly selective public",
            "Selective public"
           ]
          ],
          [
           [
            "Selective private",
            "Other elite schools (public and private)",
            "Highly selective private",
            "Ivy Plus",
            "Highly selective public",
            "Selective public"
           ]
          ],
          [
           [
            "Selective private",
            "Other elite schools (public and private)",
            "Highly selective private",
            "Ivy Plus",
            "Highly selective public",
            "Selective public"
           ]
          ],
          [
           [
            "Selective private",
            "Other elite schools (public and private)",
            "Highly selective private",
            "Ivy Plus",
            "Highly selective public",
            "Selective public"
           ]
          ],
          [
           [
            "Selective private",
            "Other elite schools (public and private)",
            "Highly selective private",
            "Ivy Plus",
            "Highly selective public",
            "Selective public"
           ]
          ],
          [
           [
            "Selective private",
            "Other elite schools (public and private)",
            "Highly selective private",
            "Ivy Plus",
            "Highly selective public",
            "Selective public"
           ]
          ],
          [
           [
            "Selective private",
            "Other elite schools (public and private)",
            "Highly selective private",
            "Ivy Plus",
            "Highly selective public",
            "Selective public"
           ]
          ],
          [
           [
            "Selective private",
            "Other elite schools (public and private)",
            "Highly selective private",
            "Ivy Plus",
            "Highly selective public",
            "Selective public"
           ]
          ],
          [
           [
            "Selective private",
            "Other elite schools (public and private)",
            "Highly selective private",
            "Ivy Plus",
            "Highly selective public",
            "Selective public"
           ]
          ],
          [
           [
            "Selective private",
            "Other elite schools (public and private)",
            "Highly selective private",
            "Ivy Plus",
            "Highly selective public",
            "Selective public"
           ]
          ],
          [
           [
            "Selective private",
            "Other elite schools (public and private)",
            "Highly selective private",
            "Ivy Plus",
            "Highly selective public",
            "Selective public"
           ]
          ],
          [
           [
            "Selective private",
            "Other elite schools (public and private)",
            "Highly selective private",
            "Ivy Plus",
            "Highly selective public",
            "Selective public"
           ]
          ],
          [
           [
            "Selective private",
            "Other elite schools (public and private)",
            "Highly selective private",
            "Ivy Plus",
            "Highly selective public",
            "Selective public"
           ]
          ],
          [
           [
            "Selective private",
            "Other elite schools (public and private)",
            "Highly selective private",
            "Ivy Plus",
            "Highly selective public",
            "Selective public"
           ]
          ],
          [
           [
            "Other elite schools (public and private)",
            "Ivy Plus"
           ]
          ],
          [
           [
            "Other elite schools (public and private)",
            "Ivy Plus"
           ]
          ],
          [
           [
            "Other elite schools (public and private)",
            "Ivy Plus"
           ]
          ],
          [
           [
            "Other elite schools (public and private)",
            "Ivy Plus"
           ]
          ],
          [
           [
            "Other elite schools (public and private)",
            "Ivy Plus"
           ]
          ],
          [
           [
            "Other elite schools (public and private)",
            "Ivy Plus"
           ]
          ],
          [
           [
            "Other elite schools (public and private)",
            "Ivy Plus"
           ]
          ],
          [
           [
            "Other elite schools (public and private)",
            "Ivy Plus"
           ]
          ],
          [
           [
            "Other elite schools (public and private)",
            "Ivy Plus"
           ]
          ],
          [
           [
            "Other elite schools (public and private)",
            "Ivy Plus"
           ]
          ],
          [
           [
            "Other elite schools (public and private)",
            "Ivy Plus"
           ]
          ],
          [
           [
            "Other elite schools (public and private)",
            "Ivy Plus"
           ]
          ],
          [
           [
            "Other elite schools (public and private)",
            "Ivy Plus"
           ]
          ],
          [
           [
            "Other elite schools (public and private)",
            "Ivy Plus"
           ]
          ],
          [
           [
            "Other elite schools (public and private)",
            "Highly selective private",
            "Highly selective public",
            "Ivy Plus"
           ]
          ],
          [
           [
            "Other elite schools (public and private)",
            "Highly selective private",
            "Highly selective public",
            "Ivy Plus"
           ]
          ],
          [
           [
            "Other elite schools (public and private)",
            "Highly selective private",
            "Highly selective public",
            "Ivy Plus"
           ]
          ],
          [
           [
            "Other elite schools (public and private)",
            "Highly selective private",
            "Highly selective public",
            "Ivy Plus"
           ]
          ],
          [
           [
            "Other elite schools (public and private)",
            "Highly selective private",
            "Highly selective public",
            "Ivy Plus"
           ]
          ],
          [
           [
            "Other elite schools (public and private)",
            "Highly selective private",
            "Highly selective public",
            "Ivy Plus"
           ]
          ],
          [
           [
            "Other elite schools (public and private)",
            "Highly selective private",
            "Highly selective public",
            "Ivy Plus"
           ]
          ],
          [
           [
            "Other elite schools (public and private)",
            "Highly selective private",
            "Highly selective public",
            "Ivy Plus"
           ]
          ],
          [
           [
            "Other elite schools (public and private)",
            "Highly selective private",
            "Highly selective public",
            "Ivy Plus"
           ]
          ],
          [
           [
            "Other elite schools (public and private)",
            "Highly selective private",
            "Highly selective public",
            "Ivy Plus"
           ]
          ],
          [
           [
            "Other elite schools (public and private)",
            "Highly selective private",
            "Highly selective public",
            "Ivy Plus"
           ]
          ],
          [
           [
            "Other elite schools (public and private)",
            "Highly selective private",
            "Highly selective public",
            "Ivy Plus"
           ]
          ],
          [
           [
            "Other elite schools (public and private)",
            "Highly selective private",
            "Highly selective public",
            "Ivy Plus"
           ]
          ],
          [
           [
            "Other elite schools (public and private)",
            "Highly selective private",
            "Highly selective public",
            "Ivy Plus"
           ]
          ],
          [
           [
            "Selective public"
           ]
          ],
          [
           [
            "Selective public"
           ]
          ],
          [
           [
            "Selective public"
           ]
          ],
          [
           [
            "Selective public"
           ]
          ],
          [
           [
            "Selective public"
           ]
          ],
          [
           [
            "Selective public"
           ]
          ],
          [
           [
            "Selective public"
           ]
          ],
          [
           [
            "Selective public"
           ]
          ],
          [
           [
            "Selective public"
           ]
          ],
          [
           [
            "Selective public"
           ]
          ],
          [
           [
            "Selective public"
           ]
          ],
          [
           [
            "Selective public"
           ]
          ],
          [
           [
            "Selective public"
           ]
          ],
          [
           [
            "Selective public"
           ]
          ],
          [
           [
            "Selective public",
            "Highly selective public",
            "Other elite schools (public and private)"
           ]
          ],
          [
           [
            "Selective public",
            "Highly selective public",
            "Other elite schools (public and private)"
           ]
          ],
          [
           [
            "Selective public",
            "Highly selective public",
            "Other elite schools (public and private)"
           ]
          ],
          [
           [
            "Selective public",
            "Highly selective public",
            "Other elite schools (public and private)"
           ]
          ],
          [
           [
            "Selective public",
            "Highly selective public",
            "Other elite schools (public and private)"
           ]
          ],
          [
           [
            "Selective public",
            "Highly selective public",
            "Other elite schools (public and private)"
           ]
          ],
          [
           [
            "Selective public",
            "Highly selective public",
            "Other elite schools (public and private)"
           ]
          ],
          [
           [
            "Selective public",
            "Highly selective public",
            "Other elite schools (public and private)"
           ]
          ],
          [
           [
            "Selective public",
            "Highly selective public",
            "Other elite schools (public and private)"
           ]
          ],
          [
           [
            "Selective public",
            "Highly selective public",
            "Other elite schools (public and private)"
           ]
          ],
          [
           [
            "Selective public",
            "Highly selective public",
            "Other elite schools (public and private)"
           ]
          ],
          [
           [
            "Selective public",
            "Highly selective public",
            "Other elite schools (public and private)"
           ]
          ],
          [
           [
            "Selective public",
            "Highly selective public",
            "Other elite schools (public and private)"
           ]
          ],
          [
           [
            "Selective public",
            "Highly selective public",
            "Other elite schools (public and private)"
           ]
          ],
          [
           [
            "Other elite schools (public and private)",
            "Highly selective public"
           ]
          ],
          [
           [
            "Other elite schools (public and private)",
            "Highly selective public"
           ]
          ],
          [
           [
            "Other elite schools (public and private)",
            "Highly selective public"
           ]
          ],
          [
           [
            "Other elite schools (public and private)",
            "Highly selective public"
           ]
          ],
          [
           [
            "Other elite schools (public and private)",
            "Highly selective public"
           ]
          ],
          [
           [
            "Other elite schools (public and private)",
            "Highly selective public"
           ]
          ],
          [
           [
            "Other elite schools (public and private)",
            "Highly selective public"
           ]
          ],
          [
           [
            "Other elite schools (public and private)",
            "Highly selective public"
           ]
          ],
          [
           [
            "Other elite schools (public and private)",
            "Highly selective public"
           ]
          ],
          [
           [
            "Other elite schools (public and private)",
            "Highly selective public"
           ]
          ],
          [
           [
            "Other elite schools (public and private)",
            "Highly selective public"
           ]
          ],
          [
           [
            "Other elite schools (public and private)",
            "Highly selective public"
           ]
          ],
          [
           [
            "Other elite schools (public and private)",
            "Highly selective public"
           ]
          ],
          [
           [
            "Other elite schools (public and private)",
            "Highly selective public"
           ]
          ],
          [
           [
            "Selective public"
           ]
          ],
          [
           [
            "Selective public"
           ]
          ],
          [
           [
            "Selective public"
           ]
          ],
          [
           [
            "Selective public"
           ]
          ],
          [
           [
            "Selective public"
           ]
          ],
          [
           [
            "Selective public"
           ]
          ],
          [
           [
            "Selective public"
           ]
          ],
          [
           [
            "Selective public"
           ]
          ],
          [
           [
            "Selective public"
           ]
          ],
          [
           [
            "Selective public"
           ]
          ],
          [
           [
            "Selective public"
           ]
          ],
          [
           [
            "Selective public"
           ]
          ],
          [
           [
            "Selective public"
           ]
          ],
          [
           [
            "Selective public"
           ]
          ],
          [
           [
            "Selective public"
           ]
          ],
          [
           [
            "Selective public"
           ]
          ],
          [
           [
            "Selective public"
           ]
          ],
          [
           [
            "Selective public"
           ]
          ],
          [
           [
            "Selective public"
           ]
          ],
          [
           [
            "Selective public"
           ]
          ],
          [
           [
            "Selective public"
           ]
          ],
          [
           [
            "Selective public"
           ]
          ],
          [
           [
            "Selective public"
           ]
          ],
          [
           [
            "Selective public"
           ]
          ],
          [
           [
            "Selective public"
           ]
          ],
          [
           [
            "Selective public"
           ]
          ],
          [
           [
            "Selective public"
           ]
          ],
          [
           [
            "Selective public"
           ]
          ],
          [
           [
            "Selective public"
           ]
          ],
          [
           [
            "Selective public"
           ]
          ],
          [
           [
            "Selective public"
           ]
          ],
          [
           [
            "Selective public"
           ]
          ],
          [
           [
            "Selective public"
           ]
          ],
          [
           [
            "Selective public"
           ]
          ],
          [
           [
            "Selective public"
           ]
          ],
          [
           [
            "Selective public"
           ]
          ],
          [
           [
            "Selective public"
           ]
          ],
          [
           [
            "Selective public"
           ]
          ],
          [
           [
            "Selective public"
           ]
          ],
          [
           [
            "Selective public"
           ]
          ],
          [
           [
            "Selective public"
           ]
          ],
          [
           [
            "Selective public"
           ]
          ],
          [
           [
            "Selective public"
           ]
          ],
          [
           [
            "Selective public"
           ]
          ],
          [
           [
            "Selective public"
           ]
          ],
          [
           [
            "Selective public"
           ]
          ],
          [
           [
            "Selective public"
           ]
          ],
          [
           [
            "Selective public"
           ]
          ],
          [
           [
            "Selective public"
           ]
          ],
          [
           [
            "Selective public"
           ]
          ],
          [
           [
            "Selective public"
           ]
          ],
          [
           [
            "Selective public"
           ]
          ],
          [
           [
            "Selective public"
           ]
          ],
          [
           [
            "Selective public"
           ]
          ],
          [
           [
            "Selective public"
           ]
          ],
          [
           [
            "Selective public"
           ]
          ],
          [
           [
            "Selective public",
            "Highly selective public",
            "Other elite schools (public and private)"
           ]
          ],
          [
           [
            "Selective public",
            "Highly selective public",
            "Other elite schools (public and private)"
           ]
          ],
          [
           [
            "Selective public",
            "Highly selective public",
            "Other elite schools (public and private)"
           ]
          ],
          [
           [
            "Selective public",
            "Highly selective public",
            "Other elite schools (public and private)"
           ]
          ],
          [
           [
            "Selective public",
            "Highly selective public",
            "Other elite schools (public and private)"
           ]
          ],
          [
           [
            "Selective public",
            "Highly selective public",
            "Other elite schools (public and private)"
           ]
          ],
          [
           [
            "Selective public",
            "Highly selective public",
            "Other elite schools (public and private)"
           ]
          ],
          [
           [
            "Selective public",
            "Highly selective public",
            "Other elite schools (public and private)"
           ]
          ],
          [
           [
            "Selective public",
            "Highly selective public",
            "Other elite schools (public and private)"
           ]
          ],
          [
           [
            "Selective public",
            "Highly selective public",
            "Other elite schools (public and private)"
           ]
          ],
          [
           [
            "Selective public",
            "Highly selective public",
            "Other elite schools (public and private)"
           ]
          ],
          [
           [
            "Selective public",
            "Highly selective public",
            "Other elite schools (public and private)"
           ]
          ],
          [
           [
            "Selective public",
            "Highly selective public",
            "Other elite schools (public and private)"
           ]
          ],
          [
           [
            "Selective public",
            "Highly selective public",
            "Other elite schools (public and private)"
           ]
          ],
          [
           [
            "Selective public",
            "Highly selective public"
           ]
          ],
          [
           [
            "Selective public",
            "Highly selective public"
           ]
          ],
          [
           [
            "Selective public",
            "Highly selective public"
           ]
          ],
          [
           [
            "Selective public",
            "Highly selective public"
           ]
          ],
          [
           [
            "Selective public",
            "Highly selective public"
           ]
          ],
          [
           [
            "Selective public",
            "Highly selective public"
           ]
          ],
          [
           [
            "Selective public",
            "Highly selective public"
           ]
          ],
          [
           [
            "Selective public",
            "Highly selective public"
           ]
          ],
          [
           [
            "Selective public",
            "Highly selective public"
           ]
          ],
          [
           [
            "Selective public",
            "Highly selective public"
           ]
          ],
          [
           [
            "Selective public",
            "Highly selective public"
           ]
          ],
          [
           [
            "Selective public",
            "Highly selective public"
           ]
          ],
          [
           [
            "Selective public",
            "Highly selective public"
           ]
          ],
          [
           [
            "Selective public",
            "Highly selective public"
           ]
          ],
          [
           [
            "Selective public"
           ]
          ],
          [
           [
            "Selective public"
           ]
          ],
          [
           [
            "Selective public"
           ]
          ],
          [
           [
            "Selective public"
           ]
          ],
          [
           [
            "Selective public"
           ]
          ],
          [
           [
            "Selective public"
           ]
          ],
          [
           [
            "Selective public"
           ]
          ],
          [
           [
            "Selective public"
           ]
          ],
          [
           [
            "Selective public"
           ]
          ],
          [
           [
            "Selective public"
           ]
          ],
          [
           [
            "Selective public"
           ]
          ],
          [
           [
            "Selective public"
           ]
          ],
          [
           [
            "Selective public"
           ]
          ],
          [
           [
            "Selective public"
           ]
          ],
          [
           [
            "Selective public",
            "Other elite schools (public and private)"
           ]
          ],
          [
           [
            "Selective public",
            "Other elite schools (public and private)"
           ]
          ],
          [
           [
            "Selective public",
            "Other elite schools (public and private)"
           ]
          ],
          [
           [
            "Selective public",
            "Other elite schools (public and private)"
           ]
          ],
          [
           [
            "Selective public",
            "Other elite schools (public and private)"
           ]
          ],
          [
           [
            "Selective public",
            "Other elite schools (public and private)"
           ]
          ],
          [
           [
            "Selective public",
            "Other elite schools (public and private)"
           ]
          ],
          [
           [
            "Selective public",
            "Other elite schools (public and private)"
           ]
          ],
          [
           [
            "Selective public",
            "Other elite schools (public and private)"
           ]
          ],
          [
           [
            "Selective public",
            "Other elite schools (public and private)"
           ]
          ],
          [
           [
            "Selective public",
            "Other elite schools (public and private)"
           ]
          ],
          [
           [
            "Selective public",
            "Other elite schools (public and private)"
           ]
          ],
          [
           [
            "Selective public",
            "Other elite schools (public and private)"
           ]
          ],
          [
           [
            "Selective public",
            "Other elite schools (public and private)"
           ]
          ],
          [
           [
            "Ivy Plus",
            "Selective public"
           ]
          ],
          [
           [
            "Ivy Plus",
            "Selective public"
           ]
          ],
          [
           [
            "Ivy Plus",
            "Selective public"
           ]
          ],
          [
           [
            "Ivy Plus",
            "Selective public"
           ]
          ],
          [
           [
            "Ivy Plus",
            "Selective public"
           ]
          ],
          [
           [
            "Ivy Plus",
            "Selective public"
           ]
          ],
          [
           [
            "Ivy Plus",
            "Selective public"
           ]
          ],
          [
           [
            "Ivy Plus",
            "Selective public"
           ]
          ],
          [
           [
            "Ivy Plus",
            "Selective public"
           ]
          ],
          [
           [
            "Ivy Plus",
            "Selective public"
           ]
          ],
          [
           [
            "Ivy Plus",
            "Selective public"
           ]
          ],
          [
           [
            "Ivy Plus",
            "Selective public"
           ]
          ],
          [
           [
            "Ivy Plus",
            "Selective public"
           ]
          ],
          [
           [
            "Ivy Plus",
            "Selective public"
           ]
          ],
          [
           [
            "Selective public"
           ]
          ],
          [
           [
            "Selective public"
           ]
          ],
          [
           [
            "Selective public"
           ]
          ],
          [
           [
            "Selective public"
           ]
          ],
          [
           [
            "Selective public"
           ]
          ],
          [
           [
            "Selective public"
           ]
          ],
          [
           [
            "Selective public"
           ]
          ],
          [
           [
            "Selective public"
           ]
          ],
          [
           [
            "Selective public"
           ]
          ],
          [
           [
            "Selective public"
           ]
          ],
          [
           [
            "Selective public"
           ]
          ],
          [
           [
            "Selective public"
           ]
          ],
          [
           [
            "Selective public"
           ]
          ],
          [
           [
            "Selective public"
           ]
          ],
          [
           [
            "Other elite schools (public and private)",
            "Ivy Plus",
            "Highly selective private",
            "Selective public"
           ]
          ],
          [
           [
            "Other elite schools (public and private)",
            "Ivy Plus",
            "Highly selective private",
            "Selective public"
           ]
          ],
          [
           [
            "Other elite schools (public and private)",
            "Ivy Plus",
            "Highly selective private",
            "Selective public"
           ]
          ],
          [
           [
            "Other elite schools (public and private)",
            "Ivy Plus",
            "Highly selective private",
            "Selective public"
           ]
          ],
          [
           [
            "Other elite schools (public and private)",
            "Ivy Plus",
            "Highly selective private",
            "Selective public"
           ]
          ],
          [
           [
            "Other elite schools (public and private)",
            "Ivy Plus",
            "Highly selective private",
            "Selective public"
           ]
          ],
          [
           [
            "Other elite schools (public and private)",
            "Ivy Plus",
            "Highly selective private",
            "Selective public"
           ]
          ],
          [
           [
            "Other elite schools (public and private)",
            "Ivy Plus",
            "Highly selective private",
            "Selective public"
           ]
          ],
          [
           [
            "Other elite schools (public and private)",
            "Ivy Plus",
            "Highly selective private",
            "Selective public"
           ]
          ],
          [
           [
            "Other elite schools (public and private)",
            "Ivy Plus",
            "Highly selective private",
            "Selective public"
           ]
          ],
          [
           [
            "Other elite schools (public and private)",
            "Ivy Plus",
            "Highly selective private",
            "Selective public"
           ]
          ],
          [
           [
            "Other elite schools (public and private)",
            "Ivy Plus",
            "Highly selective private",
            "Selective public"
           ]
          ],
          [
           [
            "Other elite schools (public and private)",
            "Ivy Plus",
            "Highly selective private",
            "Selective public"
           ]
          ],
          [
           [
            "Other elite schools (public and private)",
            "Ivy Plus",
            "Highly selective private",
            "Selective public"
           ]
          ],
          [
           [
            "Selective public"
           ]
          ],
          [
           [
            "Selective public"
           ]
          ],
          [
           [
            "Selective public"
           ]
          ],
          [
           [
            "Selective public"
           ]
          ],
          [
           [
            "Selective public"
           ]
          ],
          [
           [
            "Selective public"
           ]
          ],
          [
           [
            "Selective public"
           ]
          ],
          [
           [
            "Selective public"
           ]
          ],
          [
           [
            "Selective public"
           ]
          ],
          [
           [
            "Selective public"
           ]
          ],
          [
           [
            "Selective public"
           ]
          ],
          [
           [
            "Selective public"
           ]
          ],
          [
           [
            "Selective public"
           ]
          ],
          [
           [
            "Selective public"
           ]
          ],
          [
           [
            "Selective public",
            "Other elite schools (public and private)"
           ]
          ],
          [
           [
            "Selective public",
            "Other elite schools (public and private)"
           ]
          ],
          [
           [
            "Selective public",
            "Other elite schools (public and private)"
           ]
          ],
          [
           [
            "Selective public",
            "Other elite schools (public and private)"
           ]
          ],
          [
           [
            "Selective public",
            "Other elite schools (public and private)"
           ]
          ],
          [
           [
            "Selective public",
            "Other elite schools (public and private)"
           ]
          ],
          [
           [
            "Selective public",
            "Other elite schools (public and private)"
           ]
          ],
          [
           [
            "Selective public",
            "Other elite schools (public and private)"
           ]
          ],
          [
           [
            "Selective public",
            "Other elite schools (public and private)"
           ]
          ],
          [
           [
            "Selective public",
            "Other elite schools (public and private)"
           ]
          ],
          [
           [
            "Selective public",
            "Other elite schools (public and private)"
           ]
          ],
          [
           [
            "Selective public",
            "Other elite schools (public and private)"
           ]
          ],
          [
           [
            "Selective public",
            "Other elite schools (public and private)"
           ]
          ],
          [
           [
            "Selective public",
            "Other elite schools (public and private)"
           ]
          ],
          [
           [
            "Selective public"
           ]
          ],
          [
           [
            "Selective public"
           ]
          ],
          [
           [
            "Selective public"
           ]
          ],
          [
           [
            "Selective public"
           ]
          ],
          [
           [
            "Selective public"
           ]
          ],
          [
           [
            "Selective public"
           ]
          ],
          [
           [
            "Selective public"
           ]
          ],
          [
           [
            "Selective public"
           ]
          ],
          [
           [
            "Selective public"
           ]
          ],
          [
           [
            "Selective public"
           ]
          ],
          [
           [
            "Selective public"
           ]
          ],
          [
           [
            "Selective public"
           ]
          ],
          [
           [
            "Selective public"
           ]
          ],
          [
           [
            "Selective public"
           ]
          ],
          [
           [
            "Other elite schools (public and private)",
            "Selective public"
           ]
          ],
          [
           [
            "Other elite schools (public and private)",
            "Selective public"
           ]
          ],
          [
           [
            "Other elite schools (public and private)",
            "Selective public"
           ]
          ],
          [
           [
            "Other elite schools (public and private)",
            "Selective public"
           ]
          ],
          [
           [
            "Other elite schools (public and private)",
            "Selective public"
           ]
          ],
          [
           [
            "Other elite schools (public and private)",
            "Selective public"
           ]
          ],
          [
           [
            "Other elite schools (public and private)",
            "Selective public"
           ]
          ],
          [
           [
            "Other elite schools (public and private)",
            "Selective public"
           ]
          ],
          [
           [
            "Other elite schools (public and private)",
            "Selective public"
           ]
          ],
          [
           [
            "Other elite schools (public and private)",
            "Selective public"
           ]
          ],
          [
           [
            "Other elite schools (public and private)",
            "Selective public"
           ]
          ],
          [
           [
            "Other elite schools (public and private)",
            "Selective public"
           ]
          ],
          [
           [
            "Other elite schools (public and private)",
            "Selective public"
           ]
          ],
          [
           [
            "Other elite schools (public and private)",
            "Selective public"
           ]
          ],
          [
           [
            "Other elite schools (public and private)",
            "Highly selective public"
           ]
          ],
          [
           [
            "Other elite schools (public and private)",
            "Highly selective public"
           ]
          ],
          [
           [
            "Other elite schools (public and private)",
            "Highly selective public"
           ]
          ],
          [
           [
            "Other elite schools (public and private)",
            "Highly selective public"
           ]
          ],
          [
           [
            "Other elite schools (public and private)",
            "Highly selective public"
           ]
          ],
          [
           [
            "Other elite schools (public and private)",
            "Highly selective public"
           ]
          ],
          [
           [
            "Other elite schools (public and private)",
            "Highly selective public"
           ]
          ],
          [
           [
            "Other elite schools (public and private)",
            "Highly selective public"
           ]
          ],
          [
           [
            "Other elite schools (public and private)",
            "Highly selective public"
           ]
          ],
          [
           [
            "Other elite schools (public and private)",
            "Highly selective public"
           ]
          ],
          [
           [
            "Other elite schools (public and private)",
            "Highly selective public"
           ]
          ],
          [
           [
            "Other elite schools (public and private)",
            "Highly selective public"
           ]
          ],
          [
           [
            "Other elite schools (public and private)",
            "Highly selective public"
           ]
          ],
          [
           [
            "Other elite schools (public and private)",
            "Highly selective public"
           ]
          ],
          [
           [
            "Other elite schools (public and private)",
            "Highly selective public",
            "Ivy Plus",
            "Highly selective private",
            "Selective public",
            "Selective private"
           ]
          ],
          [
           [
            "Other elite schools (public and private)",
            "Highly selective public",
            "Ivy Plus",
            "Highly selective private",
            "Selective public",
            "Selective private"
           ]
          ],
          [
           [
            "Other elite schools (public and private)",
            "Highly selective public",
            "Ivy Plus",
            "Highly selective private",
            "Selective public",
            "Selective private"
           ]
          ],
          [
           [
            "Other elite schools (public and private)",
            "Highly selective public",
            "Ivy Plus",
            "Highly selective private",
            "Selective public",
            "Selective private"
           ]
          ],
          [
           [
            "Other elite schools (public and private)",
            "Highly selective public",
            "Ivy Plus",
            "Highly selective private",
            "Selective public",
            "Selective private"
           ]
          ],
          [
           [
            "Other elite schools (public and private)",
            "Highly selective public",
            "Ivy Plus",
            "Highly selective private",
            "Selective public",
            "Selective private"
           ]
          ],
          [
           [
            "Other elite schools (public and private)",
            "Highly selective public",
            "Ivy Plus",
            "Highly selective private",
            "Selective public",
            "Selective private"
           ]
          ],
          [
           [
            "Other elite schools (public and private)",
            "Highly selective public",
            "Ivy Plus",
            "Highly selective private",
            "Selective public",
            "Selective private"
           ]
          ],
          [
           [
            "Other elite schools (public and private)",
            "Highly selective public",
            "Ivy Plus",
            "Highly selective private",
            "Selective public",
            "Selective private"
           ]
          ],
          [
           [
            "Other elite schools (public and private)",
            "Highly selective public",
            "Ivy Plus",
            "Highly selective private",
            "Selective public",
            "Selective private"
           ]
          ],
          [
           [
            "Other elite schools (public and private)",
            "Highly selective public",
            "Ivy Plus",
            "Highly selective private",
            "Selective public",
            "Selective private"
           ]
          ],
          [
           [
            "Other elite schools (public and private)",
            "Highly selective public",
            "Ivy Plus",
            "Highly selective private",
            "Selective public",
            "Selective private"
           ]
          ],
          [
           [
            "Other elite schools (public and private)",
            "Highly selective public",
            "Ivy Plus",
            "Highly selective private",
            "Selective public",
            "Selective private"
           ]
          ],
          [
           [
            "Other elite schools (public and private)",
            "Highly selective public",
            "Ivy Plus",
            "Highly selective private",
            "Selective public",
            "Selective private"
           ]
          ],
          [
           [
            "Selective public",
            "Highly selective public",
            "Other elite schools (public and private)"
           ]
          ],
          [
           [
            "Selective public",
            "Highly selective public",
            "Other elite schools (public and private)"
           ]
          ],
          [
           [
            "Selective public",
            "Highly selective public",
            "Other elite schools (public and private)"
           ]
          ],
          [
           [
            "Selective public",
            "Highly selective public",
            "Other elite schools (public and private)"
           ]
          ],
          [
           [
            "Selective public",
            "Highly selective public",
            "Other elite schools (public and private)"
           ]
          ],
          [
           [
            "Selective public",
            "Highly selective public",
            "Other elite schools (public and private)"
           ]
          ],
          [
           [
            "Selective public",
            "Highly selective public",
            "Other elite schools (public and private)"
           ]
          ],
          [
           [
            "Selective public",
            "Highly selective public",
            "Other elite schools (public and private)"
           ]
          ],
          [
           [
            "Selective public",
            "Highly selective public",
            "Other elite schools (public and private)"
           ]
          ],
          [
           [
            "Selective public",
            "Highly selective public",
            "Other elite schools (public and private)"
           ]
          ],
          [
           [
            "Selective public",
            "Highly selective public",
            "Other elite schools (public and private)"
           ]
          ],
          [
           [
            "Selective public",
            "Highly selective public",
            "Other elite schools (public and private)"
           ]
          ],
          [
           [
            "Selective public",
            "Highly selective public",
            "Other elite schools (public and private)"
           ]
          ],
          [
           [
            "Selective public",
            "Highly selective public",
            "Other elite schools (public and private)"
           ]
          ],
          [
           [
            "Selective private",
            "Other elite schools (public and private)",
            "Highly selective private",
            "Ivy Plus",
            "Highly selective public",
            "Selective public"
           ]
          ],
          [
           [
            "Selective private",
            "Other elite schools (public and private)",
            "Highly selective private",
            "Ivy Plus",
            "Highly selective public",
            "Selective public"
           ]
          ],
          [
           [
            "Selective private",
            "Other elite schools (public and private)",
            "Highly selective private",
            "Ivy Plus",
            "Highly selective public",
            "Selective public"
           ]
          ],
          [
           [
            "Selective private",
            "Other elite schools (public and private)",
            "Highly selective private",
            "Ivy Plus",
            "Highly selective public",
            "Selective public"
           ]
          ],
          [
           [
            "Selective private",
            "Other elite schools (public and private)",
            "Highly selective private",
            "Ivy Plus",
            "Highly selective public",
            "Selective public"
           ]
          ],
          [
           [
            "Selective private",
            "Other elite schools (public and private)",
            "Highly selective private",
            "Ivy Plus",
            "Highly selective public",
            "Selective public"
           ]
          ],
          [
           [
            "Selective private",
            "Other elite schools (public and private)",
            "Highly selective private",
            "Ivy Plus",
            "Highly selective public",
            "Selective public"
           ]
          ],
          [
           [
            "Selective private",
            "Other elite schools (public and private)",
            "Highly selective private",
            "Ivy Plus",
            "Highly selective public",
            "Selective public"
           ]
          ],
          [
           [
            "Selective private",
            "Other elite schools (public and private)",
            "Highly selective private",
            "Ivy Plus",
            "Highly selective public",
            "Selective public"
           ]
          ],
          [
           [
            "Selective private",
            "Other elite schools (public and private)",
            "Highly selective private",
            "Ivy Plus",
            "Highly selective public",
            "Selective public"
           ]
          ],
          [
           [
            "Selective private",
            "Other elite schools (public and private)",
            "Highly selective private",
            "Ivy Plus",
            "Highly selective public",
            "Selective public"
           ]
          ],
          [
           [
            "Selective private",
            "Other elite schools (public and private)",
            "Highly selective private",
            "Ivy Plus",
            "Highly selective public",
            "Selective public"
           ]
          ],
          [
           [
            "Selective private",
            "Other elite schools (public and private)",
            "Highly selective private",
            "Ivy Plus",
            "Highly selective public",
            "Selective public"
           ]
          ],
          [
           [
            "Selective private",
            "Other elite schools (public and private)",
            "Highly selective private",
            "Ivy Plus",
            "Highly selective public",
            "Selective public"
           ]
          ],
          [
           [
            "Highly selective private",
            "Other elite schools (public and private)",
            "Highly selective public"
           ]
          ],
          [
           [
            "Highly selective private",
            "Other elite schools (public and private)",
            "Highly selective public"
           ]
          ],
          [
           [
            "Highly selective private",
            "Other elite schools (public and private)",
            "Highly selective public"
           ]
          ],
          [
           [
            "Highly selective private",
            "Other elite schools (public and private)",
            "Highly selective public"
           ]
          ],
          [
           [
            "Highly selective private",
            "Other elite schools (public and private)",
            "Highly selective public"
           ]
          ],
          [
           [
            "Highly selective private",
            "Other elite schools (public and private)",
            "Highly selective public"
           ]
          ],
          [
           [
            "Highly selective private",
            "Other elite schools (public and private)",
            "Highly selective public"
           ]
          ],
          [
           [
            "Highly selective private",
            "Other elite schools (public and private)",
            "Highly selective public"
           ]
          ],
          [
           [
            "Highly selective private",
            "Other elite schools (public and private)",
            "Highly selective public"
           ]
          ],
          [
           [
            "Highly selective private",
            "Other elite schools (public and private)",
            "Highly selective public"
           ]
          ],
          [
           [
            "Highly selective private",
            "Other elite schools (public and private)",
            "Highly selective public"
           ]
          ],
          [
           [
            "Highly selective private",
            "Other elite schools (public and private)",
            "Highly selective public"
           ]
          ],
          [
           [
            "Highly selective private",
            "Other elite schools (public and private)",
            "Highly selective public"
           ]
          ],
          [
           [
            "Highly selective private",
            "Other elite schools (public and private)",
            "Highly selective public"
           ]
          ],
          [
           [
            "Selective private",
            "Selective public"
           ]
          ],
          [
           [
            "Selective private",
            "Selective public"
           ]
          ],
          [
           [
            "Selective private",
            "Selective public"
           ]
          ],
          [
           [
            "Selective private",
            "Selective public"
           ]
          ],
          [
           [
            "Selective private",
            "Selective public"
           ]
          ],
          [
           [
            "Selective private",
            "Selective public"
           ]
          ],
          [
           [
            "Selective private",
            "Selective public"
           ]
          ],
          [
           [
            "Selective private",
            "Selective public"
           ]
          ],
          [
           [
            "Selective private",
            "Selective public"
           ]
          ],
          [
           [
            "Selective private",
            "Selective public"
           ]
          ],
          [
           [
            "Selective private",
            "Selective public"
           ]
          ],
          [
           [
            "Selective private",
            "Selective public"
           ]
          ],
          [
           [
            "Selective private",
            "Selective public"
           ]
          ],
          [
           [
            "Selective private",
            "Selective public"
           ]
          ],
          [
           [
            "Other elite schools (public and private)",
            "Highly selective public"
           ]
          ],
          [
           [
            "Other elite schools (public and private)",
            "Highly selective public"
           ]
          ],
          [
           [
            "Other elite schools (public and private)",
            "Highly selective public"
           ]
          ],
          [
           [
            "Other elite schools (public and private)",
            "Highly selective public"
           ]
          ],
          [
           [
            "Other elite schools (public and private)",
            "Highly selective public"
           ]
          ],
          [
           [
            "Other elite schools (public and private)",
            "Highly selective public"
           ]
          ],
          [
           [
            "Other elite schools (public and private)",
            "Highly selective public"
           ]
          ],
          [
           [
            "Other elite schools (public and private)",
            "Highly selective public"
           ]
          ],
          [
           [
            "Other elite schools (public and private)",
            "Highly selective public"
           ]
          ],
          [
           [
            "Other elite schools (public and private)",
            "Highly selective public"
           ]
          ],
          [
           [
            "Other elite schools (public and private)",
            "Highly selective public"
           ]
          ],
          [
           [
            "Other elite schools (public and private)",
            "Highly selective public"
           ]
          ],
          [
           [
            "Other elite schools (public and private)",
            "Highly selective public"
           ]
          ],
          [
           [
            "Other elite schools (public and private)",
            "Highly selective public"
           ]
          ],
          [
           [
            "Selective public"
           ]
          ],
          [
           [
            "Selective public"
           ]
          ],
          [
           [
            "Selective public"
           ]
          ],
          [
           [
            "Selective public"
           ]
          ],
          [
           [
            "Selective public"
           ]
          ],
          [
           [
            "Selective public"
           ]
          ],
          [
           [
            "Selective public"
           ]
          ],
          [
           [
            "Selective public"
           ]
          ],
          [
           [
            "Selective public"
           ]
          ],
          [
           [
            "Selective public"
           ]
          ],
          [
           [
            "Selective public"
           ]
          ],
          [
           [
            "Selective public"
           ]
          ],
          [
           [
            "Selective public"
           ]
          ],
          [
           [
            "Selective public"
           ]
          ],
          [
           [
            "Other elite schools (public and private)"
           ]
          ],
          [
           [
            "Other elite schools (public and private)"
           ]
          ],
          [
           [
            "Other elite schools (public and private)"
           ]
          ],
          [
           [
            "Other elite schools (public and private)"
           ]
          ],
          [
           [
            "Other elite schools (public and private)"
           ]
          ],
          [
           [
            "Other elite schools (public and private)"
           ]
          ],
          [
           [
            "Other elite schools (public and private)"
           ]
          ],
          [
           [
            "Other elite schools (public and private)"
           ]
          ],
          [
           [
            "Other elite schools (public and private)"
           ]
          ],
          [
           [
            "Other elite schools (public and private)"
           ]
          ],
          [
           [
            "Other elite schools (public and private)"
           ]
          ],
          [
           [
            "Other elite schools (public and private)"
           ]
          ],
          [
           [
            "Other elite schools (public and private)"
           ]
          ],
          [
           [
            "Other elite schools (public and private)"
           ]
          ],
          [
           [
            "Other elite schools (public and private)",
            "Highly selective public",
            "Ivy Plus",
            "Highly selective private",
            "Selective public",
            "Selective private"
           ]
          ],
          [
           [
            "Other elite schools (public and private)",
            "Highly selective public",
            "Ivy Plus",
            "Highly selective private",
            "Selective public",
            "Selective private"
           ]
          ],
          [
           [
            "Other elite schools (public and private)",
            "Highly selective public",
            "Ivy Plus",
            "Highly selective private",
            "Selective public",
            "Selective private"
           ]
          ],
          [
           [
            "Other elite schools (public and private)",
            "Highly selective public",
            "Ivy Plus",
            "Highly selective private",
            "Selective public",
            "Selective private"
           ]
          ],
          [
           [
            "Other elite schools (public and private)",
            "Highly selective public",
            "Ivy Plus",
            "Highly selective private",
            "Selective public",
            "Selective private"
           ]
          ],
          [
           [
            "Other elite schools (public and private)",
            "Highly selective public",
            "Ivy Plus",
            "Highly selective private",
            "Selective public",
            "Selective private"
           ]
          ],
          [
           [
            "Other elite schools (public and private)",
            "Highly selective public",
            "Ivy Plus",
            "Highly selective private",
            "Selective public",
            "Selective private"
           ]
          ],
          [
           [
            "Other elite schools (public and private)",
            "Highly selective public",
            "Ivy Plus",
            "Highly selective private",
            "Selective public",
            "Selective private"
           ]
          ],
          [
           [
            "Other elite schools (public and private)",
            "Highly selective public",
            "Ivy Plus",
            "Highly selective private",
            "Selective public",
            "Selective private"
           ]
          ],
          [
           [
            "Other elite schools (public and private)",
            "Highly selective public",
            "Ivy Plus",
            "Highly selective private",
            "Selective public",
            "Selective private"
           ]
          ],
          [
           [
            "Other elite schools (public and private)",
            "Highly selective public",
            "Ivy Plus",
            "Highly selective private",
            "Selective public",
            "Selective private"
           ]
          ],
          [
           [
            "Other elite schools (public and private)",
            "Highly selective public",
            "Ivy Plus",
            "Highly selective private",
            "Selective public",
            "Selective private"
           ]
          ],
          [
           [
            "Other elite schools (public and private)",
            "Highly selective public",
            "Ivy Plus",
            "Highly selective private",
            "Selective public",
            "Selective private"
           ]
          ],
          [
           [
            "Other elite schools (public and private)",
            "Highly selective public",
            "Ivy Plus",
            "Highly selective private",
            "Selective public",
            "Selective private"
           ]
          ],
          [
           [
            "Other elite schools (public and private)",
            "Highly selective public"
           ]
          ],
          [
           [
            "Other elite schools (public and private)",
            "Highly selective public"
           ]
          ],
          [
           [
            "Other elite schools (public and private)",
            "Highly selective public"
           ]
          ],
          [
           [
            "Other elite schools (public and private)",
            "Highly selective public"
           ]
          ],
          [
           [
            "Other elite schools (public and private)",
            "Highly selective public"
           ]
          ],
          [
           [
            "Other elite schools (public and private)",
            "Highly selective public"
           ]
          ],
          [
           [
            "Other elite schools (public and private)",
            "Highly selective public"
           ]
          ],
          [
           [
            "Other elite schools (public and private)",
            "Highly selective public"
           ]
          ],
          [
           [
            "Other elite schools (public and private)",
            "Highly selective public"
           ]
          ],
          [
           [
            "Other elite schools (public and private)",
            "Highly selective public"
           ]
          ],
          [
           [
            "Other elite schools (public and private)",
            "Highly selective public"
           ]
          ],
          [
           [
            "Other elite schools (public and private)",
            "Highly selective public"
           ]
          ],
          [
           [
            "Other elite schools (public and private)",
            "Highly selective public"
           ]
          ],
          [
           [
            "Other elite schools (public and private)",
            "Highly selective public"
           ]
          ],
          [
           [
            "Other elite schools (public and private)",
            "Ivy Plus",
            "Highly selective private",
            "Selective public"
           ]
          ],
          [
           [
            "Other elite schools (public and private)",
            "Ivy Plus",
            "Highly selective private",
            "Selective public"
           ]
          ],
          [
           [
            "Other elite schools (public and private)",
            "Ivy Plus",
            "Highly selective private",
            "Selective public"
           ]
          ],
          [
           [
            "Other elite schools (public and private)",
            "Ivy Plus",
            "Highly selective private",
            "Selective public"
           ]
          ],
          [
           [
            "Other elite schools (public and private)",
            "Ivy Plus",
            "Highly selective private",
            "Selective public"
           ]
          ],
          [
           [
            "Other elite schools (public and private)",
            "Ivy Plus",
            "Highly selective private",
            "Selective public"
           ]
          ],
          [
           [
            "Other elite schools (public and private)",
            "Ivy Plus",
            "Highly selective private",
            "Selective public"
           ]
          ],
          [
           [
            "Other elite schools (public and private)",
            "Ivy Plus",
            "Highly selective private",
            "Selective public"
           ]
          ],
          [
           [
            "Other elite schools (public and private)",
            "Ivy Plus",
            "Highly selective private",
            "Selective public"
           ]
          ],
          [
           [
            "Other elite schools (public and private)",
            "Ivy Plus",
            "Highly selective private",
            "Selective public"
           ]
          ],
          [
           [
            "Other elite schools (public and private)",
            "Ivy Plus",
            "Highly selective private",
            "Selective public"
           ]
          ],
          [
           [
            "Other elite schools (public and private)",
            "Ivy Plus",
            "Highly selective private",
            "Selective public"
           ]
          ],
          [
           [
            "Other elite schools (public and private)",
            "Ivy Plus",
            "Highly selective private",
            "Selective public"
           ]
          ],
          [
           [
            "Other elite schools (public and private)",
            "Ivy Plus",
            "Highly selective private",
            "Selective public"
           ]
          ],
          [
           [
            "Other elite schools (public and private)",
            "Highly selective public"
           ]
          ],
          [
           [
            "Other elite schools (public and private)",
            "Highly selective public"
           ]
          ],
          [
           [
            "Other elite schools (public and private)",
            "Highly selective public"
           ]
          ],
          [
           [
            "Other elite schools (public and private)",
            "Highly selective public"
           ]
          ],
          [
           [
            "Other elite schools (public and private)",
            "Highly selective public"
           ]
          ],
          [
           [
            "Other elite schools (public and private)",
            "Highly selective public"
           ]
          ],
          [
           [
            "Other elite schools (public and private)",
            "Highly selective public"
           ]
          ],
          [
           [
            "Other elite schools (public and private)",
            "Highly selective public"
           ]
          ],
          [
           [
            "Other elite schools (public and private)",
            "Highly selective public"
           ]
          ],
          [
           [
            "Other elite schools (public and private)",
            "Highly selective public"
           ]
          ],
          [
           [
            "Other elite schools (public and private)",
            "Highly selective public"
           ]
          ],
          [
           [
            "Other elite schools (public and private)",
            "Highly selective public"
           ]
          ],
          [
           [
            "Other elite schools (public and private)",
            "Highly selective public"
           ]
          ],
          [
           [
            "Other elite schools (public and private)",
            "Highly selective public"
           ]
          ],
          [
           [
            "Selective public",
            "Other elite schools (public and private)"
           ]
          ],
          [
           [
            "Selective public",
            "Other elite schools (public and private)"
           ]
          ],
          [
           [
            "Selective public",
            "Other elite schools (public and private)"
           ]
          ],
          [
           [
            "Selective public",
            "Other elite schools (public and private)"
           ]
          ],
          [
           [
            "Selective public",
            "Other elite schools (public and private)"
           ]
          ],
          [
           [
            "Selective public",
            "Other elite schools (public and private)"
           ]
          ],
          [
           [
            "Selective public",
            "Other elite schools (public and private)"
           ]
          ],
          [
           [
            "Selective public",
            "Other elite schools (public and private)"
           ]
          ],
          [
           [
            "Selective public",
            "Other elite schools (public and private)"
           ]
          ],
          [
           [
            "Selective public",
            "Other elite schools (public and private)"
           ]
          ],
          [
           [
            "Selective public",
            "Other elite schools (public and private)"
           ]
          ],
          [
           [
            "Selective public",
            "Other elite schools (public and private)"
           ]
          ],
          [
           [
            "Selective public",
            "Other elite schools (public and private)"
           ]
          ],
          [
           [
            "Selective public",
            "Other elite schools (public and private)"
           ]
          ],
          [
           [
            "Other elite schools (public and private)",
            "Highly selective private",
            "Ivy Plus"
           ]
          ],
          [
           [
            "Other elite schools (public and private)",
            "Highly selective private",
            "Ivy Plus"
           ]
          ],
          [
           [
            "Other elite schools (public and private)",
            "Highly selective private",
            "Ivy Plus"
           ]
          ],
          [
           [
            "Other elite schools (public and private)",
            "Highly selective private",
            "Ivy Plus"
           ]
          ],
          [
           [
            "Other elite schools (public and private)",
            "Highly selective private",
            "Ivy Plus"
           ]
          ],
          [
           [
            "Other elite schools (public and private)",
            "Highly selective private",
            "Ivy Plus"
           ]
          ],
          [
           [
            "Other elite schools (public and private)",
            "Highly selective private",
            "Ivy Plus"
           ]
          ],
          [
           [
            "Other elite schools (public and private)",
            "Highly selective private",
            "Ivy Plus"
           ]
          ],
          [
           [
            "Other elite schools (public and private)",
            "Highly selective private",
            "Ivy Plus"
           ]
          ],
          [
           [
            "Other elite schools (public and private)",
            "Highly selective private",
            "Ivy Plus"
           ]
          ],
          [
           [
            "Other elite schools (public and private)",
            "Highly selective private",
            "Ivy Plus"
           ]
          ],
          [
           [
            "Other elite schools (public and private)",
            "Highly selective private",
            "Ivy Plus"
           ]
          ],
          [
           [
            "Other elite schools (public and private)",
            "Highly selective private",
            "Ivy Plus"
           ]
          ],
          [
           [
            "Other elite schools (public and private)",
            "Highly selective private",
            "Ivy Plus"
           ]
          ],
          [
           [
            "Other elite schools (public and private)",
            "Highly selective private",
            "Highly selective public",
            "Ivy Plus"
           ]
          ],
          [
           [
            "Other elite schools (public and private)",
            "Highly selective private",
            "Highly selective public",
            "Ivy Plus"
           ]
          ],
          [
           [
            "Other elite schools (public and private)",
            "Highly selective private",
            "Highly selective public",
            "Ivy Plus"
           ]
          ],
          [
           [
            "Other elite schools (public and private)",
            "Highly selective private",
            "Highly selective public",
            "Ivy Plus"
           ]
          ],
          [
           [
            "Other elite schools (public and private)",
            "Highly selective private",
            "Highly selective public",
            "Ivy Plus"
           ]
          ],
          [
           [
            "Other elite schools (public and private)",
            "Highly selective private",
            "Highly selective public",
            "Ivy Plus"
           ]
          ],
          [
           [
            "Other elite schools (public and private)",
            "Highly selective private",
            "Highly selective public",
            "Ivy Plus"
           ]
          ],
          [
           [
            "Other elite schools (public and private)",
            "Highly selective private",
            "Highly selective public",
            "Ivy Plus"
           ]
          ],
          [
           [
            "Other elite schools (public and private)",
            "Highly selective private",
            "Highly selective public",
            "Ivy Plus"
           ]
          ],
          [
           [
            "Other elite schools (public and private)",
            "Highly selective private",
            "Highly selective public",
            "Ivy Plus"
           ]
          ],
          [
           [
            "Other elite schools (public and private)",
            "Highly selective private",
            "Highly selective public",
            "Ivy Plus"
           ]
          ],
          [
           [
            "Other elite schools (public and private)",
            "Highly selective private",
            "Highly selective public",
            "Ivy Plus"
           ]
          ],
          [
           [
            "Other elite schools (public and private)",
            "Highly selective private",
            "Highly selective public",
            "Ivy Plus"
           ]
          ],
          [
           [
            "Other elite schools (public and private)",
            "Highly selective private",
            "Highly selective public",
            "Ivy Plus"
           ]
          ],
          [
           [
            "Highly selective private",
            "Other elite schools (public and private)"
           ]
          ],
          [
           [
            "Highly selective private",
            "Other elite schools (public and private)"
           ]
          ],
          [
           [
            "Highly selective private",
            "Other elite schools (public and private)"
           ]
          ],
          [
           [
            "Highly selective private",
            "Other elite schools (public and private)"
           ]
          ],
          [
           [
            "Highly selective private",
            "Other elite schools (public and private)"
           ]
          ],
          [
           [
            "Highly selective private",
            "Other elite schools (public and private)"
           ]
          ],
          [
           [
            "Highly selective private",
            "Other elite schools (public and private)"
           ]
          ],
          [
           [
            "Highly selective private",
            "Other elite schools (public and private)"
           ]
          ],
          [
           [
            "Highly selective private",
            "Other elite schools (public and private)"
           ]
          ],
          [
           [
            "Highly selective private",
            "Other elite schools (public and private)"
           ]
          ],
          [
           [
            "Highly selective private",
            "Other elite schools (public and private)"
           ]
          ],
          [
           [
            "Highly selective private",
            "Other elite schools (public and private)"
           ]
          ],
          [
           [
            "Highly selective private",
            "Other elite schools (public and private)"
           ]
          ],
          [
           [
            "Highly selective private",
            "Other elite schools (public and private)"
           ]
          ],
          [
           [
            "Other elite schools (public and private)",
            "Highly selective private",
            "Ivy Plus"
           ]
          ],
          [
           [
            "Other elite schools (public and private)",
            "Highly selective private",
            "Ivy Plus"
           ]
          ],
          [
           [
            "Other elite schools (public and private)",
            "Highly selective private",
            "Ivy Plus"
           ]
          ],
          [
           [
            "Other elite schools (public and private)",
            "Highly selective private",
            "Ivy Plus"
           ]
          ],
          [
           [
            "Other elite schools (public and private)",
            "Highly selective private",
            "Ivy Plus"
           ]
          ],
          [
           [
            "Other elite schools (public and private)",
            "Highly selective private",
            "Ivy Plus"
           ]
          ],
          [
           [
            "Other elite schools (public and private)",
            "Highly selective private",
            "Ivy Plus"
           ]
          ],
          [
           [
            "Other elite schools (public and private)",
            "Highly selective private",
            "Ivy Plus"
           ]
          ],
          [
           [
            "Other elite schools (public and private)",
            "Highly selective private",
            "Ivy Plus"
           ]
          ],
          [
           [
            "Other elite schools (public and private)",
            "Highly selective private",
            "Ivy Plus"
           ]
          ],
          [
           [
            "Other elite schools (public and private)",
            "Highly selective private",
            "Ivy Plus"
           ]
          ],
          [
           [
            "Other elite schools (public and private)",
            "Highly selective private",
            "Ivy Plus"
           ]
          ],
          [
           [
            "Other elite schools (public and private)",
            "Highly selective private",
            "Ivy Plus"
           ]
          ],
          [
           [
            "Other elite schools (public and private)",
            "Highly selective private",
            "Ivy Plus"
           ]
          ],
          [
           [
            "Other elite schools (public and private)",
            "Highly selective private",
            "Ivy Plus"
           ]
          ],
          [
           [
            "Other elite schools (public and private)",
            "Highly selective private",
            "Ivy Plus"
           ]
          ],
          [
           [
            "Other elite schools (public and private)",
            "Highly selective private",
            "Ivy Plus"
           ]
          ],
          [
           [
            "Other elite schools (public and private)",
            "Highly selective private",
            "Ivy Plus"
           ]
          ],
          [
           [
            "Other elite schools (public and private)",
            "Highly selective private",
            "Ivy Plus"
           ]
          ],
          [
           [
            "Other elite schools (public and private)",
            "Highly selective private",
            "Ivy Plus"
           ]
          ],
          [
           [
            "Other elite schools (public and private)",
            "Highly selective private",
            "Ivy Plus"
           ]
          ],
          [
           [
            "Other elite schools (public and private)",
            "Highly selective private",
            "Ivy Plus"
           ]
          ],
          [
           [
            "Other elite schools (public and private)",
            "Highly selective private",
            "Ivy Plus"
           ]
          ],
          [
           [
            "Other elite schools (public and private)",
            "Highly selective private",
            "Ivy Plus"
           ]
          ],
          [
           [
            "Other elite schools (public and private)",
            "Highly selective private",
            "Ivy Plus"
           ]
          ],
          [
           [
            "Other elite schools (public and private)",
            "Highly selective private",
            "Ivy Plus"
           ]
          ],
          [
           [
            "Other elite schools (public and private)",
            "Highly selective private",
            "Ivy Plus"
           ]
          ],
          [
           [
            "Other elite schools (public and private)",
            "Highly selective private",
            "Ivy Plus"
           ]
          ],
          [
           [
            "Other elite schools (public and private)",
            "Highly selective private",
            "Highly selective public",
            "Ivy Plus"
           ]
          ],
          [
           [
            "Other elite schools (public and private)",
            "Highly selective private",
            "Highly selective public",
            "Ivy Plus"
           ]
          ],
          [
           [
            "Other elite schools (public and private)",
            "Highly selective private",
            "Highly selective public",
            "Ivy Plus"
           ]
          ],
          [
           [
            "Other elite schools (public and private)",
            "Highly selective private",
            "Highly selective public",
            "Ivy Plus"
           ]
          ],
          [
           [
            "Other elite schools (public and private)",
            "Highly selective private",
            "Highly selective public",
            "Ivy Plus"
           ]
          ],
          [
           [
            "Other elite schools (public and private)",
            "Highly selective private",
            "Highly selective public",
            "Ivy Plus"
           ]
          ],
          [
           [
            "Other elite schools (public and private)",
            "Highly selective private",
            "Highly selective public",
            "Ivy Plus"
           ]
          ],
          [
           [
            "Other elite schools (public and private)",
            "Highly selective private",
            "Highly selective public",
            "Ivy Plus"
           ]
          ],
          [
           [
            "Other elite schools (public and private)",
            "Highly selective private",
            "Highly selective public",
            "Ivy Plus"
           ]
          ],
          [
           [
            "Other elite schools (public and private)",
            "Highly selective private",
            "Highly selective public",
            "Ivy Plus"
           ]
          ],
          [
           [
            "Other elite schools (public and private)",
            "Highly selective private",
            "Highly selective public",
            "Ivy Plus"
           ]
          ],
          [
           [
            "Other elite schools (public and private)",
            "Highly selective private",
            "Highly selective public",
            "Ivy Plus"
           ]
          ],
          [
           [
            "Other elite schools (public and private)",
            "Highly selective private",
            "Highly selective public",
            "Ivy Plus"
           ]
          ],
          [
           [
            "Other elite schools (public and private)",
            "Highly selective private",
            "Highly selective public",
            "Ivy Plus"
           ]
          ],
          [
           [
            "Other elite schools (public and private)",
            "Highly selective public",
            "Ivy Plus",
            "Highly selective private",
            "Selective public",
            "Selective private"
           ]
          ],
          [
           [
            "Other elite schools (public and private)",
            "Highly selective public",
            "Ivy Plus",
            "Highly selective private",
            "Selective public",
            "Selective private"
           ]
          ],
          [
           [
            "Other elite schools (public and private)",
            "Highly selective public",
            "Ivy Plus",
            "Highly selective private",
            "Selective public",
            "Selective private"
           ]
          ],
          [
           [
            "Other elite schools (public and private)",
            "Highly selective public",
            "Ivy Plus",
            "Highly selective private",
            "Selective public",
            "Selective private"
           ]
          ],
          [
           [
            "Other elite schools (public and private)",
            "Highly selective public",
            "Ivy Plus",
            "Highly selective private",
            "Selective public",
            "Selective private"
           ]
          ],
          [
           [
            "Other elite schools (public and private)",
            "Highly selective public",
            "Ivy Plus",
            "Highly selective private",
            "Selective public",
            "Selective private"
           ]
          ],
          [
           [
            "Other elite schools (public and private)",
            "Highly selective public",
            "Ivy Plus",
            "Highly selective private",
            "Selective public",
            "Selective private"
           ]
          ],
          [
           [
            "Other elite schools (public and private)",
            "Highly selective public",
            "Ivy Plus",
            "Highly selective private",
            "Selective public",
            "Selective private"
           ]
          ],
          [
           [
            "Other elite schools (public and private)",
            "Highly selective public",
            "Ivy Plus",
            "Highly selective private",
            "Selective public",
            "Selective private"
           ]
          ],
          [
           [
            "Other elite schools (public and private)",
            "Highly selective public",
            "Ivy Plus",
            "Highly selective private",
            "Selective public",
            "Selective private"
           ]
          ],
          [
           [
            "Other elite schools (public and private)",
            "Highly selective public",
            "Ivy Plus",
            "Highly selective private",
            "Selective public",
            "Selective private"
           ]
          ],
          [
           [
            "Other elite schools (public and private)",
            "Highly selective public",
            "Ivy Plus",
            "Highly selective private",
            "Selective public",
            "Selective private"
           ]
          ],
          [
           [
            "Other elite schools (public and private)",
            "Highly selective public",
            "Ivy Plus",
            "Highly selective private",
            "Selective public",
            "Selective private"
           ]
          ],
          [
           [
            "Other elite schools (public and private)",
            "Highly selective public",
            "Ivy Plus",
            "Highly selective private",
            "Selective public",
            "Selective private"
           ]
          ]
         ],
         "geo": "geo",
         "hovertemplate": "<b>%{hovertext}</b><br><br>state=%{location}<br>list=%{customdata[0]}<br>avg_inc=%{z}<extra></extra>",
         "hovertext": [
          "DC",
          "DC",
          "DC",
          "DC",
          "DC",
          "DC",
          "DC",
          "DC",
          "DC",
          "DC",
          "DC",
          "DC",
          "DC",
          "DC",
          "MA",
          "MA",
          "MA",
          "MA",
          "MA",
          "MA",
          "MA",
          "MA",
          "MA",
          "MA",
          "MA",
          "MA",
          "MA",
          "MA",
          "AL",
          "AL",
          "AL",
          "AL",
          "AL",
          "AL",
          "AL",
          "AL",
          "AL",
          "AL",
          "AL",
          "AL",
          "AL",
          "AL",
          "NY",
          "NY",
          "NY",
          "NY",
          "NY",
          "NY",
          "NY",
          "NY",
          "NY",
          "NY",
          "NY",
          "NY",
          "NY",
          "NY",
          "ME",
          "ME",
          "ME",
          "ME",
          "ME",
          "ME",
          "ME",
          "ME",
          "ME",
          "ME",
          "ME",
          "ME",
          "ME",
          "ME",
          "TX",
          "TX",
          "TX",
          "TX",
          "TX",
          "TX",
          "TX",
          "TX",
          "TX",
          "TX",
          "TX",
          "TX",
          "TX",
          "TX",
          "NY",
          "NY",
          "NY",
          "NY",
          "NY",
          "NY",
          "NY",
          "NY",
          "NY",
          "NY",
          "NY",
          "NY",
          "NY",
          "NY",
          "MA",
          "MA",
          "MA",
          "MA",
          "MA",
          "MA",
          "MA",
          "MA",
          "MA",
          "MA",
          "MA",
          "MA",
          "MA",
          "MA",
          "MA",
          "MA",
          "MA",
          "MA",
          "MA",
          "MA",
          "MA",
          "MA",
          "MA",
          "MA",
          "MA",
          "MA",
          "MA",
          "MA",
          "ME",
          "ME",
          "ME",
          "ME",
          "ME",
          "ME",
          "ME",
          "ME",
          "ME",
          "ME",
          "ME",
          "ME",
          "ME",
          "ME",
          "MA",
          "MA",
          "MA",
          "MA",
          "MA",
          "MA",
          "MA",
          "MA",
          "MA",
          "MA",
          "MA",
          "MA",
          "MA",
          "MA",
          "UT",
          "UT",
          "UT",
          "UT",
          "UT",
          "UT",
          "UT",
          "UT",
          "UT",
          "UT",
          "UT",
          "UT",
          "UT",
          "UT",
          "RI",
          "RI",
          "RI",
          "RI",
          "RI",
          "RI",
          "RI",
          "RI",
          "RI",
          "RI",
          "RI",
          "RI",
          "RI",
          "RI",
          "PA",
          "PA",
          "PA",
          "PA",
          "PA",
          "PA",
          "PA",
          "PA",
          "PA",
          "PA",
          "PA",
          "PA",
          "PA",
          "PA",
          "PA",
          "PA",
          "PA",
          "PA",
          "PA",
          "PA",
          "PA",
          "PA",
          "PA",
          "PA",
          "PA",
          "PA",
          "PA",
          "PA",
          "MN",
          "MN",
          "MN",
          "MN",
          "MN",
          "MN",
          "MN",
          "MN",
          "MN",
          "MN",
          "MN",
          "MN",
          "MN",
          "MN",
          "PA",
          "PA",
          "PA",
          "PA",
          "PA",
          "PA",
          "PA",
          "PA",
          "PA",
          "PA",
          "PA",
          "PA",
          "PA",
          "PA",
          "OH",
          "OH",
          "OH",
          "OH",
          "OH",
          "OH",
          "OH",
          "OH",
          "OH",
          "OH",
          "OH",
          "OH",
          "OH",
          "OH",
          "MA",
          "MA",
          "MA",
          "MA",
          "MA",
          "MA",
          "MA",
          "MA",
          "MA",
          "MA",
          "MA",
          "MA",
          "MA",
          "MA",
          "SC",
          "SC",
          "SC",
          "SC",
          "SC",
          "SC",
          "SC",
          "SC",
          "SC",
          "SC",
          "SC",
          "SC",
          "SC",
          "SC",
          "ME",
          "ME",
          "ME",
          "ME",
          "ME",
          "ME",
          "ME",
          "ME",
          "ME",
          "ME",
          "ME",
          "ME",
          "ME",
          "ME",
          "NY",
          "NY",
          "NY",
          "NY",
          "NY",
          "NY",
          "NY",
          "NY",
          "NY",
          "NY",
          "NY",
          "NY",
          "NY",
          "NY",
          "NY",
          "NY",
          "NY",
          "NY",
          "NY",
          "NY",
          "NY",
          "NY",
          "NY",
          "NY",
          "NY",
          "NY",
          "NY",
          "NY",
          "CT",
          "CT",
          "CT",
          "CT",
          "CT",
          "CT",
          "CT",
          "CT",
          "CT",
          "CT",
          "CT",
          "CT",
          "CT",
          "CT",
          "NY",
          "NY",
          "NY",
          "NY",
          "NY",
          "NY",
          "NY",
          "NY",
          "NY",
          "NY",
          "NY",
          "NY",
          "NY",
          "NY",
          "NH",
          "NH",
          "NH",
          "NH",
          "NH",
          "NH",
          "NH",
          "NH",
          "NH",
          "NH",
          "NH",
          "NH",
          "NH",
          "NH",
          "NC",
          "NC",
          "NC",
          "NC",
          "NC",
          "NC",
          "NC",
          "NC",
          "NC",
          "NC",
          "NC",
          "NC",
          "NC",
          "NC",
          "NC",
          "NC",
          "NC",
          "NC",
          "NC",
          "NC",
          "NC",
          "NC",
          "NC",
          "NC",
          "NC",
          "NC",
          "NC",
          "NC",
          "NC",
          "NC",
          "NC",
          "NC",
          "NC",
          "NC",
          "NC",
          "NC",
          "NC",
          "NC",
          "NC",
          "NC",
          "NC",
          "NC",
          "GA",
          "GA",
          "GA",
          "GA",
          "GA",
          "GA",
          "GA",
          "GA",
          "GA",
          "GA",
          "GA",
          "GA",
          "GA",
          "GA",
          "FL",
          "FL",
          "FL",
          "FL",
          "FL",
          "FL",
          "FL",
          "FL",
          "FL",
          "FL",
          "FL",
          "FL",
          "FL",
          "FL",
          "NY",
          "NY",
          "NY",
          "NY",
          "NY",
          "NY",
          "NY",
          "NY",
          "NY",
          "NY",
          "NY",
          "NY",
          "NY",
          "NY",
          "PA",
          "PA",
          "PA",
          "PA",
          "PA",
          "PA",
          "PA",
          "PA",
          "PA",
          "PA",
          "PA",
          "PA",
          "PA",
          "PA",
          "DC",
          "DC",
          "DC",
          "DC",
          "DC",
          "DC",
          "DC",
          "DC",
          "DC",
          "DC",
          "DC",
          "DC",
          "DC",
          "DC",
          "DC",
          "DC",
          "DC",
          "DC",
          "DC",
          "DC",
          "DC",
          "DC",
          "DC",
          "DC",
          "DC",
          "DC",
          "DC",
          "DC",
          "GA",
          "GA",
          "GA",
          "GA",
          "GA",
          "GA",
          "GA",
          "GA",
          "GA",
          "GA",
          "GA",
          "GA",
          "GA",
          "GA",
          "WA",
          "WA",
          "WA",
          "WA",
          "WA",
          "WA",
          "WA",
          "WA",
          "WA",
          "WA",
          "WA",
          "WA",
          "WA",
          "WA",
          "NY",
          "NY",
          "NY",
          "NY",
          "NY",
          "NY",
          "NY",
          "NY",
          "NY",
          "NY",
          "NY",
          "NY",
          "NY",
          "NY",
          "MA",
          "MA",
          "MA",
          "MA",
          "MA",
          "MA",
          "MA",
          "MA",
          "MA",
          "MA",
          "MA",
          "MA",
          "MA",
          "MA",
          "PA",
          "PA",
          "PA",
          "PA",
          "PA",
          "PA",
          "PA",
          "PA",
          "PA",
          "PA",
          "PA",
          "PA",
          "PA",
          "PA",
          "DC",
          "DC",
          "DC",
          "DC",
          "DC",
          "DC",
          "DC",
          "DC",
          "DC",
          "DC",
          "DC",
          "DC",
          "DC",
          "DC",
          "MD",
          "MD",
          "MD",
          "MD",
          "MD",
          "MD",
          "MD",
          "MD",
          "MD",
          "MD",
          "MD",
          "MD",
          "MD",
          "MD",
          "OH",
          "OH",
          "OH",
          "OH",
          "OH",
          "OH",
          "OH",
          "OH",
          "OH",
          "OH",
          "OH",
          "OH",
          "OH",
          "OH",
          "PA",
          "PA",
          "PA",
          "PA",
          "PA",
          "PA",
          "PA",
          "PA",
          "PA",
          "PA",
          "PA",
          "PA",
          "PA",
          "PA",
          "PA",
          "PA",
          "PA",
          "PA",
          "PA",
          "PA",
          "PA",
          "PA",
          "PA",
          "PA",
          "PA",
          "PA",
          "PA",
          "PA",
          "CA",
          "CA",
          "CA",
          "CA",
          "CA",
          "CA",
          "CA",
          "CA",
          "CA",
          "CA",
          "CA",
          "CA",
          "CA",
          "CA",
          "MN",
          "MN",
          "MN",
          "MN",
          "MN",
          "MN",
          "MN",
          "MN",
          "MN",
          "MN",
          "MN",
          "MN",
          "MN",
          "MN",
          "WI",
          "WI",
          "WI",
          "WI",
          "WI",
          "WI",
          "WI",
          "WI",
          "WI",
          "WI",
          "WI",
          "WI",
          "WI",
          "WI",
          "MA",
          "MA",
          "MA",
          "MA",
          "MA",
          "MA",
          "MA",
          "MA",
          "MA",
          "MA",
          "MA",
          "MA",
          "MA",
          "MA",
          "MI",
          "MI",
          "MI",
          "MI",
          "MI",
          "MI",
          "MI",
          "MI",
          "MI",
          "MI",
          "MI",
          "MI",
          "MI",
          "MI",
          "VT",
          "VT",
          "VT",
          "VT",
          "VT",
          "VT",
          "VT",
          "VT",
          "VT",
          "VT",
          "VT",
          "VT",
          "VT",
          "VT",
          "NY",
          "NY",
          "NY",
          "NY",
          "NY",
          "NY",
          "NY",
          "NY",
          "NY",
          "NY",
          "NY",
          "NY",
          "NY",
          "NY",
          "NC",
          "NC",
          "NC",
          "NC",
          "NC",
          "NC",
          "NC",
          "NC",
          "NC",
          "NC",
          "NC",
          "NC",
          "NC",
          "NC",
          "MA",
          "MA",
          "MA",
          "MA",
          "MA",
          "MA",
          "MA",
          "MA",
          "MA",
          "MA",
          "MA",
          "MA",
          "MA",
          "MA",
          "IL",
          "IL",
          "IL",
          "IL",
          "IL",
          "IL",
          "IL",
          "IL",
          "IL",
          "IL",
          "IL",
          "IL",
          "IL",
          "IL",
          "OH",
          "OH",
          "OH",
          "OH",
          "OH",
          "OH",
          "OH",
          "OH",
          "OH",
          "OH",
          "OH",
          "OH",
          "OH",
          "OH",
          "CA",
          "CA",
          "CA",
          "CA",
          "CA",
          "CA",
          "CA",
          "CA",
          "CA",
          "CA",
          "CA",
          "CA",
          "CA",
          "CA",
          "OH",
          "OH",
          "OH",
          "OH",
          "OH",
          "OH",
          "OH",
          "OH",
          "OH",
          "OH",
          "OH",
          "OH",
          "OH",
          "OH",
          "CA",
          "CA",
          "CA",
          "CA",
          "CA",
          "CA",
          "CA",
          "CA",
          "CA",
          "CA",
          "CA",
          "CA",
          "CA",
          "CA",
          "CA",
          "CA",
          "CA",
          "CA",
          "CA",
          "CA",
          "CA",
          "CA",
          "CA",
          "CA",
          "CA",
          "CA",
          "CA",
          "CA",
          "NJ",
          "NJ",
          "NJ",
          "NJ",
          "NJ",
          "NJ",
          "NJ",
          "NJ",
          "NJ",
          "NJ",
          "NJ",
          "NJ",
          "NJ",
          "NJ",
          "IN",
          "IN",
          "IN",
          "IN",
          "IN",
          "IN",
          "IN",
          "IN",
          "IN",
          "IN",
          "IN",
          "IN",
          "IN",
          "IN",
          "OR",
          "OR",
          "OR",
          "OR",
          "OR",
          "OR",
          "OR",
          "OR",
          "OR",
          "OR",
          "OR",
          "OR",
          "OR",
          "OR",
          "NY",
          "NY",
          "NY",
          "NY",
          "NY",
          "NY",
          "NY",
          "NY",
          "NY",
          "NY",
          "NY",
          "NY",
          "NY",
          "NY",
          "TX",
          "TX",
          "TX",
          "TX",
          "TX",
          "TX",
          "TX",
          "TX",
          "TX",
          "TX",
          "TX",
          "TX",
          "TX",
          "TX",
          "NJ",
          "NJ",
          "NJ",
          "NJ",
          "NJ",
          "NJ",
          "NJ",
          "NJ",
          "NJ",
          "NJ",
          "NJ",
          "NJ",
          "NJ",
          "NJ",
          "CA",
          "CA",
          "CA",
          "CA",
          "CA",
          "CA",
          "CA",
          "CA",
          "CA",
          "CA",
          "CA",
          "CA",
          "CA",
          "CA",
          "CA",
          "CA",
          "CA",
          "CA",
          "CA",
          "CA",
          "CA",
          "CA",
          "CA",
          "CA",
          "CA",
          "CA",
          "CA",
          "CA",
          "TX",
          "TX",
          "TX",
          "TX",
          "TX",
          "TX",
          "TX",
          "TX",
          "TX",
          "TX",
          "TX",
          "TX",
          "TX",
          "TX",
          "CA",
          "CA",
          "CA",
          "CA",
          "CA",
          "CA",
          "CA",
          "CA",
          "CA",
          "CA",
          "CA",
          "CA",
          "CA",
          "CA",
          "NY",
          "NY",
          "NY",
          "NY",
          "NY",
          "NY",
          "NY",
          "NY",
          "NY",
          "NY",
          "NY",
          "NY",
          "NY",
          "NY",
          "NY",
          "NY",
          "NY",
          "NY",
          "NY",
          "NY",
          "NY",
          "NY",
          "NY",
          "NY",
          "NY",
          "NY",
          "NY",
          "NY",
          "PA",
          "PA",
          "PA",
          "PA",
          "PA",
          "PA",
          "PA",
          "PA",
          "PA",
          "PA",
          "PA",
          "PA",
          "PA",
          "PA",
          "NY",
          "NY",
          "NY",
          "NY",
          "NY",
          "NY",
          "NY",
          "NY",
          "NY",
          "NY",
          "NY",
          "NY",
          "NY",
          "NY",
          "TX",
          "TX",
          "TX",
          "TX",
          "TX",
          "TX",
          "TX",
          "TX",
          "TX",
          "TX",
          "TX",
          "TX",
          "TX",
          "TX",
          "TX",
          "TX",
          "TX",
          "TX",
          "TX",
          "TX",
          "TX",
          "TX",
          "TX",
          "TX",
          "TX",
          "TX",
          "TX",
          "TX",
          "CT",
          "CT",
          "CT",
          "CT",
          "CT",
          "CT",
          "CT",
          "CT",
          "CT",
          "CT",
          "CT",
          "CT",
          "CT",
          "CT",
          "MA",
          "MA",
          "MA",
          "MA",
          "MA",
          "MA",
          "MA",
          "MA",
          "MA",
          "MA",
          "MA",
          "MA",
          "MA",
          "MA",
          "AL",
          "AL",
          "AL",
          "AL",
          "AL",
          "AL",
          "AL",
          "AL",
          "AL",
          "AL",
          "AL",
          "AL",
          "AL",
          "AL",
          "AK",
          "AK",
          "AK",
          "AK",
          "AK",
          "AK",
          "AK",
          "AK",
          "AK",
          "AK",
          "AK",
          "AK",
          "AK",
          "AK",
          "CA",
          "CA",
          "CA",
          "CA",
          "CA",
          "CA",
          "CA",
          "CA",
          "CA",
          "CA",
          "CA",
          "CA",
          "CA",
          "CA",
          "CA",
          "CA",
          "CA",
          "CA",
          "CA",
          "CA",
          "CA",
          "CA",
          "CA",
          "CA",
          "CA",
          "CA",
          "CA",
          "CA",
          "CA",
          "CA",
          "CA",
          "CA",
          "CA",
          "CA",
          "CA",
          "CA",
          "CA",
          "CA",
          "CA",
          "CA",
          "CA",
          "CA",
          "CA",
          "CA",
          "CA",
          "CA",
          "CA",
          "CA",
          "CA",
          "CA",
          "CA",
          "CA",
          "CA",
          "CA",
          "CA",
          "CA",
          "CA",
          "CA",
          "CA",
          "CA",
          "CA",
          "CA",
          "CA",
          "CA",
          "CA",
          "CA",
          "CA",
          "CA",
          "CA",
          "CA",
          "CA",
          "CA",
          "CA",
          "CA",
          "CA",
          "CA",
          "CA",
          "CA",
          "CA",
          "CA",
          "CA",
          "CA",
          "CA",
          "CA",
          "CA",
          "CA",
          "CA",
          "CA",
          "CA",
          "CA",
          "CA",
          "CA",
          "CA",
          "CA",
          "CA",
          "CA",
          "CA",
          "CA",
          "CA",
          "CA",
          "CA",
          "CA",
          "CA",
          "CA",
          "CA",
          "CA",
          "CA",
          "CA",
          "CA",
          "CA",
          "CA",
          "CA",
          "IL",
          "IL",
          "IL",
          "IL",
          "IL",
          "IL",
          "IL",
          "IL",
          "IL",
          "IL",
          "IL",
          "IL",
          "IL",
          "IL",
          "CT",
          "CT",
          "CT",
          "CT",
          "CT",
          "CT",
          "CT",
          "CT",
          "CT",
          "CT",
          "CT",
          "CT",
          "CT",
          "CT",
          "DE",
          "DE",
          "DE",
          "DE",
          "DE",
          "DE",
          "DE",
          "DE",
          "DE",
          "DE",
          "DE",
          "DE",
          "DE",
          "DE",
          "FL",
          "FL",
          "FL",
          "FL",
          "FL",
          "FL",
          "FL",
          "FL",
          "FL",
          "FL",
          "FL",
          "FL",
          "FL",
          "FL",
          "GA",
          "GA",
          "GA",
          "GA",
          "GA",
          "GA",
          "GA",
          "GA",
          "GA",
          "GA",
          "GA",
          "GA",
          "GA",
          "GA",
          "ID",
          "ID",
          "ID",
          "ID",
          "ID",
          "ID",
          "ID",
          "ID",
          "ID",
          "ID",
          "ID",
          "ID",
          "ID",
          "ID",
          "IA",
          "IA",
          "IA",
          "IA",
          "IA",
          "IA",
          "IA",
          "IA",
          "IA",
          "IA",
          "IA",
          "IA",
          "IA",
          "IA",
          "KS",
          "KS",
          "KS",
          "KS",
          "KS",
          "KS",
          "KS",
          "KS",
          "KS",
          "KS",
          "KS",
          "KS",
          "KS",
          "KS",
          "KY",
          "KY",
          "KY",
          "KY",
          "KY",
          "KY",
          "KY",
          "KY",
          "KY",
          "KY",
          "KY",
          "KY",
          "KY",
          "KY",
          "FL",
          "FL",
          "FL",
          "FL",
          "FL",
          "FL",
          "FL",
          "FL",
          "FL",
          "FL",
          "FL",
          "FL",
          "FL",
          "FL",
          "MI",
          "MI",
          "MI",
          "MI",
          "MI",
          "MI",
          "MI",
          "MI",
          "MI",
          "MI",
          "MI",
          "MI",
          "MI",
          "MI",
          "MS",
          "MS",
          "MS",
          "MS",
          "MS",
          "MS",
          "MS",
          "MS",
          "MS",
          "MS",
          "MS",
          "MS",
          "MS",
          "MS",
          "MO",
          "MO",
          "MO",
          "MO",
          "MO",
          "MO",
          "MO",
          "MO",
          "MO",
          "MO",
          "MO",
          "MO",
          "MO",
          "MO",
          "NH",
          "NH",
          "NH",
          "NH",
          "NH",
          "NH",
          "NH",
          "NH",
          "NH",
          "NH",
          "NH",
          "NH",
          "NH",
          "NH",
          "NM",
          "NM",
          "NM",
          "NM",
          "NM",
          "NM",
          "NM",
          "NM",
          "NM",
          "NM",
          "NM",
          "NM",
          "NM",
          "NM",
          "NC",
          "NC",
          "NC",
          "NC",
          "NC",
          "NC",
          "NC",
          "NC",
          "NC",
          "NC",
          "NC",
          "NC",
          "NC",
          "NC",
          "ND",
          "ND",
          "ND",
          "ND",
          "ND",
          "ND",
          "ND",
          "ND",
          "ND",
          "ND",
          "ND",
          "ND",
          "ND",
          "ND",
          "IN",
          "IN",
          "IN",
          "IN",
          "IN",
          "IN",
          "IN",
          "IN",
          "IN",
          "IN",
          "IN",
          "IN",
          "IN",
          "IN",
          "OK",
          "OK",
          "OK",
          "OK",
          "OK",
          "OK",
          "OK",
          "OK",
          "OK",
          "OK",
          "OK",
          "OK",
          "OK",
          "OK",
          "OR",
          "OR",
          "OR",
          "OR",
          "OR",
          "OR",
          "OR",
          "OR",
          "OR",
          "OR",
          "OR",
          "OR",
          "OR",
          "OR",
          "VA",
          "VA",
          "VA",
          "VA",
          "VA",
          "VA",
          "VA",
          "VA",
          "VA",
          "VA",
          "VA",
          "VA",
          "VA",
          "VA",
          "NY",
          "NY",
          "NY",
          "NY",
          "NY",
          "NY",
          "NY",
          "NY",
          "NY",
          "NY",
          "NY",
          "NY",
          "NY",
          "NY",
          "FL",
          "FL",
          "FL",
          "FL",
          "FL",
          "FL",
          "FL",
          "FL",
          "FL",
          "FL",
          "FL",
          "FL",
          "FL",
          "FL",
          "CA",
          "CA",
          "CA",
          "CA",
          "CA",
          "CA",
          "CA",
          "CA",
          "CA",
          "CA",
          "CA",
          "CA",
          "CA",
          "CA",
          "TX",
          "TX",
          "TX",
          "TX",
          "TX",
          "TX",
          "TX",
          "TX",
          "TX",
          "TX",
          "TX",
          "TX",
          "TX",
          "TX",
          "UT",
          "UT",
          "UT",
          "UT",
          "UT",
          "UT",
          "UT",
          "UT",
          "UT",
          "UT",
          "UT",
          "UT",
          "UT",
          "UT",
          "VA",
          "VA",
          "VA",
          "VA",
          "VA",
          "VA",
          "VA",
          "VA",
          "VA",
          "VA",
          "VA",
          "VA",
          "VA",
          "VA",
          "WY",
          "WY",
          "WY",
          "WY",
          "WY",
          "WY",
          "WY",
          "WY",
          "WY",
          "WY",
          "WY",
          "WY",
          "WY",
          "WY",
          "TN",
          "TN",
          "TN",
          "TN",
          "TN",
          "TN",
          "TN",
          "TN",
          "TN",
          "TN",
          "TN",
          "TN",
          "TN",
          "TN",
          "NY",
          "NY",
          "NY",
          "NY",
          "NY",
          "NY",
          "NY",
          "NY",
          "NY",
          "NY",
          "NY",
          "NY",
          "NY",
          "NY",
          "VA",
          "VA",
          "VA",
          "VA",
          "VA",
          "VA",
          "VA",
          "VA",
          "VA",
          "VA",
          "VA",
          "VA",
          "VA",
          "VA",
          "NC",
          "NC",
          "NC",
          "NC",
          "NC",
          "NC",
          "NC",
          "NC",
          "NC",
          "NC",
          "NC",
          "NC",
          "NC",
          "NC",
          "VA",
          "VA",
          "VA",
          "VA",
          "VA",
          "VA",
          "VA",
          "VA",
          "VA",
          "VA",
          "VA",
          "VA",
          "VA",
          "VA",
          "MO",
          "MO",
          "MO",
          "MO",
          "MO",
          "MO",
          "MO",
          "MO",
          "MO",
          "MO",
          "MO",
          "MO",
          "MO",
          "MO",
          "MA",
          "MA",
          "MA",
          "MA",
          "MA",
          "MA",
          "MA",
          "MA",
          "MA",
          "MA",
          "MA",
          "MA",
          "MA",
          "MA",
          "CT",
          "CT",
          "CT",
          "CT",
          "CT",
          "CT",
          "CT",
          "CT",
          "CT",
          "CT",
          "CT",
          "CT",
          "CT",
          "CT",
          "WA",
          "WA",
          "WA",
          "WA",
          "WA",
          "WA",
          "WA",
          "WA",
          "WA",
          "WA",
          "WA",
          "WA",
          "WA",
          "WA",
          "MA",
          "MA",
          "MA",
          "MA",
          "MA",
          "MA",
          "MA",
          "MA",
          "MA",
          "MA",
          "MA",
          "MA",
          "MA",
          "MA",
          "MA",
          "MA",
          "MA",
          "MA",
          "MA",
          "MA",
          "MA",
          "MA",
          "MA",
          "MA",
          "MA",
          "MA",
          "MA",
          "MA",
          "CT",
          "CT",
          "CT",
          "CT",
          "CT",
          "CT",
          "CT",
          "CT",
          "CT",
          "CT",
          "CT",
          "CT",
          "CT",
          "CT",
          "NY",
          "NY",
          "NY",
          "NY",
          "NY",
          "NY",
          "NY",
          "NY",
          "NY",
          "NY",
          "NY",
          "NY",
          "NY",
          "NY"
         ],
         "locationmode": "USA-states",
         "locations": [
          "DC",
          "DC",
          "DC",
          "DC",
          "DC",
          "DC",
          "DC",
          "DC",
          "DC",
          "DC",
          "DC",
          "DC",
          "DC",
          "DC",
          "MA",
          "MA",
          "MA",
          "MA",
          "MA",
          "MA",
          "MA",
          "MA",
          "MA",
          "MA",
          "MA",
          "MA",
          "MA",
          "MA",
          "AL",
          "AL",
          "AL",
          "AL",
          "AL",
          "AL",
          "AL",
          "AL",
          "AL",
          "AL",
          "AL",
          "AL",
          "AL",
          "AL",
          "NY",
          "NY",
          "NY",
          "NY",
          "NY",
          "NY",
          "NY",
          "NY",
          "NY",
          "NY",
          "NY",
          "NY",
          "NY",
          "NY",
          "ME",
          "ME",
          "ME",
          "ME",
          "ME",
          "ME",
          "ME",
          "ME",
          "ME",
          "ME",
          "ME",
          "ME",
          "ME",
          "ME",
          "TX",
          "TX",
          "TX",
          "TX",
          "TX",
          "TX",
          "TX",
          "TX",
          "TX",
          "TX",
          "TX",
          "TX",
          "TX",
          "TX",
          "NY",
          "NY",
          "NY",
          "NY",
          "NY",
          "NY",
          "NY",
          "NY",
          "NY",
          "NY",
          "NY",
          "NY",
          "NY",
          "NY",
          "MA",
          "MA",
          "MA",
          "MA",
          "MA",
          "MA",
          "MA",
          "MA",
          "MA",
          "MA",
          "MA",
          "MA",
          "MA",
          "MA",
          "MA",
          "MA",
          "MA",
          "MA",
          "MA",
          "MA",
          "MA",
          "MA",
          "MA",
          "MA",
          "MA",
          "MA",
          "MA",
          "MA",
          "ME",
          "ME",
          "ME",
          "ME",
          "ME",
          "ME",
          "ME",
          "ME",
          "ME",
          "ME",
          "ME",
          "ME",
          "ME",
          "ME",
          "MA",
          "MA",
          "MA",
          "MA",
          "MA",
          "MA",
          "MA",
          "MA",
          "MA",
          "MA",
          "MA",
          "MA",
          "MA",
          "MA",
          "UT",
          "UT",
          "UT",
          "UT",
          "UT",
          "UT",
          "UT",
          "UT",
          "UT",
          "UT",
          "UT",
          "UT",
          "UT",
          "UT",
          "RI",
          "RI",
          "RI",
          "RI",
          "RI",
          "RI",
          "RI",
          "RI",
          "RI",
          "RI",
          "RI",
          "RI",
          "RI",
          "RI",
          "PA",
          "PA",
          "PA",
          "PA",
          "PA",
          "PA",
          "PA",
          "PA",
          "PA",
          "PA",
          "PA",
          "PA",
          "PA",
          "PA",
          "PA",
          "PA",
          "PA",
          "PA",
          "PA",
          "PA",
          "PA",
          "PA",
          "PA",
          "PA",
          "PA",
          "PA",
          "PA",
          "PA",
          "MN",
          "MN",
          "MN",
          "MN",
          "MN",
          "MN",
          "MN",
          "MN",
          "MN",
          "MN",
          "MN",
          "MN",
          "MN",
          "MN",
          "PA",
          "PA",
          "PA",
          "PA",
          "PA",
          "PA",
          "PA",
          "PA",
          "PA",
          "PA",
          "PA",
          "PA",
          "PA",
          "PA",
          "OH",
          "OH",
          "OH",
          "OH",
          "OH",
          "OH",
          "OH",
          "OH",
          "OH",
          "OH",
          "OH",
          "OH",
          "OH",
          "OH",
          "MA",
          "MA",
          "MA",
          "MA",
          "MA",
          "MA",
          "MA",
          "MA",
          "MA",
          "MA",
          "MA",
          "MA",
          "MA",
          "MA",
          "SC",
          "SC",
          "SC",
          "SC",
          "SC",
          "SC",
          "SC",
          "SC",
          "SC",
          "SC",
          "SC",
          "SC",
          "SC",
          "SC",
          "ME",
          "ME",
          "ME",
          "ME",
          "ME",
          "ME",
          "ME",
          "ME",
          "ME",
          "ME",
          "ME",
          "ME",
          "ME",
          "ME",
          "NY",
          "NY",
          "NY",
          "NY",
          "NY",
          "NY",
          "NY",
          "NY",
          "NY",
          "NY",
          "NY",
          "NY",
          "NY",
          "NY",
          "NY",
          "NY",
          "NY",
          "NY",
          "NY",
          "NY",
          "NY",
          "NY",
          "NY",
          "NY",
          "NY",
          "NY",
          "NY",
          "NY",
          "CT",
          "CT",
          "CT",
          "CT",
          "CT",
          "CT",
          "CT",
          "CT",
          "CT",
          "CT",
          "CT",
          "CT",
          "CT",
          "CT",
          "NY",
          "NY",
          "NY",
          "NY",
          "NY",
          "NY",
          "NY",
          "NY",
          "NY",
          "NY",
          "NY",
          "NY",
          "NY",
          "NY",
          "NH",
          "NH",
          "NH",
          "NH",
          "NH",
          "NH",
          "NH",
          "NH",
          "NH",
          "NH",
          "NH",
          "NH",
          "NH",
          "NH",
          "NC",
          "NC",
          "NC",
          "NC",
          "NC",
          "NC",
          "NC",
          "NC",
          "NC",
          "NC",
          "NC",
          "NC",
          "NC",
          "NC",
          "NC",
          "NC",
          "NC",
          "NC",
          "NC",
          "NC",
          "NC",
          "NC",
          "NC",
          "NC",
          "NC",
          "NC",
          "NC",
          "NC",
          "NC",
          "NC",
          "NC",
          "NC",
          "NC",
          "NC",
          "NC",
          "NC",
          "NC",
          "NC",
          "NC",
          "NC",
          "NC",
          "NC",
          "GA",
          "GA",
          "GA",
          "GA",
          "GA",
          "GA",
          "GA",
          "GA",
          "GA",
          "GA",
          "GA",
          "GA",
          "GA",
          "GA",
          "FL",
          "FL",
          "FL",
          "FL",
          "FL",
          "FL",
          "FL",
          "FL",
          "FL",
          "FL",
          "FL",
          "FL",
          "FL",
          "FL",
          "NY",
          "NY",
          "NY",
          "NY",
          "NY",
          "NY",
          "NY",
          "NY",
          "NY",
          "NY",
          "NY",
          "NY",
          "NY",
          "NY",
          "PA",
          "PA",
          "PA",
          "PA",
          "PA",
          "PA",
          "PA",
          "PA",
          "PA",
          "PA",
          "PA",
          "PA",
          "PA",
          "PA",
          "DC",
          "DC",
          "DC",
          "DC",
          "DC",
          "DC",
          "DC",
          "DC",
          "DC",
          "DC",
          "DC",
          "DC",
          "DC",
          "DC",
          "DC",
          "DC",
          "DC",
          "DC",
          "DC",
          "DC",
          "DC",
          "DC",
          "DC",
          "DC",
          "DC",
          "DC",
          "DC",
          "DC",
          "GA",
          "GA",
          "GA",
          "GA",
          "GA",
          "GA",
          "GA",
          "GA",
          "GA",
          "GA",
          "GA",
          "GA",
          "GA",
          "GA",
          "WA",
          "WA",
          "WA",
          "WA",
          "WA",
          "WA",
          "WA",
          "WA",
          "WA",
          "WA",
          "WA",
          "WA",
          "WA",
          "WA",
          "NY",
          "NY",
          "NY",
          "NY",
          "NY",
          "NY",
          "NY",
          "NY",
          "NY",
          "NY",
          "NY",
          "NY",
          "NY",
          "NY",
          "MA",
          "MA",
          "MA",
          "MA",
          "MA",
          "MA",
          "MA",
          "MA",
          "MA",
          "MA",
          "MA",
          "MA",
          "MA",
          "MA",
          "PA",
          "PA",
          "PA",
          "PA",
          "PA",
          "PA",
          "PA",
          "PA",
          "PA",
          "PA",
          "PA",
          "PA",
          "PA",
          "PA",
          "DC",
          "DC",
          "DC",
          "DC",
          "DC",
          "DC",
          "DC",
          "DC",
          "DC",
          "DC",
          "DC",
          "DC",
          "DC",
          "DC",
          "MD",
          "MD",
          "MD",
          "MD",
          "MD",
          "MD",
          "MD",
          "MD",
          "MD",
          "MD",
          "MD",
          "MD",
          "MD",
          "MD",
          "OH",
          "OH",
          "OH",
          "OH",
          "OH",
          "OH",
          "OH",
          "OH",
          "OH",
          "OH",
          "OH",
          "OH",
          "OH",
          "OH",
          "PA",
          "PA",
          "PA",
          "PA",
          "PA",
          "PA",
          "PA",
          "PA",
          "PA",
          "PA",
          "PA",
          "PA",
          "PA",
          "PA",
          "PA",
          "PA",
          "PA",
          "PA",
          "PA",
          "PA",
          "PA",
          "PA",
          "PA",
          "PA",
          "PA",
          "PA",
          "PA",
          "PA",
          "CA",
          "CA",
          "CA",
          "CA",
          "CA",
          "CA",
          "CA",
          "CA",
          "CA",
          "CA",
          "CA",
          "CA",
          "CA",
          "CA",
          "MN",
          "MN",
          "MN",
          "MN",
          "MN",
          "MN",
          "MN",
          "MN",
          "MN",
          "MN",
          "MN",
          "MN",
          "MN",
          "MN",
          "WI",
          "WI",
          "WI",
          "WI",
          "WI",
          "WI",
          "WI",
          "WI",
          "WI",
          "WI",
          "WI",
          "WI",
          "WI",
          "WI",
          "MA",
          "MA",
          "MA",
          "MA",
          "MA",
          "MA",
          "MA",
          "MA",
          "MA",
          "MA",
          "MA",
          "MA",
          "MA",
          "MA",
          "MI",
          "MI",
          "MI",
          "MI",
          "MI",
          "MI",
          "MI",
          "MI",
          "MI",
          "MI",
          "MI",
          "MI",
          "MI",
          "MI",
          "VT",
          "VT",
          "VT",
          "VT",
          "VT",
          "VT",
          "VT",
          "VT",
          "VT",
          "VT",
          "VT",
          "VT",
          "VT",
          "VT",
          "NY",
          "NY",
          "NY",
          "NY",
          "NY",
          "NY",
          "NY",
          "NY",
          "NY",
          "NY",
          "NY",
          "NY",
          "NY",
          "NY",
          "NC",
          "NC",
          "NC",
          "NC",
          "NC",
          "NC",
          "NC",
          "NC",
          "NC",
          "NC",
          "NC",
          "NC",
          "NC",
          "NC",
          "MA",
          "MA",
          "MA",
          "MA",
          "MA",
          "MA",
          "MA",
          "MA",
          "MA",
          "MA",
          "MA",
          "MA",
          "MA",
          "MA",
          "IL",
          "IL",
          "IL",
          "IL",
          "IL",
          "IL",
          "IL",
          "IL",
          "IL",
          "IL",
          "IL",
          "IL",
          "IL",
          "IL",
          "OH",
          "OH",
          "OH",
          "OH",
          "OH",
          "OH",
          "OH",
          "OH",
          "OH",
          "OH",
          "OH",
          "OH",
          "OH",
          "OH",
          "CA",
          "CA",
          "CA",
          "CA",
          "CA",
          "CA",
          "CA",
          "CA",
          "CA",
          "CA",
          "CA",
          "CA",
          "CA",
          "CA",
          "OH",
          "OH",
          "OH",
          "OH",
          "OH",
          "OH",
          "OH",
          "OH",
          "OH",
          "OH",
          "OH",
          "OH",
          "OH",
          "OH",
          "CA",
          "CA",
          "CA",
          "CA",
          "CA",
          "CA",
          "CA",
          "CA",
          "CA",
          "CA",
          "CA",
          "CA",
          "CA",
          "CA",
          "CA",
          "CA",
          "CA",
          "CA",
          "CA",
          "CA",
          "CA",
          "CA",
          "CA",
          "CA",
          "CA",
          "CA",
          "CA",
          "CA",
          "NJ",
          "NJ",
          "NJ",
          "NJ",
          "NJ",
          "NJ",
          "NJ",
          "NJ",
          "NJ",
          "NJ",
          "NJ",
          "NJ",
          "NJ",
          "NJ",
          "IN",
          "IN",
          "IN",
          "IN",
          "IN",
          "IN",
          "IN",
          "IN",
          "IN",
          "IN",
          "IN",
          "IN",
          "IN",
          "IN",
          "OR",
          "OR",
          "OR",
          "OR",
          "OR",
          "OR",
          "OR",
          "OR",
          "OR",
          "OR",
          "OR",
          "OR",
          "OR",
          "OR",
          "NY",
          "NY",
          "NY",
          "NY",
          "NY",
          "NY",
          "NY",
          "NY",
          "NY",
          "NY",
          "NY",
          "NY",
          "NY",
          "NY",
          "TX",
          "TX",
          "TX",
          "TX",
          "TX",
          "TX",
          "TX",
          "TX",
          "TX",
          "TX",
          "TX",
          "TX",
          "TX",
          "TX",
          "NJ",
          "NJ",
          "NJ",
          "NJ",
          "NJ",
          "NJ",
          "NJ",
          "NJ",
          "NJ",
          "NJ",
          "NJ",
          "NJ",
          "NJ",
          "NJ",
          "CA",
          "CA",
          "CA",
          "CA",
          "CA",
          "CA",
          "CA",
          "CA",
          "CA",
          "CA",
          "CA",
          "CA",
          "CA",
          "CA",
          "CA",
          "CA",
          "CA",
          "CA",
          "CA",
          "CA",
          "CA",
          "CA",
          "CA",
          "CA",
          "CA",
          "CA",
          "CA",
          "CA",
          "TX",
          "TX",
          "TX",
          "TX",
          "TX",
          "TX",
          "TX",
          "TX",
          "TX",
          "TX",
          "TX",
          "TX",
          "TX",
          "TX",
          "CA",
          "CA",
          "CA",
          "CA",
          "CA",
          "CA",
          "CA",
          "CA",
          "CA",
          "CA",
          "CA",
          "CA",
          "CA",
          "CA",
          "NY",
          "NY",
          "NY",
          "NY",
          "NY",
          "NY",
          "NY",
          "NY",
          "NY",
          "NY",
          "NY",
          "NY",
          "NY",
          "NY",
          "NY",
          "NY",
          "NY",
          "NY",
          "NY",
          "NY",
          "NY",
          "NY",
          "NY",
          "NY",
          "NY",
          "NY",
          "NY",
          "NY",
          "PA",
          "PA",
          "PA",
          "PA",
          "PA",
          "PA",
          "PA",
          "PA",
          "PA",
          "PA",
          "PA",
          "PA",
          "PA",
          "PA",
          "NY",
          "NY",
          "NY",
          "NY",
          "NY",
          "NY",
          "NY",
          "NY",
          "NY",
          "NY",
          "NY",
          "NY",
          "NY",
          "NY",
          "TX",
          "TX",
          "TX",
          "TX",
          "TX",
          "TX",
          "TX",
          "TX",
          "TX",
          "TX",
          "TX",
          "TX",
          "TX",
          "TX",
          "TX",
          "TX",
          "TX",
          "TX",
          "TX",
          "TX",
          "TX",
          "TX",
          "TX",
          "TX",
          "TX",
          "TX",
          "TX",
          "TX",
          "CT",
          "CT",
          "CT",
          "CT",
          "CT",
          "CT",
          "CT",
          "CT",
          "CT",
          "CT",
          "CT",
          "CT",
          "CT",
          "CT",
          "MA",
          "MA",
          "MA",
          "MA",
          "MA",
          "MA",
          "MA",
          "MA",
          "MA",
          "MA",
          "MA",
          "MA",
          "MA",
          "MA",
          "AL",
          "AL",
          "AL",
          "AL",
          "AL",
          "AL",
          "AL",
          "AL",
          "AL",
          "AL",
          "AL",
          "AL",
          "AL",
          "AL",
          "AK",
          "AK",
          "AK",
          "AK",
          "AK",
          "AK",
          "AK",
          "AK",
          "AK",
          "AK",
          "AK",
          "AK",
          "AK",
          "AK",
          "CA",
          "CA",
          "CA",
          "CA",
          "CA",
          "CA",
          "CA",
          "CA",
          "CA",
          "CA",
          "CA",
          "CA",
          "CA",
          "CA",
          "CA",
          "CA",
          "CA",
          "CA",
          "CA",
          "CA",
          "CA",
          "CA",
          "CA",
          "CA",
          "CA",
          "CA",
          "CA",
          "CA",
          "CA",
          "CA",
          "CA",
          "CA",
          "CA",
          "CA",
          "CA",
          "CA",
          "CA",
          "CA",
          "CA",
          "CA",
          "CA",
          "CA",
          "CA",
          "CA",
          "CA",
          "CA",
          "CA",
          "CA",
          "CA",
          "CA",
          "CA",
          "CA",
          "CA",
          "CA",
          "CA",
          "CA",
          "CA",
          "CA",
          "CA",
          "CA",
          "CA",
          "CA",
          "CA",
          "CA",
          "CA",
          "CA",
          "CA",
          "CA",
          "CA",
          "CA",
          "CA",
          "CA",
          "CA",
          "CA",
          "CA",
          "CA",
          "CA",
          "CA",
          "CA",
          "CA",
          "CA",
          "CA",
          "CA",
          "CA",
          "CA",
          "CA",
          "CA",
          "CA",
          "CA",
          "CA",
          "CA",
          "CA",
          "CA",
          "CA",
          "CA",
          "CA",
          "CA",
          "CA",
          "CA",
          "CA",
          "CA",
          "CA",
          "CA",
          "CA",
          "CA",
          "CA",
          "CA",
          "CA",
          "CA",
          "CA",
          "CA",
          "CA",
          "IL",
          "IL",
          "IL",
          "IL",
          "IL",
          "IL",
          "IL",
          "IL",
          "IL",
          "IL",
          "IL",
          "IL",
          "IL",
          "IL",
          "CT",
          "CT",
          "CT",
          "CT",
          "CT",
          "CT",
          "CT",
          "CT",
          "CT",
          "CT",
          "CT",
          "CT",
          "CT",
          "CT",
          "DE",
          "DE",
          "DE",
          "DE",
          "DE",
          "DE",
          "DE",
          "DE",
          "DE",
          "DE",
          "DE",
          "DE",
          "DE",
          "DE",
          "FL",
          "FL",
          "FL",
          "FL",
          "FL",
          "FL",
          "FL",
          "FL",
          "FL",
          "FL",
          "FL",
          "FL",
          "FL",
          "FL",
          "GA",
          "GA",
          "GA",
          "GA",
          "GA",
          "GA",
          "GA",
          "GA",
          "GA",
          "GA",
          "GA",
          "GA",
          "GA",
          "GA",
          "ID",
          "ID",
          "ID",
          "ID",
          "ID",
          "ID",
          "ID",
          "ID",
          "ID",
          "ID",
          "ID",
          "ID",
          "ID",
          "ID",
          "IA",
          "IA",
          "IA",
          "IA",
          "IA",
          "IA",
          "IA",
          "IA",
          "IA",
          "IA",
          "IA",
          "IA",
          "IA",
          "IA",
          "KS",
          "KS",
          "KS",
          "KS",
          "KS",
          "KS",
          "KS",
          "KS",
          "KS",
          "KS",
          "KS",
          "KS",
          "KS",
          "KS",
          "KY",
          "KY",
          "KY",
          "KY",
          "KY",
          "KY",
          "KY",
          "KY",
          "KY",
          "KY",
          "KY",
          "KY",
          "KY",
          "KY",
          "FL",
          "FL",
          "FL",
          "FL",
          "FL",
          "FL",
          "FL",
          "FL",
          "FL",
          "FL",
          "FL",
          "FL",
          "FL",
          "FL",
          "MI",
          "MI",
          "MI",
          "MI",
          "MI",
          "MI",
          "MI",
          "MI",
          "MI",
          "MI",
          "MI",
          "MI",
          "MI",
          "MI",
          "MS",
          "MS",
          "MS",
          "MS",
          "MS",
          "MS",
          "MS",
          "MS",
          "MS",
          "MS",
          "MS",
          "MS",
          "MS",
          "MS",
          "MO",
          "MO",
          "MO",
          "MO",
          "MO",
          "MO",
          "MO",
          "MO",
          "MO",
          "MO",
          "MO",
          "MO",
          "MO",
          "MO",
          "NH",
          "NH",
          "NH",
          "NH",
          "NH",
          "NH",
          "NH",
          "NH",
          "NH",
          "NH",
          "NH",
          "NH",
          "NH",
          "NH",
          "NM",
          "NM",
          "NM",
          "NM",
          "NM",
          "NM",
          "NM",
          "NM",
          "NM",
          "NM",
          "NM",
          "NM",
          "NM",
          "NM",
          "NC",
          "NC",
          "NC",
          "NC",
          "NC",
          "NC",
          "NC",
          "NC",
          "NC",
          "NC",
          "NC",
          "NC",
          "NC",
          "NC",
          "ND",
          "ND",
          "ND",
          "ND",
          "ND",
          "ND",
          "ND",
          "ND",
          "ND",
          "ND",
          "ND",
          "ND",
          "ND",
          "ND",
          "IN",
          "IN",
          "IN",
          "IN",
          "IN",
          "IN",
          "IN",
          "IN",
          "IN",
          "IN",
          "IN",
          "IN",
          "IN",
          "IN",
          "OK",
          "OK",
          "OK",
          "OK",
          "OK",
          "OK",
          "OK",
          "OK",
          "OK",
          "OK",
          "OK",
          "OK",
          "OK",
          "OK",
          "OR",
          "OR",
          "OR",
          "OR",
          "OR",
          "OR",
          "OR",
          "OR",
          "OR",
          "OR",
          "OR",
          "OR",
          "OR",
          "OR",
          "VA",
          "VA",
          "VA",
          "VA",
          "VA",
          "VA",
          "VA",
          "VA",
          "VA",
          "VA",
          "VA",
          "VA",
          "VA",
          "VA",
          "NY",
          "NY",
          "NY",
          "NY",
          "NY",
          "NY",
          "NY",
          "NY",
          "NY",
          "NY",
          "NY",
          "NY",
          "NY",
          "NY",
          "FL",
          "FL",
          "FL",
          "FL",
          "FL",
          "FL",
          "FL",
          "FL",
          "FL",
          "FL",
          "FL",
          "FL",
          "FL",
          "FL",
          "CA",
          "CA",
          "CA",
          "CA",
          "CA",
          "CA",
          "CA",
          "CA",
          "CA",
          "CA",
          "CA",
          "CA",
          "CA",
          "CA",
          "TX",
          "TX",
          "TX",
          "TX",
          "TX",
          "TX",
          "TX",
          "TX",
          "TX",
          "TX",
          "TX",
          "TX",
          "TX",
          "TX",
          "UT",
          "UT",
          "UT",
          "UT",
          "UT",
          "UT",
          "UT",
          "UT",
          "UT",
          "UT",
          "UT",
          "UT",
          "UT",
          "UT",
          "VA",
          "VA",
          "VA",
          "VA",
          "VA",
          "VA",
          "VA",
          "VA",
          "VA",
          "VA",
          "VA",
          "VA",
          "VA",
          "VA",
          "WY",
          "WY",
          "WY",
          "WY",
          "WY",
          "WY",
          "WY",
          "WY",
          "WY",
          "WY",
          "WY",
          "WY",
          "WY",
          "WY",
          "TN",
          "TN",
          "TN",
          "TN",
          "TN",
          "TN",
          "TN",
          "TN",
          "TN",
          "TN",
          "TN",
          "TN",
          "TN",
          "TN",
          "NY",
          "NY",
          "NY",
          "NY",
          "NY",
          "NY",
          "NY",
          "NY",
          "NY",
          "NY",
          "NY",
          "NY",
          "NY",
          "NY",
          "VA",
          "VA",
          "VA",
          "VA",
          "VA",
          "VA",
          "VA",
          "VA",
          "VA",
          "VA",
          "VA",
          "VA",
          "VA",
          "VA",
          "NC",
          "NC",
          "NC",
          "NC",
          "NC",
          "NC",
          "NC",
          "NC",
          "NC",
          "NC",
          "NC",
          "NC",
          "NC",
          "NC",
          "VA",
          "VA",
          "VA",
          "VA",
          "VA",
          "VA",
          "VA",
          "VA",
          "VA",
          "VA",
          "VA",
          "VA",
          "VA",
          "VA",
          "MO",
          "MO",
          "MO",
          "MO",
          "MO",
          "MO",
          "MO",
          "MO",
          "MO",
          "MO",
          "MO",
          "MO",
          "MO",
          "MO",
          "MA",
          "MA",
          "MA",
          "MA",
          "MA",
          "MA",
          "MA",
          "MA",
          "MA",
          "MA",
          "MA",
          "MA",
          "MA",
          "MA",
          "CT",
          "CT",
          "CT",
          "CT",
          "CT",
          "CT",
          "CT",
          "CT",
          "CT",
          "CT",
          "CT",
          "CT",
          "CT",
          "CT",
          "WA",
          "WA",
          "WA",
          "WA",
          "WA",
          "WA",
          "WA",
          "WA",
          "WA",
          "WA",
          "WA",
          "WA",
          "WA",
          "WA",
          "MA",
          "MA",
          "MA",
          "MA",
          "MA",
          "MA",
          "MA",
          "MA",
          "MA",
          "MA",
          "MA",
          "MA",
          "MA",
          "MA",
          "MA",
          "MA",
          "MA",
          "MA",
          "MA",
          "MA",
          "MA",
          "MA",
          "MA",
          "MA",
          "MA",
          "MA",
          "MA",
          "MA",
          "CT",
          "CT",
          "CT",
          "CT",
          "CT",
          "CT",
          "CT",
          "CT",
          "CT",
          "CT",
          "CT",
          "CT",
          "CT",
          "CT",
          "NY",
          "NY",
          "NY",
          "NY",
          "NY",
          "NY",
          "NY",
          "NY",
          "NY",
          "NY",
          "NY",
          "NY",
          "NY",
          "NY"
         ],
         "name": "",
         "type": "choropleth",
         "z": [
          70848,
          70848,
          70848,
          70848,
          70848,
          70848,
          70848,
          70848,
          70848,
          70848,
          70848,
          70848,
          70848,
          70848,
          71765.91286307054,
          71765.91286307054,
          71765.91286307054,
          71765.91286307054,
          71765.91286307054,
          71765.91286307054,
          71765.91286307054,
          71765.91286307054,
          71765.91286307054,
          71765.91286307054,
          71765.91286307054,
          71765.91286307054,
          71765.91286307054,
          71765.91286307054,
          40577.30952380953,
          40577.30952380953,
          40577.30952380953,
          40577.30952380953,
          40577.30952380953,
          40577.30952380953,
          40577.30952380953,
          40577.30952380953,
          40577.30952380953,
          40577.30952380953,
          40577.30952380953,
          40577.30952380953,
          40577.30952380953,
          40577.30952380953,
          69890.67151411463,
          69890.67151411463,
          69890.67151411463,
          69890.67151411463,
          69890.67151411463,
          69890.67151411463,
          69890.67151411463,
          69890.67151411463,
          69890.67151411463,
          69890.67151411463,
          69890.67151411463,
          69890.67151411463,
          69890.67151411463,
          69890.67151411463,
          45397.47286821705,
          45397.47286821705,
          45397.47286821705,
          45397.47286821705,
          45397.47286821705,
          45397.47286821705,
          45397.47286821705,
          45397.47286821705,
          45397.47286821705,
          45397.47286821705,
          45397.47286821705,
          45397.47286821705,
          45397.47286821705,
          45397.47286821705,
          51335.326411421156,
          51335.326411421156,
          51335.326411421156,
          51335.326411421156,
          51335.326411421156,
          51335.326411421156,
          51335.326411421156,
          51335.326411421156,
          51335.326411421156,
          51335.326411421156,
          51335.326411421156,
          51335.326411421156,
          51335.326411421156,
          51335.326411421156,
          69890.67151411463,
          69890.67151411463,
          69890.67151411463,
          69890.67151411463,
          69890.67151411463,
          69890.67151411463,
          69890.67151411463,
          69890.67151411463,
          69890.67151411463,
          69890.67151411463,
          69890.67151411463,
          69890.67151411463,
          69890.67151411463,
          69890.67151411463,
          71765.91286307054,
          71765.91286307054,
          71765.91286307054,
          71765.91286307054,
          71765.91286307054,
          71765.91286307054,
          71765.91286307054,
          71765.91286307054,
          71765.91286307054,
          71765.91286307054,
          71765.91286307054,
          71765.91286307054,
          71765.91286307054,
          71765.91286307054,
          71765.91286307054,
          71765.91286307054,
          71765.91286307054,
          71765.91286307054,
          71765.91286307054,
          71765.91286307054,
          71765.91286307054,
          71765.91286307054,
          71765.91286307054,
          71765.91286307054,
          71765.91286307054,
          71765.91286307054,
          71765.91286307054,
          71765.91286307054,
          45397.47286821705,
          45397.47286821705,
          45397.47286821705,
          45397.47286821705,
          45397.47286821705,
          45397.47286821705,
          45397.47286821705,
          45397.47286821705,
          45397.47286821705,
          45397.47286821705,
          45397.47286821705,
          45397.47286821705,
          45397.47286821705,
          45397.47286821705,
          71765.91286307054,
          71765.91286307054,
          71765.91286307054,
          71765.91286307054,
          71765.91286307054,
          71765.91286307054,
          71765.91286307054,
          71765.91286307054,
          71765.91286307054,
          71765.91286307054,
          71765.91286307054,
          71765.91286307054,
          71765.91286307054,
          71765.91286307054,
          60216.36877076412,
          60216.36877076412,
          60216.36877076412,
          60216.36877076412,
          60216.36877076412,
          60216.36877076412,
          60216.36877076412,
          60216.36877076412,
          60216.36877076412,
          60216.36877076412,
          60216.36877076412,
          60216.36877076412,
          60216.36877076412,
          60216.36877076412,
          64537.54285714286,
          64537.54285714286,
          64537.54285714286,
          64537.54285714286,
          64537.54285714286,
          64537.54285714286,
          64537.54285714286,
          64537.54285714286,
          64537.54285714286,
          64537.54285714286,
          64537.54285714286,
          64537.54285714286,
          64537.54285714286,
          64537.54285714286,
          51758.76615746181,
          51758.76615746181,
          51758.76615746181,
          51758.76615746181,
          51758.76615746181,
          51758.76615746181,
          51758.76615746181,
          51758.76615746181,
          51758.76615746181,
          51758.76615746181,
          51758.76615746181,
          51758.76615746181,
          51758.76615746181,
          51758.76615746181,
          51758.76615746181,
          51758.76615746181,
          51758.76615746181,
          51758.76615746181,
          51758.76615746181,
          51758.76615746181,
          51758.76615746181,
          51758.76615746181,
          51758.76615746181,
          51758.76615746181,
          51758.76615746181,
          51758.76615746181,
          51758.76615746181,
          51758.76615746181,
          51678.65834279228,
          51678.65834279228,
          51678.65834279228,
          51678.65834279228,
          51678.65834279228,
          51678.65834279228,
          51678.65834279228,
          51678.65834279228,
          51678.65834279228,
          51678.65834279228,
          51678.65834279228,
          51678.65834279228,
          51678.65834279228,
          51678.65834279228,
          51758.76615746181,
          51758.76615746181,
          51758.76615746181,
          51758.76615746181,
          51758.76615746181,
          51758.76615746181,
          51758.76615746181,
          51758.76615746181,
          51758.76615746181,
          51758.76615746181,
          51758.76615746181,
          51758.76615746181,
          51758.76615746181,
          51758.76615746181,
          50457.210930828354,
          50457.210930828354,
          50457.210930828354,
          50457.210930828354,
          50457.210930828354,
          50457.210930828354,
          50457.210930828354,
          50457.210930828354,
          50457.210930828354,
          50457.210930828354,
          50457.210930828354,
          50457.210930828354,
          50457.210930828354,
          50457.210930828354,
          71765.91286307054,
          71765.91286307054,
          71765.91286307054,
          71765.91286307054,
          71765.91286307054,
          71765.91286307054,
          71765.91286307054,
          71765.91286307054,
          71765.91286307054,
          71765.91286307054,
          71765.91286307054,
          71765.91286307054,
          71765.91286307054,
          71765.91286307054,
          39787.09283819629,
          39787.09283819629,
          39787.09283819629,
          39787.09283819629,
          39787.09283819629,
          39787.09283819629,
          39787.09283819629,
          39787.09283819629,
          39787.09283819629,
          39787.09283819629,
          39787.09283819629,
          39787.09283819629,
          39787.09283819629,
          39787.09283819629,
          45397.47286821705,
          45397.47286821705,
          45397.47286821705,
          45397.47286821705,
          45397.47286821705,
          45397.47286821705,
          45397.47286821705,
          45397.47286821705,
          45397.47286821705,
          45397.47286821705,
          45397.47286821705,
          45397.47286821705,
          45397.47286821705,
          45397.47286821705,
          69890.67151411463,
          69890.67151411463,
          69890.67151411463,
          69890.67151411463,
          69890.67151411463,
          69890.67151411463,
          69890.67151411463,
          69890.67151411463,
          69890.67151411463,
          69890.67151411463,
          69890.67151411463,
          69890.67151411463,
          69890.67151411463,
          69890.67151411463,
          69890.67151411463,
          69890.67151411463,
          69890.67151411463,
          69890.67151411463,
          69890.67151411463,
          69890.67151411463,
          69890.67151411463,
          69890.67151411463,
          69890.67151411463,
          69890.67151411463,
          69890.67151411463,
          69890.67151411463,
          69890.67151411463,
          69890.67151411463,
          75149.6524822695,
          75149.6524822695,
          75149.6524822695,
          75149.6524822695,
          75149.6524822695,
          75149.6524822695,
          75149.6524822695,
          75149.6524822695,
          75149.6524822695,
          75149.6524822695,
          75149.6524822695,
          75149.6524822695,
          75149.6524822695,
          75149.6524822695,
          69890.67151411463,
          69890.67151411463,
          69890.67151411463,
          69890.67151411463,
          69890.67151411463,
          69890.67151411463,
          69890.67151411463,
          69890.67151411463,
          69890.67151411463,
          69890.67151411463,
          69890.67151411463,
          69890.67151411463,
          69890.67151411463,
          69890.67151411463,
          54026.318681318684,
          54026.318681318684,
          54026.318681318684,
          54026.318681318684,
          54026.318681318684,
          54026.318681318684,
          54026.318681318684,
          54026.318681318684,
          54026.318681318684,
          54026.318681318684,
          54026.318681318684,
          54026.318681318684,
          54026.318681318684,
          54026.318681318684,
          43302.33758865248,
          43302.33758865248,
          43302.33758865248,
          43302.33758865248,
          43302.33758865248,
          43302.33758865248,
          43302.33758865248,
          43302.33758865248,
          43302.33758865248,
          43302.33758865248,
          43302.33758865248,
          43302.33758865248,
          43302.33758865248,
          43302.33758865248,
          43302.33758865248,
          43302.33758865248,
          43302.33758865248,
          43302.33758865248,
          43302.33758865248,
          43302.33758865248,
          43302.33758865248,
          43302.33758865248,
          43302.33758865248,
          43302.33758865248,
          43302.33758865248,
          43302.33758865248,
          43302.33758865248,
          43302.33758865248,
          43302.33758865248,
          43302.33758865248,
          43302.33758865248,
          43302.33758865248,
          43302.33758865248,
          43302.33758865248,
          43302.33758865248,
          43302.33758865248,
          43302.33758865248,
          43302.33758865248,
          43302.33758865248,
          43302.33758865248,
          43302.33758865248,
          43302.33758865248,
          39781.8039538715,
          39781.8039538715,
          39781.8039538715,
          39781.8039538715,
          39781.8039538715,
          39781.8039538715,
          39781.8039538715,
          39781.8039538715,
          39781.8039538715,
          39781.8039538715,
          39781.8039538715,
          39781.8039538715,
          39781.8039538715,
          39781.8039538715,
          49811.30621468926,
          49811.30621468926,
          49811.30621468926,
          49811.30621468926,
          49811.30621468926,
          49811.30621468926,
          49811.30621468926,
          49811.30621468926,
          49811.30621468926,
          49811.30621468926,
          49811.30621468926,
          49811.30621468926,
          49811.30621468926,
          49811.30621468926,
          69890.67151411463,
          69890.67151411463,
          69890.67151411463,
          69890.67151411463,
          69890.67151411463,
          69890.67151411463,
          69890.67151411463,
          69890.67151411463,
          69890.67151411463,
          69890.67151411463,
          69890.67151411463,
          69890.67151411463,
          69890.67151411463,
          69890.67151411463,
          51758.76615746181,
          51758.76615746181,
          51758.76615746181,
          51758.76615746181,
          51758.76615746181,
          51758.76615746181,
          51758.76615746181,
          51758.76615746181,
          51758.76615746181,
          51758.76615746181,
          51758.76615746181,
          51758.76615746181,
          51758.76615746181,
          51758.76615746181,
          70848,
          70848,
          70848,
          70848,
          70848,
          70848,
          70848,
          70848,
          70848,
          70848,
          70848,
          70848,
          70848,
          70848,
          70848,
          70848,
          70848,
          70848,
          70848,
          70848,
          70848,
          70848,
          70848,
          70848,
          70848,
          70848,
          70848,
          70848,
          39781.8039538715,
          39781.8039538715,
          39781.8039538715,
          39781.8039538715,
          39781.8039538715,
          39781.8039538715,
          39781.8039538715,
          39781.8039538715,
          39781.8039538715,
          39781.8039538715,
          39781.8039538715,
          39781.8039538715,
          39781.8039538715,
          39781.8039538715,
          59315.28222996516,
          59315.28222996516,
          59315.28222996516,
          59315.28222996516,
          59315.28222996516,
          59315.28222996516,
          59315.28222996516,
          59315.28222996516,
          59315.28222996516,
          59315.28222996516,
          59315.28222996516,
          59315.28222996516,
          59315.28222996516,
          59315.28222996516,
          69890.67151411463,
          69890.67151411463,
          69890.67151411463,
          69890.67151411463,
          69890.67151411463,
          69890.67151411463,
          69890.67151411463,
          69890.67151411463,
          69890.67151411463,
          69890.67151411463,
          69890.67151411463,
          69890.67151411463,
          69890.67151411463,
          69890.67151411463,
          71765.91286307054,
          71765.91286307054,
          71765.91286307054,
          71765.91286307054,
          71765.91286307054,
          71765.91286307054,
          71765.91286307054,
          71765.91286307054,
          71765.91286307054,
          71765.91286307054,
          71765.91286307054,
          71765.91286307054,
          71765.91286307054,
          71765.91286307054,
          51758.76615746181,
          51758.76615746181,
          51758.76615746181,
          51758.76615746181,
          51758.76615746181,
          51758.76615746181,
          51758.76615746181,
          51758.76615746181,
          51758.76615746181,
          51758.76615746181,
          51758.76615746181,
          51758.76615746181,
          51758.76615746181,
          51758.76615746181,
          70848,
          70848,
          70848,
          70848,
          70848,
          70848,
          70848,
          70848,
          70848,
          70848,
          70848,
          70848,
          70848,
          70848,
          78126.4967462039,
          78126.4967462039,
          78126.4967462039,
          78126.4967462039,
          78126.4967462039,
          78126.4967462039,
          78126.4967462039,
          78126.4967462039,
          78126.4967462039,
          78126.4967462039,
          78126.4967462039,
          78126.4967462039,
          78126.4967462039,
          78126.4967462039,
          50457.210930828354,
          50457.210930828354,
          50457.210930828354,
          50457.210930828354,
          50457.210930828354,
          50457.210930828354,
          50457.210930828354,
          50457.210930828354,
          50457.210930828354,
          50457.210930828354,
          50457.210930828354,
          50457.210930828354,
          50457.210930828354,
          50457.210930828354,
          51758.76615746181,
          51758.76615746181,
          51758.76615746181,
          51758.76615746181,
          51758.76615746181,
          51758.76615746181,
          51758.76615746181,
          51758.76615746181,
          51758.76615746181,
          51758.76615746181,
          51758.76615746181,
          51758.76615746181,
          51758.76615746181,
          51758.76615746181,
          51758.76615746181,
          51758.76615746181,
          51758.76615746181,
          51758.76615746181,
          51758.76615746181,
          51758.76615746181,
          51758.76615746181,
          51758.76615746181,
          51758.76615746181,
          51758.76615746181,
          51758.76615746181,
          51758.76615746181,
          51758.76615746181,
          51758.76615746181,
          62097.35211267605,
          62097.35211267605,
          62097.35211267605,
          62097.35211267605,
          62097.35211267605,
          62097.35211267605,
          62097.35211267605,
          62097.35211267605,
          62097.35211267605,
          62097.35211267605,
          62097.35211267605,
          62097.35211267605,
          62097.35211267605,
          62097.35211267605,
          51678.65834279228,
          51678.65834279228,
          51678.65834279228,
          51678.65834279228,
          51678.65834279228,
          51678.65834279228,
          51678.65834279228,
          51678.65834279228,
          51678.65834279228,
          51678.65834279228,
          51678.65834279228,
          51678.65834279228,
          51678.65834279228,
          51678.65834279228,
          50411.40077821012,
          50411.40077821012,
          50411.40077821012,
          50411.40077821012,
          50411.40077821012,
          50411.40077821012,
          50411.40077821012,
          50411.40077821012,
          50411.40077821012,
          50411.40077821012,
          50411.40077821012,
          50411.40077821012,
          50411.40077821012,
          50411.40077821012,
          71765.91286307054,
          71765.91286307054,
          71765.91286307054,
          71765.91286307054,
          71765.91286307054,
          71765.91286307054,
          71765.91286307054,
          71765.91286307054,
          71765.91286307054,
          71765.91286307054,
          71765.91286307054,
          71765.91286307054,
          71765.91286307054,
          71765.91286307054,
          44685.505847953216,
          44685.505847953216,
          44685.505847953216,
          44685.505847953216,
          44685.505847953216,
          44685.505847953216,
          44685.505847953216,
          44685.505847953216,
          44685.505847953216,
          44685.505847953216,
          44685.505847953216,
          44685.505847953216,
          44685.505847953216,
          44685.505847953216,
          46284.77777777778,
          46284.77777777778,
          46284.77777777778,
          46284.77777777778,
          46284.77777777778,
          46284.77777777778,
          46284.77777777778,
          46284.77777777778,
          46284.77777777778,
          46284.77777777778,
          46284.77777777778,
          46284.77777777778,
          46284.77777777778,
          46284.77777777778,
          69890.67151411463,
          69890.67151411463,
          69890.67151411463,
          69890.67151411463,
          69890.67151411463,
          69890.67151411463,
          69890.67151411463,
          69890.67151411463,
          69890.67151411463,
          69890.67151411463,
          69890.67151411463,
          69890.67151411463,
          69890.67151411463,
          69890.67151411463,
          43302.33758865248,
          43302.33758865248,
          43302.33758865248,
          43302.33758865248,
          43302.33758865248,
          43302.33758865248,
          43302.33758865248,
          43302.33758865248,
          43302.33758865248,
          43302.33758865248,
          43302.33758865248,
          43302.33758865248,
          43302.33758865248,
          43302.33758865248,
          71765.91286307054,
          71765.91286307054,
          71765.91286307054,
          71765.91286307054,
          71765.91286307054,
          71765.91286307054,
          71765.91286307054,
          71765.91286307054,
          71765.91286307054,
          71765.91286307054,
          71765.91286307054,
          71765.91286307054,
          71765.91286307054,
          71765.91286307054,
          54052.70614359734,
          54052.70614359734,
          54052.70614359734,
          54052.70614359734,
          54052.70614359734,
          54052.70614359734,
          54052.70614359734,
          54052.70614359734,
          54052.70614359734,
          54052.70614359734,
          54052.70614359734,
          54052.70614359734,
          54052.70614359734,
          54052.70614359734,
          50457.210930828354,
          50457.210930828354,
          50457.210930828354,
          50457.210930828354,
          50457.210930828354,
          50457.210930828354,
          50457.210930828354,
          50457.210930828354,
          50457.210930828354,
          50457.210930828354,
          50457.210930828354,
          50457.210930828354,
          50457.210930828354,
          50457.210930828354,
          62097.35211267605,
          62097.35211267605,
          62097.35211267605,
          62097.35211267605,
          62097.35211267605,
          62097.35211267605,
          62097.35211267605,
          62097.35211267605,
          62097.35211267605,
          62097.35211267605,
          62097.35211267605,
          62097.35211267605,
          62097.35211267605,
          62097.35211267605,
          50457.210930828354,
          50457.210930828354,
          50457.210930828354,
          50457.210930828354,
          50457.210930828354,
          50457.210930828354,
          50457.210930828354,
          50457.210930828354,
          50457.210930828354,
          50457.210930828354,
          50457.210930828354,
          50457.210930828354,
          50457.210930828354,
          50457.210930828354,
          62097.35211267605,
          62097.35211267605,
          62097.35211267605,
          62097.35211267605,
          62097.35211267605,
          62097.35211267605,
          62097.35211267605,
          62097.35211267605,
          62097.35211267605,
          62097.35211267605,
          62097.35211267605,
          62097.35211267605,
          62097.35211267605,
          62097.35211267605,
          62097.35211267605,
          62097.35211267605,
          62097.35211267605,
          62097.35211267605,
          62097.35211267605,
          62097.35211267605,
          62097.35211267605,
          62097.35211267605,
          62097.35211267605,
          62097.35211267605,
          62097.35211267605,
          62097.35211267605,
          62097.35211267605,
          62097.35211267605,
          80584.4063670412,
          80584.4063670412,
          80584.4063670412,
          80584.4063670412,
          80584.4063670412,
          80584.4063670412,
          80584.4063670412,
          80584.4063670412,
          80584.4063670412,
          80584.4063670412,
          80584.4063670412,
          80584.4063670412,
          80584.4063670412,
          80584.4063670412,
          47713.01078582434,
          47713.01078582434,
          47713.01078582434,
          47713.01078582434,
          47713.01078582434,
          47713.01078582434,
          47713.01078582434,
          47713.01078582434,
          47713.01078582434,
          47713.01078582434,
          47713.01078582434,
          47713.01078582434,
          47713.01078582434,
          47713.01078582434,
          48088.06647398844,
          48088.06647398844,
          48088.06647398844,
          48088.06647398844,
          48088.06647398844,
          48088.06647398844,
          48088.06647398844,
          48088.06647398844,
          48088.06647398844,
          48088.06647398844,
          48088.06647398844,
          48088.06647398844,
          48088.06647398844,
          48088.06647398844,
          69890.67151411463,
          69890.67151411463,
          69890.67151411463,
          69890.67151411463,
          69890.67151411463,
          69890.67151411463,
          69890.67151411463,
          69890.67151411463,
          69890.67151411463,
          69890.67151411463,
          69890.67151411463,
          69890.67151411463,
          69890.67151411463,
          69890.67151411463,
          51335.326411421156,
          51335.326411421156,
          51335.326411421156,
          51335.326411421156,
          51335.326411421156,
          51335.326411421156,
          51335.326411421156,
          51335.326411421156,
          51335.326411421156,
          51335.326411421156,
          51335.326411421156,
          51335.326411421156,
          51335.326411421156,
          51335.326411421156,
          80584.4063670412,
          80584.4063670412,
          80584.4063670412,
          80584.4063670412,
          80584.4063670412,
          80584.4063670412,
          80584.4063670412,
          80584.4063670412,
          80584.4063670412,
          80584.4063670412,
          80584.4063670412,
          80584.4063670412,
          80584.4063670412,
          80584.4063670412,
          62097.35211267605,
          62097.35211267605,
          62097.35211267605,
          62097.35211267605,
          62097.35211267605,
          62097.35211267605,
          62097.35211267605,
          62097.35211267605,
          62097.35211267605,
          62097.35211267605,
          62097.35211267605,
          62097.35211267605,
          62097.35211267605,
          62097.35211267605,
          62097.35211267605,
          62097.35211267605,
          62097.35211267605,
          62097.35211267605,
          62097.35211267605,
          62097.35211267605,
          62097.35211267605,
          62097.35211267605,
          62097.35211267605,
          62097.35211267605,
          62097.35211267605,
          62097.35211267605,
          62097.35211267605,
          62097.35211267605,
          51335.326411421156,
          51335.326411421156,
          51335.326411421156,
          51335.326411421156,
          51335.326411421156,
          51335.326411421156,
          51335.326411421156,
          51335.326411421156,
          51335.326411421156,
          51335.326411421156,
          51335.326411421156,
          51335.326411421156,
          51335.326411421156,
          51335.326411421156,
          62097.35211267605,
          62097.35211267605,
          62097.35211267605,
          62097.35211267605,
          62097.35211267605,
          62097.35211267605,
          62097.35211267605,
          62097.35211267605,
          62097.35211267605,
          62097.35211267605,
          62097.35211267605,
          62097.35211267605,
          62097.35211267605,
          62097.35211267605,
          69890.67151411463,
          69890.67151411463,
          69890.67151411463,
          69890.67151411463,
          69890.67151411463,
          69890.67151411463,
          69890.67151411463,
          69890.67151411463,
          69890.67151411463,
          69890.67151411463,
          69890.67151411463,
          69890.67151411463,
          69890.67151411463,
          69890.67151411463,
          69890.67151411463,
          69890.67151411463,
          69890.67151411463,
          69890.67151411463,
          69890.67151411463,
          69890.67151411463,
          69890.67151411463,
          69890.67151411463,
          69890.67151411463,
          69890.67151411463,
          69890.67151411463,
          69890.67151411463,
          69890.67151411463,
          69890.67151411463,
          51758.76615746181,
          51758.76615746181,
          51758.76615746181,
          51758.76615746181,
          51758.76615746181,
          51758.76615746181,
          51758.76615746181,
          51758.76615746181,
          51758.76615746181,
          51758.76615746181,
          51758.76615746181,
          51758.76615746181,
          51758.76615746181,
          51758.76615746181,
          69890.67151411463,
          69890.67151411463,
          69890.67151411463,
          69890.67151411463,
          69890.67151411463,
          69890.67151411463,
          69890.67151411463,
          69890.67151411463,
          69890.67151411463,
          69890.67151411463,
          69890.67151411463,
          69890.67151411463,
          69890.67151411463,
          69890.67151411463,
          51335.326411421156,
          51335.326411421156,
          51335.326411421156,
          51335.326411421156,
          51335.326411421156,
          51335.326411421156,
          51335.326411421156,
          51335.326411421156,
          51335.326411421156,
          51335.326411421156,
          51335.326411421156,
          51335.326411421156,
          51335.326411421156,
          51335.326411421156,
          51335.326411421156,
          51335.326411421156,
          51335.326411421156,
          51335.326411421156,
          51335.326411421156,
          51335.326411421156,
          51335.326411421156,
          51335.326411421156,
          51335.326411421156,
          51335.326411421156,
          51335.326411421156,
          51335.326411421156,
          51335.326411421156,
          51335.326411421156,
          75149.6524822695,
          75149.6524822695,
          75149.6524822695,
          75149.6524822695,
          75149.6524822695,
          75149.6524822695,
          75149.6524822695,
          75149.6524822695,
          75149.6524822695,
          75149.6524822695,
          75149.6524822695,
          75149.6524822695,
          75149.6524822695,
          75149.6524822695,
          71765.91286307054,
          71765.91286307054,
          71765.91286307054,
          71765.91286307054,
          71765.91286307054,
          71765.91286307054,
          71765.91286307054,
          71765.91286307054,
          71765.91286307054,
          71765.91286307054,
          71765.91286307054,
          71765.91286307054,
          71765.91286307054,
          71765.91286307054,
          40577.30952380953,
          40577.30952380953,
          40577.30952380953,
          40577.30952380953,
          40577.30952380953,
          40577.30952380953,
          40577.30952380953,
          40577.30952380953,
          40577.30952380953,
          40577.30952380953,
          40577.30952380953,
          40577.30952380953,
          40577.30952380953,
          40577.30952380953,
          52099.594405594406,
          52099.594405594406,
          52099.594405594406,
          52099.594405594406,
          52099.594405594406,
          52099.594405594406,
          52099.594405594406,
          52099.594405594406,
          52099.594405594406,
          52099.594405594406,
          52099.594405594406,
          52099.594405594406,
          52099.594405594406,
          52099.594405594406,
          62097.35211267605,
          62097.35211267605,
          62097.35211267605,
          62097.35211267605,
          62097.35211267605,
          62097.35211267605,
          62097.35211267605,
          62097.35211267605,
          62097.35211267605,
          62097.35211267605,
          62097.35211267605,
          62097.35211267605,
          62097.35211267605,
          62097.35211267605,
          62097.35211267605,
          62097.35211267605,
          62097.35211267605,
          62097.35211267605,
          62097.35211267605,
          62097.35211267605,
          62097.35211267605,
          62097.35211267605,
          62097.35211267605,
          62097.35211267605,
          62097.35211267605,
          62097.35211267605,
          62097.35211267605,
          62097.35211267605,
          62097.35211267605,
          62097.35211267605,
          62097.35211267605,
          62097.35211267605,
          62097.35211267605,
          62097.35211267605,
          62097.35211267605,
          62097.35211267605,
          62097.35211267605,
          62097.35211267605,
          62097.35211267605,
          62097.35211267605,
          62097.35211267605,
          62097.35211267605,
          62097.35211267605,
          62097.35211267605,
          62097.35211267605,
          62097.35211267605,
          62097.35211267605,
          62097.35211267605,
          62097.35211267605,
          62097.35211267605,
          62097.35211267605,
          62097.35211267605,
          62097.35211267605,
          62097.35211267605,
          62097.35211267605,
          62097.35211267605,
          62097.35211267605,
          62097.35211267605,
          62097.35211267605,
          62097.35211267605,
          62097.35211267605,
          62097.35211267605,
          62097.35211267605,
          62097.35211267605,
          62097.35211267605,
          62097.35211267605,
          62097.35211267605,
          62097.35211267605,
          62097.35211267605,
          62097.35211267605,
          62097.35211267605,
          62097.35211267605,
          62097.35211267605,
          62097.35211267605,
          62097.35211267605,
          62097.35211267605,
          62097.35211267605,
          62097.35211267605,
          62097.35211267605,
          62097.35211267605,
          62097.35211267605,
          62097.35211267605,
          62097.35211267605,
          62097.35211267605,
          62097.35211267605,
          62097.35211267605,
          62097.35211267605,
          62097.35211267605,
          62097.35211267605,
          62097.35211267605,
          62097.35211267605,
          62097.35211267605,
          62097.35211267605,
          62097.35211267605,
          62097.35211267605,
          62097.35211267605,
          62097.35211267605,
          62097.35211267605,
          62097.35211267605,
          62097.35211267605,
          62097.35211267605,
          62097.35211267605,
          62097.35211267605,
          62097.35211267605,
          62097.35211267605,
          62097.35211267605,
          62097.35211267605,
          62097.35211267605,
          62097.35211267605,
          62097.35211267605,
          62097.35211267605,
          62097.35211267605,
          54052.70614359734,
          54052.70614359734,
          54052.70614359734,
          54052.70614359734,
          54052.70614359734,
          54052.70614359734,
          54052.70614359734,
          54052.70614359734,
          54052.70614359734,
          54052.70614359734,
          54052.70614359734,
          54052.70614359734,
          54052.70614359734,
          54052.70614359734,
          75149.6524822695,
          75149.6524822695,
          75149.6524822695,
          75149.6524822695,
          75149.6524822695,
          75149.6524822695,
          75149.6524822695,
          75149.6524822695,
          75149.6524822695,
          75149.6524822695,
          75149.6524822695,
          75149.6524822695,
          75149.6524822695,
          75149.6524822695,
          61792.40789473684,
          61792.40789473684,
          61792.40789473684,
          61792.40789473684,
          61792.40789473684,
          61792.40789473684,
          61792.40789473684,
          61792.40789473684,
          61792.40789473684,
          61792.40789473684,
          61792.40789473684,
          61792.40789473684,
          61792.40789473684,
          61792.40789473684,
          49811.30621468926,
          49811.30621468926,
          49811.30621468926,
          49811.30621468926,
          49811.30621468926,
          49811.30621468926,
          49811.30621468926,
          49811.30621468926,
          49811.30621468926,
          49811.30621468926,
          49811.30621468926,
          49811.30621468926,
          49811.30621468926,
          49811.30621468926,
          39781.8039538715,
          39781.8039538715,
          39781.8039538715,
          39781.8039538715,
          39781.8039538715,
          39781.8039538715,
          39781.8039538715,
          39781.8039538715,
          39781.8039538715,
          39781.8039538715,
          39781.8039538715,
          39781.8039538715,
          39781.8039538715,
          39781.8039538715,
          42484.78971962617,
          42484.78971962617,
          42484.78971962617,
          42484.78971962617,
          42484.78971962617,
          42484.78971962617,
          42484.78971962617,
          42484.78971962617,
          42484.78971962617,
          42484.78971962617,
          42484.78971962617,
          42484.78971962617,
          42484.78971962617,
          42484.78971962617,
          48116.04860392968,
          48116.04860392968,
          48116.04860392968,
          48116.04860392968,
          48116.04860392968,
          48116.04860392968,
          48116.04860392968,
          48116.04860392968,
          48116.04860392968,
          48116.04860392968,
          48116.04860392968,
          48116.04860392968,
          48116.04860392968,
          48116.04860392968,
          44838.94357366771,
          44838.94357366771,
          44838.94357366771,
          44838.94357366771,
          44838.94357366771,
          44838.94357366771,
          44838.94357366771,
          44838.94357366771,
          44838.94357366771,
          44838.94357366771,
          44838.94357366771,
          44838.94357366771,
          44838.94357366771,
          44838.94357366771,
          45683.30815109344,
          45683.30815109344,
          45683.30815109344,
          45683.30815109344,
          45683.30815109344,
          45683.30815109344,
          45683.30815109344,
          45683.30815109344,
          45683.30815109344,
          45683.30815109344,
          45683.30815109344,
          45683.30815109344,
          45683.30815109344,
          45683.30815109344,
          49811.30621468926,
          49811.30621468926,
          49811.30621468926,
          49811.30621468926,
          49811.30621468926,
          49811.30621468926,
          49811.30621468926,
          49811.30621468926,
          49811.30621468926,
          49811.30621468926,
          49811.30621468926,
          49811.30621468926,
          49811.30621468926,
          49811.30621468926,
          44685.505847953216,
          44685.505847953216,
          44685.505847953216,
          44685.505847953216,
          44685.505847953216,
          44685.505847953216,
          44685.505847953216,
          44685.505847953216,
          44685.505847953216,
          44685.505847953216,
          44685.505847953216,
          44685.505847953216,
          44685.505847953216,
          44685.505847953216,
          35002.09912536443,
          35002.09912536443,
          35002.09912536443,
          35002.09912536443,
          35002.09912536443,
          35002.09912536443,
          35002.09912536443,
          35002.09912536443,
          35002.09912536443,
          35002.09912536443,
          35002.09912536443,
          35002.09912536443,
          35002.09912536443,
          35002.09912536443,
          41747.616016427106,
          41747.616016427106,
          41747.616016427106,
          41747.616016427106,
          41747.616016427106,
          41747.616016427106,
          41747.616016427106,
          41747.616016427106,
          41747.616016427106,
          41747.616016427106,
          41747.616016427106,
          41747.616016427106,
          41747.616016427106,
          41747.616016427106,
          54026.318681318684,
          54026.318681318684,
          54026.318681318684,
          54026.318681318684,
          54026.318681318684,
          54026.318681318684,
          54026.318681318684,
          54026.318681318684,
          54026.318681318684,
          54026.318681318684,
          54026.318681318684,
          54026.318681318684,
          54026.318681318684,
          54026.318681318684,
          40952.90536277602,
          40952.90536277602,
          40952.90536277602,
          40952.90536277602,
          40952.90536277602,
          40952.90536277602,
          40952.90536277602,
          40952.90536277602,
          40952.90536277602,
          40952.90536277602,
          40952.90536277602,
          40952.90536277602,
          40952.90536277602,
          40952.90536277602,
          43302.33758865248,
          43302.33758865248,
          43302.33758865248,
          43302.33758865248,
          43302.33758865248,
          43302.33758865248,
          43302.33758865248,
          43302.33758865248,
          43302.33758865248,
          43302.33758865248,
          43302.33758865248,
          43302.33758865248,
          43302.33758865248,
          43302.33758865248,
          52141.705882352944,
          52141.705882352944,
          52141.705882352944,
          52141.705882352944,
          52141.705882352944,
          52141.705882352944,
          52141.705882352944,
          52141.705882352944,
          52141.705882352944,
          52141.705882352944,
          52141.705882352944,
          52141.705882352944,
          52141.705882352944,
          52141.705882352944,
          47713.01078582434,
          47713.01078582434,
          47713.01078582434,
          47713.01078582434,
          47713.01078582434,
          47713.01078582434,
          47713.01078582434,
          47713.01078582434,
          47713.01078582434,
          47713.01078582434,
          47713.01078582434,
          47713.01078582434,
          47713.01078582434,
          47713.01078582434,
          40447.29300291545,
          40447.29300291545,
          40447.29300291545,
          40447.29300291545,
          40447.29300291545,
          40447.29300291545,
          40447.29300291545,
          40447.29300291545,
          40447.29300291545,
          40447.29300291545,
          40447.29300291545,
          40447.29300291545,
          40447.29300291545,
          40447.29300291545,
          48088.06647398844,
          48088.06647398844,
          48088.06647398844,
          48088.06647398844,
          48088.06647398844,
          48088.06647398844,
          48088.06647398844,
          48088.06647398844,
          48088.06647398844,
          48088.06647398844,
          48088.06647398844,
          48088.06647398844,
          48088.06647398844,
          48088.06647398844,
          61867.67934782609,
          61867.67934782609,
          61867.67934782609,
          61867.67934782609,
          61867.67934782609,
          61867.67934782609,
          61867.67934782609,
          61867.67934782609,
          61867.67934782609,
          61867.67934782609,
          61867.67934782609,
          61867.67934782609,
          61867.67934782609,
          61867.67934782609,
          69890.67151411463,
          69890.67151411463,
          69890.67151411463,
          69890.67151411463,
          69890.67151411463,
          69890.67151411463,
          69890.67151411463,
          69890.67151411463,
          69890.67151411463,
          69890.67151411463,
          69890.67151411463,
          69890.67151411463,
          69890.67151411463,
          69890.67151411463,
          49811.30621468926,
          49811.30621468926,
          49811.30621468926,
          49811.30621468926,
          49811.30621468926,
          49811.30621468926,
          49811.30621468926,
          49811.30621468926,
          49811.30621468926,
          49811.30621468926,
          49811.30621468926,
          49811.30621468926,
          49811.30621468926,
          49811.30621468926,
          62097.35211267605,
          62097.35211267605,
          62097.35211267605,
          62097.35211267605,
          62097.35211267605,
          62097.35211267605,
          62097.35211267605,
          62097.35211267605,
          62097.35211267605,
          62097.35211267605,
          62097.35211267605,
          62097.35211267605,
          62097.35211267605,
          62097.35211267605,
          51335.326411421156,
          51335.326411421156,
          51335.326411421156,
          51335.326411421156,
          51335.326411421156,
          51335.326411421156,
          51335.326411421156,
          51335.326411421156,
          51335.326411421156,
          51335.326411421156,
          51335.326411421156,
          51335.326411421156,
          51335.326411421156,
          51335.326411421156,
          60216.36877076412,
          60216.36877076412,
          60216.36877076412,
          60216.36877076412,
          60216.36877076412,
          60216.36877076412,
          60216.36877076412,
          60216.36877076412,
          60216.36877076412,
          60216.36877076412,
          60216.36877076412,
          60216.36877076412,
          60216.36877076412,
          60216.36877076412,
          61867.67934782609,
          61867.67934782609,
          61867.67934782609,
          61867.67934782609,
          61867.67934782609,
          61867.67934782609,
          61867.67934782609,
          61867.67934782609,
          61867.67934782609,
          61867.67934782609,
          61867.67934782609,
          61867.67934782609,
          61867.67934782609,
          61867.67934782609,
          60874.993464052284,
          60874.993464052284,
          60874.993464052284,
          60874.993464052284,
          60874.993464052284,
          60874.993464052284,
          60874.993464052284,
          60874.993464052284,
          60874.993464052284,
          60874.993464052284,
          60874.993464052284,
          60874.993464052284,
          60874.993464052284,
          60874.993464052284,
          42249.77488151659,
          42249.77488151659,
          42249.77488151659,
          42249.77488151659,
          42249.77488151659,
          42249.77488151659,
          42249.77488151659,
          42249.77488151659,
          42249.77488151659,
          42249.77488151659,
          42249.77488151659,
          42249.77488151659,
          42249.77488151659,
          42249.77488151659,
          69890.67151411463,
          69890.67151411463,
          69890.67151411463,
          69890.67151411463,
          69890.67151411463,
          69890.67151411463,
          69890.67151411463,
          69890.67151411463,
          69890.67151411463,
          69890.67151411463,
          69890.67151411463,
          69890.67151411463,
          69890.67151411463,
          69890.67151411463,
          61867.67934782609,
          61867.67934782609,
          61867.67934782609,
          61867.67934782609,
          61867.67934782609,
          61867.67934782609,
          61867.67934782609,
          61867.67934782609,
          61867.67934782609,
          61867.67934782609,
          61867.67934782609,
          61867.67934782609,
          61867.67934782609,
          61867.67934782609,
          43302.33758865248,
          43302.33758865248,
          43302.33758865248,
          43302.33758865248,
          43302.33758865248,
          43302.33758865248,
          43302.33758865248,
          43302.33758865248,
          43302.33758865248,
          43302.33758865248,
          43302.33758865248,
          43302.33758865248,
          43302.33758865248,
          43302.33758865248,
          61867.67934782609,
          61867.67934782609,
          61867.67934782609,
          61867.67934782609,
          61867.67934782609,
          61867.67934782609,
          61867.67934782609,
          61867.67934782609,
          61867.67934782609,
          61867.67934782609,
          61867.67934782609,
          61867.67934782609,
          61867.67934782609,
          61867.67934782609,
          41747.616016427106,
          41747.616016427106,
          41747.616016427106,
          41747.616016427106,
          41747.616016427106,
          41747.616016427106,
          41747.616016427106,
          41747.616016427106,
          41747.616016427106,
          41747.616016427106,
          41747.616016427106,
          41747.616016427106,
          41747.616016427106,
          41747.616016427106,
          71765.91286307054,
          71765.91286307054,
          71765.91286307054,
          71765.91286307054,
          71765.91286307054,
          71765.91286307054,
          71765.91286307054,
          71765.91286307054,
          71765.91286307054,
          71765.91286307054,
          71765.91286307054,
          71765.91286307054,
          71765.91286307054,
          71765.91286307054,
          75149.6524822695,
          75149.6524822695,
          75149.6524822695,
          75149.6524822695,
          75149.6524822695,
          75149.6524822695,
          75149.6524822695,
          75149.6524822695,
          75149.6524822695,
          75149.6524822695,
          75149.6524822695,
          75149.6524822695,
          75149.6524822695,
          75149.6524822695,
          59315.28222996516,
          59315.28222996516,
          59315.28222996516,
          59315.28222996516,
          59315.28222996516,
          59315.28222996516,
          59315.28222996516,
          59315.28222996516,
          59315.28222996516,
          59315.28222996516,
          59315.28222996516,
          59315.28222996516,
          59315.28222996516,
          59315.28222996516,
          71765.91286307054,
          71765.91286307054,
          71765.91286307054,
          71765.91286307054,
          71765.91286307054,
          71765.91286307054,
          71765.91286307054,
          71765.91286307054,
          71765.91286307054,
          71765.91286307054,
          71765.91286307054,
          71765.91286307054,
          71765.91286307054,
          71765.91286307054,
          71765.91286307054,
          71765.91286307054,
          71765.91286307054,
          71765.91286307054,
          71765.91286307054,
          71765.91286307054,
          71765.91286307054,
          71765.91286307054,
          71765.91286307054,
          71765.91286307054,
          71765.91286307054,
          71765.91286307054,
          71765.91286307054,
          71765.91286307054,
          75149.6524822695,
          75149.6524822695,
          75149.6524822695,
          75149.6524822695,
          75149.6524822695,
          75149.6524822695,
          75149.6524822695,
          75149.6524822695,
          75149.6524822695,
          75149.6524822695,
          75149.6524822695,
          75149.6524822695,
          75149.6524822695,
          75149.6524822695,
          69890.67151411463,
          69890.67151411463,
          69890.67151411463,
          69890.67151411463,
          69890.67151411463,
          69890.67151411463,
          69890.67151411463,
          69890.67151411463,
          69890.67151411463,
          69890.67151411463,
          69890.67151411463,
          69890.67151411463,
          69890.67151411463,
          69890.67151411463
         ]
        }
       ],
       "layout": {
        "coloraxis": {
         "colorbar": {
          "title": {
           "text": "avg_inc"
          }
         },
         "colorscale": [
          [
           0,
           "#440154"
          ],
          [
           0.1111111111111111,
           "#482878"
          ],
          [
           0.2222222222222222,
           "#3e4989"
          ],
          [
           0.3333333333333333,
           "#31688e"
          ],
          [
           0.4444444444444444,
           "#26828e"
          ],
          [
           0.5555555555555556,
           "#1f9e89"
          ],
          [
           0.6666666666666666,
           "#35b779"
          ],
          [
           0.7777777777777778,
           "#6ece58"
          ],
          [
           0.8888888888888888,
           "#b5de2b"
          ],
          [
           1,
           "#fde725"
          ]
         ]
        },
        "geo": {
         "center": {},
         "domain": {
          "x": [
           0,
           1
          ],
          "y": [
           0,
           1
          ]
         },
         "scope": "usa"
        },
        "legend": {
         "tracegroupgap": 0
        },
        "margin": {
         "t": 60
        },
        "template": {
         "data": {
          "bar": [
           {
            "error_x": {
             "color": "#2a3f5f"
            },
            "error_y": {
             "color": "#2a3f5f"
            },
            "marker": {
             "line": {
              "color": "#E5ECF6",
              "width": 0.5
             },
             "pattern": {
              "fillmode": "overlay",
              "size": 10,
              "solidity": 0.2
             }
            },
            "type": "bar"
           }
          ],
          "barpolar": [
           {
            "marker": {
             "line": {
              "color": "#E5ECF6",
              "width": 0.5
             },
             "pattern": {
              "fillmode": "overlay",
              "size": 10,
              "solidity": 0.2
             }
            },
            "type": "barpolar"
           }
          ],
          "carpet": [
           {
            "aaxis": {
             "endlinecolor": "#2a3f5f",
             "gridcolor": "white",
             "linecolor": "white",
             "minorgridcolor": "white",
             "startlinecolor": "#2a3f5f"
            },
            "baxis": {
             "endlinecolor": "#2a3f5f",
             "gridcolor": "white",
             "linecolor": "white",
             "minorgridcolor": "white",
             "startlinecolor": "#2a3f5f"
            },
            "type": "carpet"
           }
          ],
          "choropleth": [
           {
            "colorbar": {
             "outlinewidth": 0,
             "ticks": ""
            },
            "type": "choropleth"
           }
          ],
          "contour": [
           {
            "colorbar": {
             "outlinewidth": 0,
             "ticks": ""
            },
            "colorscale": [
             [
              0,
              "#0d0887"
             ],
             [
              0.1111111111111111,
              "#46039f"
             ],
             [
              0.2222222222222222,
              "#7201a8"
             ],
             [
              0.3333333333333333,
              "#9c179e"
             ],
             [
              0.4444444444444444,
              "#bd3786"
             ],
             [
              0.5555555555555556,
              "#d8576b"
             ],
             [
              0.6666666666666666,
              "#ed7953"
             ],
             [
              0.7777777777777778,
              "#fb9f3a"
             ],
             [
              0.8888888888888888,
              "#fdca26"
             ],
             [
              1,
              "#f0f921"
             ]
            ],
            "type": "contour"
           }
          ],
          "contourcarpet": [
           {
            "colorbar": {
             "outlinewidth": 0,
             "ticks": ""
            },
            "type": "contourcarpet"
           }
          ],
          "heatmap": [
           {
            "colorbar": {
             "outlinewidth": 0,
             "ticks": ""
            },
            "colorscale": [
             [
              0,
              "#0d0887"
             ],
             [
              0.1111111111111111,
              "#46039f"
             ],
             [
              0.2222222222222222,
              "#7201a8"
             ],
             [
              0.3333333333333333,
              "#9c179e"
             ],
             [
              0.4444444444444444,
              "#bd3786"
             ],
             [
              0.5555555555555556,
              "#d8576b"
             ],
             [
              0.6666666666666666,
              "#ed7953"
             ],
             [
              0.7777777777777778,
              "#fb9f3a"
             ],
             [
              0.8888888888888888,
              "#fdca26"
             ],
             [
              1,
              "#f0f921"
             ]
            ],
            "type": "heatmap"
           }
          ],
          "heatmapgl": [
           {
            "colorbar": {
             "outlinewidth": 0,
             "ticks": ""
            },
            "colorscale": [
             [
              0,
              "#0d0887"
             ],
             [
              0.1111111111111111,
              "#46039f"
             ],
             [
              0.2222222222222222,
              "#7201a8"
             ],
             [
              0.3333333333333333,
              "#9c179e"
             ],
             [
              0.4444444444444444,
              "#bd3786"
             ],
             [
              0.5555555555555556,
              "#d8576b"
             ],
             [
              0.6666666666666666,
              "#ed7953"
             ],
             [
              0.7777777777777778,
              "#fb9f3a"
             ],
             [
              0.8888888888888888,
              "#fdca26"
             ],
             [
              1,
              "#f0f921"
             ]
            ],
            "type": "heatmapgl"
           }
          ],
          "histogram": [
           {
            "marker": {
             "pattern": {
              "fillmode": "overlay",
              "size": 10,
              "solidity": 0.2
             }
            },
            "type": "histogram"
           }
          ],
          "histogram2d": [
           {
            "colorbar": {
             "outlinewidth": 0,
             "ticks": ""
            },
            "colorscale": [
             [
              0,
              "#0d0887"
             ],
             [
              0.1111111111111111,
              "#46039f"
             ],
             [
              0.2222222222222222,
              "#7201a8"
             ],
             [
              0.3333333333333333,
              "#9c179e"
             ],
             [
              0.4444444444444444,
              "#bd3786"
             ],
             [
              0.5555555555555556,
              "#d8576b"
             ],
             [
              0.6666666666666666,
              "#ed7953"
             ],
             [
              0.7777777777777778,
              "#fb9f3a"
             ],
             [
              0.8888888888888888,
              "#fdca26"
             ],
             [
              1,
              "#f0f921"
             ]
            ],
            "type": "histogram2d"
           }
          ],
          "histogram2dcontour": [
           {
            "colorbar": {
             "outlinewidth": 0,
             "ticks": ""
            },
            "colorscale": [
             [
              0,
              "#0d0887"
             ],
             [
              0.1111111111111111,
              "#46039f"
             ],
             [
              0.2222222222222222,
              "#7201a8"
             ],
             [
              0.3333333333333333,
              "#9c179e"
             ],
             [
              0.4444444444444444,
              "#bd3786"
             ],
             [
              0.5555555555555556,
              "#d8576b"
             ],
             [
              0.6666666666666666,
              "#ed7953"
             ],
             [
              0.7777777777777778,
              "#fb9f3a"
             ],
             [
              0.8888888888888888,
              "#fdca26"
             ],
             [
              1,
              "#f0f921"
             ]
            ],
            "type": "histogram2dcontour"
           }
          ],
          "mesh3d": [
           {
            "colorbar": {
             "outlinewidth": 0,
             "ticks": ""
            },
            "type": "mesh3d"
           }
          ],
          "parcoords": [
           {
            "line": {
             "colorbar": {
              "outlinewidth": 0,
              "ticks": ""
             }
            },
            "type": "parcoords"
           }
          ],
          "pie": [
           {
            "automargin": true,
            "type": "pie"
           }
          ],
          "scatter": [
           {
            "fillpattern": {
             "fillmode": "overlay",
             "size": 10,
             "solidity": 0.2
            },
            "type": "scatter"
           }
          ],
          "scatter3d": [
           {
            "line": {
             "colorbar": {
              "outlinewidth": 0,
              "ticks": ""
             }
            },
            "marker": {
             "colorbar": {
              "outlinewidth": 0,
              "ticks": ""
             }
            },
            "type": "scatter3d"
           }
          ],
          "scattercarpet": [
           {
            "marker": {
             "colorbar": {
              "outlinewidth": 0,
              "ticks": ""
             }
            },
            "type": "scattercarpet"
           }
          ],
          "scattergeo": [
           {
            "marker": {
             "colorbar": {
              "outlinewidth": 0,
              "ticks": ""
             }
            },
            "type": "scattergeo"
           }
          ],
          "scattergl": [
           {
            "marker": {
             "colorbar": {
              "outlinewidth": 0,
              "ticks": ""
             }
            },
            "type": "scattergl"
           }
          ],
          "scattermapbox": [
           {
            "marker": {
             "colorbar": {
              "outlinewidth": 0,
              "ticks": ""
             }
            },
            "type": "scattermapbox"
           }
          ],
          "scatterpolar": [
           {
            "marker": {
             "colorbar": {
              "outlinewidth": 0,
              "ticks": ""
             }
            },
            "type": "scatterpolar"
           }
          ],
          "scatterpolargl": [
           {
            "marker": {
             "colorbar": {
              "outlinewidth": 0,
              "ticks": ""
             }
            },
            "type": "scatterpolargl"
           }
          ],
          "scatterternary": [
           {
            "marker": {
             "colorbar": {
              "outlinewidth": 0,
              "ticks": ""
             }
            },
            "type": "scatterternary"
           }
          ],
          "surface": [
           {
            "colorbar": {
             "outlinewidth": 0,
             "ticks": ""
            },
            "colorscale": [
             [
              0,
              "#0d0887"
             ],
             [
              0.1111111111111111,
              "#46039f"
             ],
             [
              0.2222222222222222,
              "#7201a8"
             ],
             [
              0.3333333333333333,
              "#9c179e"
             ],
             [
              0.4444444444444444,
              "#bd3786"
             ],
             [
              0.5555555555555556,
              "#d8576b"
             ],
             [
              0.6666666666666666,
              "#ed7953"
             ],
             [
              0.7777777777777778,
              "#fb9f3a"
             ],
             [
              0.8888888888888888,
              "#fdca26"
             ],
             [
              1,
              "#f0f921"
             ]
            ],
            "type": "surface"
           }
          ],
          "table": [
           {
            "cells": {
             "fill": {
              "color": "#EBF0F8"
             },
             "line": {
              "color": "white"
             }
            },
            "header": {
             "fill": {
              "color": "#C8D4E3"
             },
             "line": {
              "color": "white"
             }
            },
            "type": "table"
           }
          ]
         },
         "layout": {
          "annotationdefaults": {
           "arrowcolor": "#2a3f5f",
           "arrowhead": 0,
           "arrowwidth": 1
          },
          "autotypenumbers": "strict",
          "coloraxis": {
           "colorbar": {
            "outlinewidth": 0,
            "ticks": ""
           }
          },
          "colorscale": {
           "diverging": [
            [
             0,
             "#8e0152"
            ],
            [
             0.1,
             "#c51b7d"
            ],
            [
             0.2,
             "#de77ae"
            ],
            [
             0.3,
             "#f1b6da"
            ],
            [
             0.4,
             "#fde0ef"
            ],
            [
             0.5,
             "#f7f7f7"
            ],
            [
             0.6,
             "#e6f5d0"
            ],
            [
             0.7,
             "#b8e186"
            ],
            [
             0.8,
             "#7fbc41"
            ],
            [
             0.9,
             "#4d9221"
            ],
            [
             1,
             "#276419"
            ]
           ],
           "sequential": [
            [
             0,
             "#0d0887"
            ],
            [
             0.1111111111111111,
             "#46039f"
            ],
            [
             0.2222222222222222,
             "#7201a8"
            ],
            [
             0.3333333333333333,
             "#9c179e"
            ],
            [
             0.4444444444444444,
             "#bd3786"
            ],
            [
             0.5555555555555556,
             "#d8576b"
            ],
            [
             0.6666666666666666,
             "#ed7953"
            ],
            [
             0.7777777777777778,
             "#fb9f3a"
            ],
            [
             0.8888888888888888,
             "#fdca26"
            ],
            [
             1,
             "#f0f921"
            ]
           ],
           "sequentialminus": [
            [
             0,
             "#0d0887"
            ],
            [
             0.1111111111111111,
             "#46039f"
            ],
            [
             0.2222222222222222,
             "#7201a8"
            ],
            [
             0.3333333333333333,
             "#9c179e"
            ],
            [
             0.4444444444444444,
             "#bd3786"
            ],
            [
             0.5555555555555556,
             "#d8576b"
            ],
            [
             0.6666666666666666,
             "#ed7953"
            ],
            [
             0.7777777777777778,
             "#fb9f3a"
            ],
            [
             0.8888888888888888,
             "#fdca26"
            ],
            [
             1,
             "#f0f921"
            ]
           ]
          },
          "colorway": [
           "#636efa",
           "#EF553B",
           "#00cc96",
           "#ab63fa",
           "#FFA15A",
           "#19d3f3",
           "#FF6692",
           "#B6E880",
           "#FF97FF",
           "#FECB52"
          ],
          "font": {
           "color": "#2a3f5f"
          },
          "geo": {
           "bgcolor": "white",
           "lakecolor": "white",
           "landcolor": "#E5ECF6",
           "showlakes": true,
           "showland": true,
           "subunitcolor": "white"
          },
          "hoverlabel": {
           "align": "left"
          },
          "hovermode": "closest",
          "mapbox": {
           "style": "light"
          },
          "paper_bgcolor": "white",
          "plot_bgcolor": "#E5ECF6",
          "polar": {
           "angularaxis": {
            "gridcolor": "white",
            "linecolor": "white",
            "ticks": ""
           },
           "bgcolor": "#E5ECF6",
           "radialaxis": {
            "gridcolor": "white",
            "linecolor": "white",
            "ticks": ""
           }
          },
          "scene": {
           "xaxis": {
            "backgroundcolor": "#E5ECF6",
            "gridcolor": "white",
            "gridwidth": 2,
            "linecolor": "white",
            "showbackground": true,
            "ticks": "",
            "zerolinecolor": "white"
           },
           "yaxis": {
            "backgroundcolor": "#E5ECF6",
            "gridcolor": "white",
            "gridwidth": 2,
            "linecolor": "white",
            "showbackground": true,
            "ticks": "",
            "zerolinecolor": "white"
           },
           "zaxis": {
            "backgroundcolor": "#E5ECF6",
            "gridcolor": "white",
            "gridwidth": 2,
            "linecolor": "white",
            "showbackground": true,
            "ticks": "",
            "zerolinecolor": "white"
           }
          },
          "shapedefaults": {
           "line": {
            "color": "#2a3f5f"
           }
          },
          "ternary": {
           "aaxis": {
            "gridcolor": "white",
            "linecolor": "white",
            "ticks": ""
           },
           "baxis": {
            "gridcolor": "white",
            "linecolor": "white",
            "ticks": ""
           },
           "bgcolor": "#E5ECF6",
           "caxis": {
            "gridcolor": "white",
            "linecolor": "white",
            "ticks": ""
           }
          },
          "title": {
           "x": 0.05
          },
          "xaxis": {
           "automargin": true,
           "gridcolor": "white",
           "linecolor": "white",
           "ticks": "",
           "title": {
            "standoff": 15
           },
           "zerolinecolor": "white",
           "zerolinewidth": 2
          },
          "yaxis": {
           "automargin": true,
           "gridcolor": "white",
           "linecolor": "white",
           "ticks": "",
           "title": {
            "standoff": 15
           },
           "zerolinecolor": "white",
           "zerolinewidth": 2
          }
         }
        },
        "title": {
         "text": "List of College Tiers and Average Household Income by State"
        }
       }
      }
     },
     "metadata": {},
     "output_type": "display_data"
    }
   ],
   "source": [
    "import pandas as pd\n",
    "import altair as alt\n",
    "import matplotlib.pyplot as plt\n",
    "import plotly.express as px\n",
    "import numpy as np\n",
    "import altair_viewer\n",
    "\n",
    "\n",
    "data = pd.read_csv('college_admissions.csv')\n",
    "\n",
    "\n",
    "'''\n",
    "Interactive Plot 2: Map of Income and College Tier List\n",
    "'''\n",
    "states = {'American University': 'DC', 'Amherst College': 'MA', 'Auburn University': 'AL', 'Barnard College': 'NY', 'Bates College': 'ME', \n",
    "          'Baylor University': 'TX', 'Binghamton University': 'NY', 'Boston College': 'MA', 'Boston University': 'MA', \n",
    "          'Bowdoin College': 'ME', 'Brandeis University': 'MA','Brigham Young University': 'UT', 'Brown University': 'RI', \n",
    "          'Bryn Mawr College': 'PA', 'Bucknell University': 'PA','California Institute of Technology': 'CA', 'Carleton College': 'MN', \n",
    "          'Carnegie Mellon University': 'PA','Case Western Reserve University': 'OH', 'Claremont McKenna College': 'CA', \n",
    "          'Clark University': 'MA', 'Clemson University': 'SC', 'Colby College': 'ME', 'Colgate University': 'NY',\n",
    "          'College of the Holy Cross': 'MA', 'College of William and Mary': 'VA', 'Colorado School of Mines': 'CO',\n",
    "          'Columbia University In The City Of New York': 'NY', 'Connecticut College': 'CT', 'Cornell University': 'NY',\n",
    "          'Dartmouth College': 'NH','Davidson College': 'NC','Duke University': 'NC','Elon University': 'NC','Emory University': 'GA',\n",
    "          'Florida State University': 'FL','Fordham University': 'NY','Franklin & Marshall College': 'PA',\n",
    "          'George Washington University': 'DC', 'Georgetown University': 'DC','Georgia Institute Of Technology': 'GA',\n",
    "          'Gonzaga University': 'WA','Hamilton College': 'NY','Harvard University': 'MA','Haverford College': 'PA',\n",
    "          'Howard University': 'DC','Johns Hopkins University': 'MD','Kenyon College': 'OH','Lafayette College': 'PA',\n",
    "          'Lehigh University': 'PA','Loyola Marymount University': 'CA','Macalester College': 'MN','Marquette University': 'WI',\n",
    "          'Massachusetts Institute Of Technology': 'MA','Michigan State University': 'MI','Middlebury College': 'VT', \n",
    "          'New York University': 'NY','North Carolina State University': 'NC','Northeastern University': 'MA',\n",
    "          'Northwestern University': 'IL','Oberlin College': 'OH','Occidental College': 'CA','Ohio State University': 'OH',\n",
    "          'Pepperdine University': 'CA','Pomona College': 'CA','Princeton University': 'NJ','Purdue University': 'IN',\n",
    "          'Reed College': 'OR','Rensselaer Polytechnic Institute': 'NY','Rice University': 'TX','Rutgers, The State University Of New Jersey': 'NJ',\n",
    "          'Santa Clara University': 'CA','Scripps College': 'CA','Southern Methodist University': 'TX','Stanford University': 'CA',\n",
    "          'State University Of New York At Buffalo': 'NY','State University Of New York At Stony Brook': 'NY','Swarthmore College': 'PA',\n",
    "          'Syracuse University': 'NY','Texas A&M University': 'TX','Texas Christian University': 'TX','Trinity College of Hartford, CT': 'CT',\n",
    "          'Tufts University': 'MA','University Of Alabama': 'AL','University Of Arkansas': 'AK','University Of California, Berkeley': 'CA',\n",
    "          'University Of California, Davis': 'CA','University Of California, Irvine': 'CA',\n",
    "          'University Of California, Los Angeles': 'CA','University Of California, Riverside': 'CA',\n",
    "          'University Of California, San Diego': 'CA','University Of California, Santa Barbara': 'CA','University Of California, Santa Cruz': 'CA',\n",
    "          'University Of Chicago': 'IL','University Of Connecticut': 'CT','University Of Delaware': 'DE',\n",
    "          'University Of Florida': 'FL','University Of Georgia': 'GA','University Of Idaho': 'ID','University Of Iowa': 'IA',\n",
    "          'University Of Kansas': 'KS','University Of Kentucky': 'KY','University Of Miami': 'FL',\n",
    "          'University Of Michigan - Ann Arbor': 'MI','University Of Mississippi': 'MS','University Of Montana': 'MO',\n",
    "          'University Of Nevada, Reno': 'NV','University Of New Hampshire': 'NH','University Of New Mexico': 'NM',\n",
    "          'University Of North Carolina - Chapel Hill': 'NC','University Of North Dakota': 'ND',\n",
    "          'University Of Notre Dame': 'IN','University Of Oklahoma': 'OK','University Of Oregon': 'OR',\n",
    "          'University Of Pennsylvania': 'Pennsylvania','University Of Pittsburgh System': 'Pennsylvania','University Of Rhode Island': 'Rhode Island',\n",
    "          'University Of Richmond': 'VA','University Of Rochester': 'NY','University Of South Florida': 'FL',\n",
    "          'University Of Southern California': 'CA','University Of Texas At Austin': 'TX','University Of Utah': 'UT',\n",
    "          'University Of Virginia': 'VA','University Of Wyoming': 'WY','Vanderbilt University': 'TN','Vassar College': 'NY',\n",
    "          'Villanova University': 'PN','Virginia Polytechnic Institute & State University': 'VA',\n",
    "          'Wake Forest University': 'NC','Washington And Lee University': 'VA','Washington University In St. Louis': 'MO',\n",
    "          'Wellesley College': 'MA','Wesleyan University': 'CT','Whitman College': 'WA', 'Williams College': 'MA',\n",
    "          'Worcester Polytechnic Institute': 'MA','Yale University': 'CT','Yeshiva University': 'NY'}\n",
    "\n",
    "# add states column\n",
    "states = pd.DataFrame(states.items(), columns = ['name', 'state'])\n",
    "data = data.merge(states, on='name')\n",
    "\n",
    "# read in income data\n",
    "income = pd.read_csv('MedianHouseholdIncome2015.csv', encoding = 'latin1')\n",
    "\n",
    "income['Median Income'] = pd.to_numeric(income['Median Income'], errors='coerce')\n",
    "\n",
    "# add ccolumn for average income by state\n",
    "avg_inc = income.groupby('Geographic Area')['Median Income'].mean()\n",
    "incomedf = pd.DataFrame(avg_inc.items(), columns = ['state', 'avg_inc'])\n",
    "\n",
    "data = data.merge(incomedf, on='state')\n",
    "\n",
    "# add column of list of tiers by state\n",
    "tier_ls = data.groupby('state')['tier'].unique()\n",
    "tier_df = pd.DataFrame({'state':tier_ls.index, 'list':tier_ls.values})\n",
    "\n",
    "data = data.merge(tier_df, on = 'state')\n",
    "\n",
    "# plot\n",
    "fig = px.choropleth(\n",
    "    data, \n",
    "    locations = \"state\",\n",
    "    locationmode = 'USA-states',\n",
    "    scope = 'usa',\n",
    "    color = 'avg_inc', \n",
    "    hover_name = 'state', \n",
    "    hover_data = 'list',\n",
    "    color_continuous_scale= 'Viridis'\n",
    ")\n",
    "fig.update_layout(title_text='List of College Tiers and Average Household Income by State')\n",
    "\n",
    "# Save the plot to an HTML file\n",
    "fig.write_html(\"map.html\")\n",
    "\n",
    "fig.show()"
   ]
  },
  {
   "cell_type": "code",
   "execution_count": 10,
   "id": "6c749819-e6ce-41ee-8fb6-063969ed222b",
   "metadata": {},
   "outputs": [
    {
     "name": "stderr",
     "output_type": "stream",
     "text": [
      "/opt/anaconda3/lib/python3.12/site-packages/altair/utils/core.py:395: FutureWarning:\n",
      "\n",
      "the convert_dtype parameter is deprecated and will be removed in a future version.  Do ``ser.astype(object).apply()`` instead if you want ``convert_dtype=False``.\n",
      "\n",
      "/opt/anaconda3/lib/python3.12/site-packages/altair/utils/core.py:395: FutureWarning:\n",
      "\n",
      "the convert_dtype parameter is deprecated and will be removed in a future version.  Do ``ser.astype(object).apply()`` instead if you want ``convert_dtype=False``.\n",
      "\n",
      "/opt/anaconda3/lib/python3.12/site-packages/altair/utils/core.py:395: FutureWarning:\n",
      "\n",
      "the convert_dtype parameter is deprecated and will be removed in a future version.  Do ``ser.astype(object).apply()`` instead if you want ``convert_dtype=False``.\n",
      "\n",
      "/opt/anaconda3/lib/python3.12/site-packages/altair/utils/core.py:395: FutureWarning:\n",
      "\n",
      "the convert_dtype parameter is deprecated and will be removed in a future version.  Do ``ser.astype(object).apply()`` instead if you want ``convert_dtype=False``.\n",
      "\n",
      "/opt/anaconda3/lib/python3.12/site-packages/altair/utils/core.py:395: FutureWarning:\n",
      "\n",
      "the convert_dtype parameter is deprecated and will be removed in a future version.  Do ``ser.astype(object).apply()`` instead if you want ``convert_dtype=False``.\n",
      "\n",
      "/opt/anaconda3/lib/python3.12/site-packages/altair/utils/core.py:395: FutureWarning:\n",
      "\n",
      "the convert_dtype parameter is deprecated and will be removed in a future version.  Do ``ser.astype(object).apply()`` instead if you want ``convert_dtype=False``.\n",
      "\n",
      "/opt/anaconda3/lib/python3.12/site-packages/altair/utils/core.py:395: FutureWarning:\n",
      "\n",
      "the convert_dtype parameter is deprecated and will be removed in a future version.  Do ``ser.astype(object).apply()`` instead if you want ``convert_dtype=False``.\n",
      "\n",
      "/opt/anaconda3/lib/python3.12/site-packages/altair/utils/core.py:395: FutureWarning:\n",
      "\n",
      "the convert_dtype parameter is deprecated and will be removed in a future version.  Do ``ser.astype(object).apply()`` instead if you want ``convert_dtype=False``.\n",
      "\n",
      "/opt/anaconda3/lib/python3.12/site-packages/altair/utils/core.py:395: FutureWarning:\n",
      "\n",
      "the convert_dtype parameter is deprecated and will be removed in a future version.  Do ``ser.astype(object).apply()`` instead if you want ``convert_dtype=False``.\n",
      "\n",
      "/opt/anaconda3/lib/python3.12/site-packages/altair/utils/core.py:395: FutureWarning:\n",
      "\n",
      "the convert_dtype parameter is deprecated and will be removed in a future version.  Do ``ser.astype(object).apply()`` instead if you want ``convert_dtype=False``.\n",
      "\n",
      "/opt/anaconda3/lib/python3.12/site-packages/altair/utils/core.py:395: FutureWarning:\n",
      "\n",
      "the convert_dtype parameter is deprecated and will be removed in a future version.  Do ``ser.astype(object).apply()`` instead if you want ``convert_dtype=False``.\n",
      "\n",
      "/opt/anaconda3/lib/python3.12/site-packages/altair/utils/core.py:395: FutureWarning:\n",
      "\n",
      "the convert_dtype parameter is deprecated and will be removed in a future version.  Do ``ser.astype(object).apply()`` instead if you want ``convert_dtype=False``.\n",
      "\n"
     ]
    },
    {
     "ename": "NoMatchingVersions",
     "evalue": "No matches for version='5.8.0' among ['4.0.2', '4.8.1', '4.17.0'].\nOften this can be fixed by updating altair_viewer:\n    pip install -U altair_viewer",
     "output_type": "error",
     "traceback": [
      "\u001b[0;31m---------------------------------------------------------------------------\u001b[0m",
      "\u001b[0;31mNoMatchingVersions\u001b[0m                        Traceback (most recent call last)",
      "Cell \u001b[0;32mIn[10], line 25\u001b[0m\n\u001b[1;32m     16\u001b[0m scattertier \u001b[38;5;241m=\u001b[39m alt\u001b[38;5;241m.\u001b[39mChart(data)\u001b[38;5;241m.\u001b[39mmark_point()\u001b[38;5;241m.\u001b[39mencode(\n\u001b[1;32m     17\u001b[0m     alt\u001b[38;5;241m.\u001b[39mY(\u001b[38;5;124m'\u001b[39m\u001b[38;5;124mrel_apply:Q\u001b[39m\u001b[38;5;124m'\u001b[39m, title \u001b[38;5;241m=\u001b[39m \u001b[38;5;124m'\u001b[39m\u001b[38;5;124mApplication Rate\u001b[39m\u001b[38;5;124m'\u001b[39m, scale\u001b[38;5;241m=\u001b[39malt\u001b[38;5;241m.\u001b[39mScale(domain\u001b[38;5;241m=\u001b[39m[data[\u001b[38;5;124m'\u001b[39m\u001b[38;5;124mrel_apply\u001b[39m\u001b[38;5;124m'\u001b[39m]\u001b[38;5;241m.\u001b[39mmin(), data[\u001b[38;5;124m'\u001b[39m\u001b[38;5;124mrel_apply\u001b[39m\u001b[38;5;124m'\u001b[39m]\u001b[38;5;241m.\u001b[39mmax()])),\n\u001b[1;32m     18\u001b[0m     alt\u001b[38;5;241m.\u001b[39mX(\u001b[38;5;124m'\u001b[39m\u001b[38;5;124mpar_income_bin:N\u001b[39m\u001b[38;5;124m'\u001b[39m, title \u001b[38;5;241m=\u001b[39m \u001b[38;5;124m'\u001b[39m\u001b[38;5;124mIncome Bracket\u001b[39m\u001b[38;5;124m'\u001b[39m),\n\u001b[0;32m   (...)\u001b[0m\n\u001b[1;32m     21\u001b[0m )\u001b[38;5;241m.\u001b[39mproperties(title \u001b[38;5;241m=\u001b[39m \u001b[38;5;124m'\u001b[39m\u001b[38;5;124mApplication Rate and Income Bin\u001b[39m\u001b[38;5;124m'\u001b[39m, width \u001b[38;5;241m=\u001b[39m \u001b[38;5;241m500\u001b[39m, height \u001b[38;5;241m=\u001b[39m \u001b[38;5;241m500\u001b[39m)\u001b[38;5;241m.\u001b[39madd_params(\n\u001b[1;32m     22\u001b[0m     selection)\u001b[38;5;241m.\u001b[39mtransform_filter(selection)\n\u001b[1;32m     24\u001b[0m scattertier\u001b[38;5;241m.\u001b[39msave(\u001b[38;5;124m'\u001b[39m\u001b[38;5;124mscattertier.html\u001b[39m\u001b[38;5;124m'\u001b[39m)\n\u001b[0;32m---> 25\u001b[0m scattertier\u001b[38;5;241m.\u001b[39mshow()\n",
      "File \u001b[0;32m/opt/anaconda3/lib/python3.12/site-packages/altair/vegalite/v5/api.py:2280\u001b[0m, in \u001b[0;36mTopLevelMixin.show\u001b[0;34m(self, embed_opt, open_browser)\u001b[0m\n\u001b[1;32m   2275\u001b[0m \u001b[38;5;28;01mexcept\u001b[39;00m \u001b[38;5;167;01mImportError\u001b[39;00m \u001b[38;5;28;01mas\u001b[39;00m err:\n\u001b[1;32m   2276\u001b[0m     \u001b[38;5;28;01mraise\u001b[39;00m \u001b[38;5;167;01mValueError\u001b[39;00m(\n\u001b[1;32m   2277\u001b[0m         \u001b[38;5;124m\"\u001b[39m\u001b[38;5;124m'\u001b[39m\u001b[38;5;124mshow\u001b[39m\u001b[38;5;124m'\u001b[39m\u001b[38;5;124m method requires the altair_viewer package. \u001b[39m\u001b[38;5;124m\"\u001b[39m\n\u001b[1;32m   2278\u001b[0m         \u001b[38;5;124m\"\u001b[39m\u001b[38;5;124mSee http://github.com/altair-viz/altair_viewer\u001b[39m\u001b[38;5;124m\"\u001b[39m\n\u001b[1;32m   2279\u001b[0m     ) \u001b[38;5;28;01mfrom\u001b[39;00m \u001b[38;5;21;01merr\u001b[39;00m\n\u001b[0;32m-> 2280\u001b[0m altair_viewer\u001b[38;5;241m.\u001b[39mshow(\u001b[38;5;28mself\u001b[39m, embed_opt\u001b[38;5;241m=\u001b[39membed_opt, open_browser\u001b[38;5;241m=\u001b[39mopen_browser)\n",
      "File \u001b[0;32m/opt/anaconda3/lib/python3.12/site-packages/altair_viewer/_viewer.py:355\u001b[0m, in \u001b[0;36mChartViewer.show\u001b[0;34m(self, chart, embed_opt, open_browser)\u001b[0m\n\u001b[1;32m    328\u001b[0m \u001b[38;5;28;01mdef\u001b[39;00m \u001b[38;5;21mshow\u001b[39m(\n\u001b[1;32m    329\u001b[0m     \u001b[38;5;28mself\u001b[39m,\n\u001b[1;32m    330\u001b[0m     chart: Union[\u001b[38;5;28mdict\u001b[39m, alt\u001b[38;5;241m.\u001b[39mTopLevelMixin],\n\u001b[1;32m    331\u001b[0m     embed_opt: Optional[\u001b[38;5;28mdict\u001b[39m] \u001b[38;5;241m=\u001b[39m \u001b[38;5;28;01mNone\u001b[39;00m,\n\u001b[1;32m    332\u001b[0m     open_browser: Optional[\u001b[38;5;28mbool\u001b[39m] \u001b[38;5;241m=\u001b[39m \u001b[38;5;28;01mNone\u001b[39;00m,\n\u001b[1;32m    333\u001b[0m ) \u001b[38;5;241m-\u001b[39m\u001b[38;5;241m>\u001b[39m \u001b[38;5;28;01mNone\u001b[39;00m:\n\u001b[1;32m    334\u001b[0m \u001b[38;5;250m    \u001b[39m\u001b[38;5;124;03m\"\"\"Show chart and prompt to pause execution.\u001b[39;00m\n\u001b[1;32m    335\u001b[0m \n\u001b[1;32m    336\u001b[0m \u001b[38;5;124;03m    Use this to show a chart within a stand-alone script, to prevent the Python process\u001b[39;00m\n\u001b[0;32m   (...)\u001b[0m\n\u001b[1;32m    353\u001b[0m \u001b[38;5;124;03m    render : Jupyter renderer for chart.\u001b[39;00m\n\u001b[1;32m    354\u001b[0m \u001b[38;5;124;03m    \"\"\"\u001b[39;00m\n\u001b[0;32m--> 355\u001b[0m     msg \u001b[38;5;241m=\u001b[39m \u001b[38;5;28mself\u001b[39m\u001b[38;5;241m.\u001b[39mdisplay(chart, embed_opt\u001b[38;5;241m=\u001b[39membed_opt, open_browser\u001b[38;5;241m=\u001b[39mopen_browser)\n\u001b[1;32m    356\u001b[0m     \u001b[38;5;28mprint\u001b[39m(msg)\n\u001b[1;32m    357\u001b[0m     \u001b[38;5;28;01mif\u001b[39;00m \u001b[38;5;28mself\u001b[39m\u001b[38;5;241m.\u001b[39m_provider \u001b[38;5;129;01mis\u001b[39;00m \u001b[38;5;129;01mnot\u001b[39;00m \u001b[38;5;28;01mNone\u001b[39;00m:\n",
      "File \u001b[0;32m/opt/anaconda3/lib/python3.12/site-packages/altair_viewer/_viewer.py:266\u001b[0m, in \u001b[0;36mChartViewer.display\u001b[0;34m(self, chart, inline, embed_opt, open_browser)\u001b[0m\n\u001b[1;32m    264\u001b[0m     chart \u001b[38;5;241m=\u001b[39m chart\u001b[38;5;241m.\u001b[39mto_dict()\n\u001b[1;32m    265\u001b[0m \u001b[38;5;28;01massert\u001b[39;00m \u001b[38;5;28misinstance\u001b[39m(chart, \u001b[38;5;28mdict\u001b[39m)\n\u001b[0;32m--> 266\u001b[0m \u001b[38;5;28mself\u001b[39m\u001b[38;5;241m.\u001b[39m_initialize()\n\u001b[1;32m    267\u001b[0m \u001b[38;5;28;01mif\u001b[39;00m \u001b[38;5;28mself\u001b[39m\u001b[38;5;241m.\u001b[39m_stream \u001b[38;5;129;01mis\u001b[39;00m \u001b[38;5;28;01mNone\u001b[39;00m:\n\u001b[1;32m    268\u001b[0m     \u001b[38;5;28;01mraise\u001b[39;00m \u001b[38;5;167;01mRuntimeError\u001b[39;00m(\u001b[38;5;124m\"\u001b[39m\u001b[38;5;124mInternal: _stream is not defined.\u001b[39m\u001b[38;5;124m\"\u001b[39m)\n",
      "File \u001b[0;32m/opt/anaconda3/lib/python3.12/site-packages/altair_viewer/_viewer.py:183\u001b[0m, in \u001b[0;36mChartViewer._initialize\u001b[0;34m(self)\u001b[0m\n\u001b[1;32m    180\u001b[0m \u001b[38;5;28;01mif\u001b[39;00m \u001b[38;5;28mself\u001b[39m\u001b[38;5;241m.\u001b[39m_use_bundled_js:\n\u001b[1;32m    181\u001b[0m     \u001b[38;5;28;01mfor\u001b[39;00m package \u001b[38;5;129;01min\u001b[39;00m [\u001b[38;5;124m\"\u001b[39m\u001b[38;5;124mvega\u001b[39m\u001b[38;5;124m\"\u001b[39m, \u001b[38;5;124m\"\u001b[39m\u001b[38;5;124mvega-lite\u001b[39m\u001b[38;5;124m\"\u001b[39m, \u001b[38;5;124m\"\u001b[39m\u001b[38;5;124mvega-embed\u001b[39m\u001b[38;5;124m\"\u001b[39m]:\n\u001b[1;32m    182\u001b[0m         \u001b[38;5;28mself\u001b[39m\u001b[38;5;241m.\u001b[39m_resources[package] \u001b[38;5;241m=\u001b[39m \u001b[38;5;28mself\u001b[39m\u001b[38;5;241m.\u001b[39m_provider\u001b[38;5;241m.\u001b[39mcreate(\n\u001b[0;32m--> 183\u001b[0m             content\u001b[38;5;241m=\u001b[39mget_bundled_script(\n\u001b[1;32m    184\u001b[0m                 package, \u001b[38;5;28mself\u001b[39m\u001b[38;5;241m.\u001b[39m_versions\u001b[38;5;241m.\u001b[39mget(package)\n\u001b[1;32m    185\u001b[0m             ),\n\u001b[1;32m    186\u001b[0m             route\u001b[38;5;241m=\u001b[39m\u001b[38;5;124mf\u001b[39m\u001b[38;5;124m\"\u001b[39m\u001b[38;5;124mscripts/\u001b[39m\u001b[38;5;132;01m{\u001b[39;00mpackage\u001b[38;5;132;01m}\u001b[39;00m\u001b[38;5;124m.js\u001b[39m\u001b[38;5;124m\"\u001b[39m,\n\u001b[1;32m    187\u001b[0m         )\n\u001b[1;32m    189\u001b[0m favicon \u001b[38;5;241m=\u001b[39m pkgutil\u001b[38;5;241m.\u001b[39mget_data(\u001b[38;5;124m\"\u001b[39m\u001b[38;5;124maltair_viewer\u001b[39m\u001b[38;5;124m\"\u001b[39m, \u001b[38;5;124m\"\u001b[39m\u001b[38;5;124mstatic/favicon.ico\u001b[39m\u001b[38;5;124m\"\u001b[39m)\n\u001b[1;32m    190\u001b[0m \u001b[38;5;28;01mif\u001b[39;00m favicon \u001b[38;5;129;01mis\u001b[39;00m \u001b[38;5;129;01mnot\u001b[39;00m \u001b[38;5;28;01mNone\u001b[39;00m:\n",
      "File \u001b[0;32m/opt/anaconda3/lib/python3.12/site-packages/altair_viewer/_scripts.py:40\u001b[0m, in \u001b[0;36mget_bundled_script\u001b[0;34m(package, version)\u001b[0m\n\u001b[1;32m     36\u001b[0m \u001b[38;5;28;01mif\u001b[39;00m package \u001b[38;5;129;01mnot\u001b[39;00m \u001b[38;5;129;01min\u001b[39;00m listing:\n\u001b[1;32m     37\u001b[0m     \u001b[38;5;28;01mraise\u001b[39;00m \u001b[38;5;167;01mValueError\u001b[39;00m(\n\u001b[1;32m     38\u001b[0m         \u001b[38;5;124mf\u001b[39m\u001b[38;5;124m\"\u001b[39m\u001b[38;5;124mpackage \u001b[39m\u001b[38;5;132;01m{\u001b[39;00mpackage\u001b[38;5;132;01m!r}\u001b[39;00m\u001b[38;5;124m not recognized. Available: \u001b[39m\u001b[38;5;132;01m{\u001b[39;00m\u001b[38;5;28mlist\u001b[39m(listing)\u001b[38;5;132;01m}\u001b[39;00m\u001b[38;5;124m\"\u001b[39m\n\u001b[1;32m     39\u001b[0m     )\n\u001b[0;32m---> 40\u001b[0m version_str \u001b[38;5;241m=\u001b[39m find_version(version, listing[package])\n\u001b[1;32m     41\u001b[0m path \u001b[38;5;241m=\u001b[39m \u001b[38;5;124mf\u001b[39m\u001b[38;5;124m\"\u001b[39m\u001b[38;5;124mscripts/\u001b[39m\u001b[38;5;132;01m{\u001b[39;00mpackage\u001b[38;5;132;01m}\u001b[39;00m\u001b[38;5;124m-\u001b[39m\u001b[38;5;132;01m{\u001b[39;00mversion_str\u001b[38;5;132;01m}\u001b[39;00m\u001b[38;5;124m.js\u001b[39m\u001b[38;5;124m\"\u001b[39m\n\u001b[1;32m     42\u001b[0m content \u001b[38;5;241m=\u001b[39m pkgutil\u001b[38;5;241m.\u001b[39mget_data(\u001b[38;5;124m\"\u001b[39m\u001b[38;5;124maltair_viewer\u001b[39m\u001b[38;5;124m\"\u001b[39m, path)\n",
      "File \u001b[0;32m/opt/anaconda3/lib/python3.12/site-packages/altair_viewer/_utils.py:212\u001b[0m, in \u001b[0;36mfind_version\u001b[0;34m(version, candidates, strict_micro)\u001b[0m\n\u001b[1;32m    210\u001b[0m matches \u001b[38;5;241m=\u001b[39m [c \u001b[38;5;28;01mfor\u001b[39;00m c \u001b[38;5;129;01min\u001b[39;00m cand \u001b[38;5;28;01mif\u001b[39;00m v\u001b[38;5;241m.\u001b[39mmatches(c)]\n\u001b[1;32m    211\u001b[0m \u001b[38;5;28;01mif\u001b[39;00m \u001b[38;5;129;01mnot\u001b[39;00m matches:\n\u001b[0;32m--> 212\u001b[0m     \u001b[38;5;28;01mraise\u001b[39;00m NoMatchingVersions(\n\u001b[1;32m    213\u001b[0m         \u001b[38;5;124mf\u001b[39m\u001b[38;5;124m\"\u001b[39m\u001b[38;5;124mNo matches for version=\u001b[39m\u001b[38;5;132;01m{\u001b[39;00mversion\u001b[38;5;132;01m!r}\u001b[39;00m\u001b[38;5;124m among \u001b[39m\u001b[38;5;132;01m{\u001b[39;00mcandidates\u001b[38;5;132;01m}\u001b[39;00m\u001b[38;5;124m.\u001b[39m\u001b[38;5;130;01m\\n\u001b[39;00m\u001b[38;5;124m\"\u001b[39m\n\u001b[1;32m    214\u001b[0m         \u001b[38;5;124m\"\u001b[39m\u001b[38;5;124mOften this can be fixed by updating altair_viewer:\u001b[39m\u001b[38;5;130;01m\\n\u001b[39;00m\u001b[38;5;124m\"\u001b[39m\n\u001b[1;32m    215\u001b[0m         \u001b[38;5;124m\"\u001b[39m\u001b[38;5;124m    pip install -U altair_viewer\u001b[39m\u001b[38;5;124m\"\u001b[39m\n\u001b[1;32m    216\u001b[0m     )\n\u001b[1;32m    217\u001b[0m \u001b[38;5;28;01mreturn\u001b[39;00m \u001b[38;5;28mstr\u001b[39m(matches[\u001b[38;5;241m-\u001b[39m\u001b[38;5;241m1\u001b[39m])\n",
      "\u001b[0;31mNoMatchingVersions\u001b[0m: No matches for version='5.8.0' among ['4.0.2', '4.8.1', '4.17.0'].\nOften this can be fixed by updating altair_viewer:\n    pip install -U altair_viewer"
     ]
    }
   ],
   "source": [
    "'''\n",
    "Interactive Visualization 1: Interactive Scatterplot\n",
    "    Plots different tiers of colleges against income bin of attendees, allows users to examine each specific tier on its own.\n",
    "'''\n",
    "\n",
    "options = [None, 'Highly selective private', 'Highly selective public', 'Ivy Plus', 'Other elite schools (public and private)', \n",
    "           'Selective private', 'Selective public']\n",
    "labels = ['All', 'Highly selective private', 'Highly selective public', 'Ivy Plus', 'Other elite schools (public and private)', \n",
    "           'Selective private', 'Selective public']\n",
    "\n",
    "# selection options\n",
    "input_radio = alt.binding_radio(options = options, labels = labels, name = 'School Tier: ')\n",
    "selection = alt.selection_point(fields = ['tier'], bind = input_radio)\n",
    "\n",
    "#plot\n",
    "scattertier = alt.Chart(data).mark_point().encode(\n",
    "    alt.Y('rel_apply:Q', title = 'Application Rate', scale=alt.Scale(domain=[data['rel_apply'].min(), data['rel_apply'].max()])),\n",
    "    alt.X('par_income_bin:N', title = 'Income Bracket'),\n",
    "    alt.Color('tier'),\n",
    "    alt.Tooltip(['tier', 'par_income_bin'])\n",
    ").properties(title = 'Application Rate and Income Bin', width = 500, height = 500).add_params(\n",
    "    selection).transform_filter(selection)\n",
    "\n",
    "scattertier.save('scattertier.html')\n",
    "\n"
   ]
  },
  {
   "cell_type": "code",
   "execution_count": 5,
   "id": "06118f74-850f-4eb7-a210-6919a735f5d2",
   "metadata": {},
   "outputs": [
    {
     "name": "stderr",
     "output_type": "stream",
     "text": [
      "/opt/anaconda3/lib/python3.12/site-packages/altair/utils/core.py:395: FutureWarning:\n",
      "\n",
      "the convert_dtype parameter is deprecated and will be removed in a future version.  Do ``ser.astype(object).apply()`` instead if you want ``convert_dtype=False``.\n",
      "\n",
      "/opt/anaconda3/lib/python3.12/site-packages/altair/utils/core.py:395: FutureWarning:\n",
      "\n",
      "the convert_dtype parameter is deprecated and will be removed in a future version.  Do ``ser.astype(object).apply()`` instead if you want ``convert_dtype=False``.\n",
      "\n",
      "/opt/anaconda3/lib/python3.12/site-packages/altair/utils/core.py:395: FutureWarning:\n",
      "\n",
      "the convert_dtype parameter is deprecated and will be removed in a future version.  Do ``ser.astype(object).apply()`` instead if you want ``convert_dtype=False``.\n",
      "\n",
      "/opt/anaconda3/lib/python3.12/site-packages/altair/utils/core.py:395: FutureWarning:\n",
      "\n",
      "the convert_dtype parameter is deprecated and will be removed in a future version.  Do ``ser.astype(object).apply()`` instead if you want ``convert_dtype=False``.\n",
      "\n",
      "/opt/anaconda3/lib/python3.12/site-packages/altair/utils/core.py:395: FutureWarning:\n",
      "\n",
      "the convert_dtype parameter is deprecated and will be removed in a future version.  Do ``ser.astype(object).apply()`` instead if you want ``convert_dtype=False``.\n",
      "\n",
      "/opt/anaconda3/lib/python3.12/site-packages/altair/utils/core.py:395: FutureWarning:\n",
      "\n",
      "the convert_dtype parameter is deprecated and will be removed in a future version.  Do ``ser.astype(object).apply()`` instead if you want ``convert_dtype=False``.\n",
      "\n"
     ]
    },
    {
     "ename": "ValueError",
     "evalue": "'show' method requires the altair_viewer package. See http://github.com/altair-viz/altair_viewer",
     "output_type": "error",
     "traceback": [
      "\u001b[0;31m---------------------------------------------------------------------------\u001b[0m",
      "\u001b[0;31mModuleNotFoundError\u001b[0m                       Traceback (most recent call last)",
      "File \u001b[0;32m/opt/anaconda3/lib/python3.12/site-packages/altair/vegalite/v5/api.py:2274\u001b[0m, in \u001b[0;36mTopLevelMixin.show\u001b[0;34m(self, embed_opt, open_browser)\u001b[0m\n\u001b[1;32m   2273\u001b[0m \u001b[38;5;28;01mtry\u001b[39;00m:\n\u001b[0;32m-> 2274\u001b[0m     \u001b[38;5;28;01mimport\u001b[39;00m \u001b[38;5;21;01maltair_viewer\u001b[39;00m  \u001b[38;5;66;03m# type: ignore\u001b[39;00m\n\u001b[1;32m   2275\u001b[0m \u001b[38;5;28;01mexcept\u001b[39;00m \u001b[38;5;167;01mImportError\u001b[39;00m \u001b[38;5;28;01mas\u001b[39;00m err:\n",
      "\u001b[0;31mModuleNotFoundError\u001b[0m: No module named 'altair_viewer'",
      "\nThe above exception was the direct cause of the following exception:\n",
      "\u001b[0;31mValueError\u001b[0m                                Traceback (most recent call last)",
      "Cell \u001b[0;32mIn[5], line 18\u001b[0m\n\u001b[1;32m     16\u001b[0m state_attend_plot \u001b[38;5;241m=\u001b[39m instate \u001b[38;5;241m|\u001b[39m oostate\n\u001b[1;32m     17\u001b[0m state_attend_plot\u001b[38;5;241m.\u001b[39msave(\u001b[38;5;124m'\u001b[39m\u001b[38;5;124mstate_attend_plot.html\u001b[39m\u001b[38;5;124m'\u001b[39m)\n\u001b[0;32m---> 18\u001b[0m state_attend_plot\u001b[38;5;241m.\u001b[39mshow()\n",
      "File \u001b[0;32m/opt/anaconda3/lib/python3.12/site-packages/altair/vegalite/v5/api.py:2276\u001b[0m, in \u001b[0;36mTopLevelMixin.show\u001b[0;34m(self, embed_opt, open_browser)\u001b[0m\n\u001b[1;32m   2274\u001b[0m     \u001b[38;5;28;01mimport\u001b[39;00m \u001b[38;5;21;01maltair_viewer\u001b[39;00m  \u001b[38;5;66;03m# type: ignore\u001b[39;00m\n\u001b[1;32m   2275\u001b[0m \u001b[38;5;28;01mexcept\u001b[39;00m \u001b[38;5;167;01mImportError\u001b[39;00m \u001b[38;5;28;01mas\u001b[39;00m err:\n\u001b[0;32m-> 2276\u001b[0m     \u001b[38;5;28;01mraise\u001b[39;00m \u001b[38;5;167;01mValueError\u001b[39;00m(\n\u001b[1;32m   2277\u001b[0m         \u001b[38;5;124m\"\u001b[39m\u001b[38;5;124m'\u001b[39m\u001b[38;5;124mshow\u001b[39m\u001b[38;5;124m'\u001b[39m\u001b[38;5;124m method requires the altair_viewer package. \u001b[39m\u001b[38;5;124m\"\u001b[39m\n\u001b[1;32m   2278\u001b[0m         \u001b[38;5;124m\"\u001b[39m\u001b[38;5;124mSee http://github.com/altair-viz/altair_viewer\u001b[39m\u001b[38;5;124m\"\u001b[39m\n\u001b[1;32m   2279\u001b[0m     ) \u001b[38;5;28;01mfrom\u001b[39;00m \u001b[38;5;21;01merr\u001b[39;00m\n\u001b[1;32m   2280\u001b[0m altair_viewer\u001b[38;5;241m.\u001b[39mshow(\u001b[38;5;28mself\u001b[39m, embed_opt\u001b[38;5;241m=\u001b[39membed_opt, open_browser\u001b[38;5;241m=\u001b[39mopen_browser)\n",
      "\u001b[0;31mValueError\u001b[0m: 'show' method requires the altair_viewer package. See http://github.com/altair-viz/altair_viewer"
     ]
    }
   ],
   "source": [
    "'''\n",
    "Static Plot 1: In and Out of State Bar Graphs\n",
    "    Compares income bracket with attendance to universities in state vs out of state\n",
    "'''\n",
    "instate = alt.Chart(data).mark_bar(color='#4E79A7').encode(\n",
    "    alt.X('par_income_bin:N', title = 'Income Bracket (percentage)'),\n",
    "    alt.Y('attend_instate:Q', title = 'Attendance Rate')\n",
    ").properties(title = 'Income Bracket and In State Attendance')\n",
    "\n",
    "oostate = alt.Chart(data).mark_bar(color='#F28E2B').encode(\n",
    "    alt.X('par_income_bin:N', title = 'Income Bracket (percentage)'),\n",
    "    alt.Y('attend_oostate:Q', title = 'Attendance Rate')\n",
    ").properties(title = 'Income Bracket and Out of State Attendance')\n",
    "\n",
    "# plot next to each other\n",
    "state_attend_plot = instate | oostate\n",
    "state_attend_plot.save('state_attend_plot.html')\n"
   ]
  }
 ],
 "metadata": {
  "kernelspec": {
   "display_name": "Python 3 (ipykernel)",
   "language": "python",
   "name": "python3"
  },
  "language_info": {
   "codemirror_mode": {
    "name": "ipython",
    "version": 3
   },
   "file_extension": ".py",
   "mimetype": "text/x-python",
   "name": "python",
   "nbconvert_exporter": "python",
   "pygments_lexer": "ipython3",
   "version": "3.12.4"
  }
 },
 "nbformat": 4,
 "nbformat_minor": 5
}
